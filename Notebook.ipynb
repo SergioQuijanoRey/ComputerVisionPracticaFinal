{
 "cells": [
  {
   "cell_type": "markdown",
   "id": "23ef89e1",
   "metadata": {
    "id": "5a81f04a-501e-4edc-8376-2b212f058640",
    "tags": []
   },
   "source": [
    "# Parámetros globales del *Notebook*"
   ]
  },
  {
   "cell_type": "code",
   "execution_count": 12,
   "id": "c8cc3fb4",
   "metadata": {
    "id": "dafe6cb7-f4e8-4aa1-8368-19c0bf273dac"
   },
   "outputs": [],
   "source": [
    "# Para definir los path\n",
    "import os\n",
    "\n",
    "# Define si estamos ejecutando el Notebook en nuestro \n",
    "# ordenador (\"local\") o en Google Colab (\"remote\")\n",
    "RUNNING_ENV = \"local\"\n",
    "\n",
    "# Path que vamos a usar como base para el resto de paths\n",
    "BASE_PATH = \"./\" if RUNNING_ENV == \"local\" else \"/content/drive/MyDrive/Colab Notebooks/\"\n",
    "\n",
    "# Directorio en el que guardamos los scripts de python que usamos \n",
    "# como libreria propia\n",
    "LIB_PATH = os.path.join(BASE_PATH, \"lib\")\n",
    "\n",
    "# Directorio en el que guardamos los datos de entrenamiento y test\n",
    "DATA_PATH = os.path.join(BASE_PATH, \"data\")\n",
    "\n",
    "# Numero de procesos que queremos usar\n",
    "NUM_WORKERS = 2\n",
    "\n",
    "# Batch size que queremos usar para los dataloaders que usamos\n",
    "DATALOADER_BACH_SIZE = 32"
   ]
  },
  {
   "cell_type": "markdown",
   "id": "c155001b",
   "metadata": {
    "id": "a81fd5e8-320b-4e00-be57-4bdf5799dad1"
   },
   "source": [
    "# Autorización si estamos usando Google Drive"
   ]
  },
  {
   "cell_type": "code",
   "execution_count": 13,
   "id": "f6784bd8",
   "metadata": {
    "colab": {
     "base_uri": "https://localhost:8080/"
    },
    "id": "6fcac799-d53f-4e6d-aaf4-4e7df3ae7422",
    "outputId": "ac4f7a97-b1e9-4a0d-e07e-4ea991987663"
   },
   "outputs": [],
   "source": [
    "if RUNNING_ENV == \"remote\":\n",
    "    from google.colab import drive\n",
    "    drive.mount('/content/drive')"
   ]
  },
  {
   "cell_type": "markdown",
   "id": "67d9d57d",
   "metadata": {
    "id": "638c766e-6f30-46d7-b6d3-97a6b7e30995"
   },
   "source": [
    "# Importando los módulos que vamos a usar"
   ]
  },
  {
   "cell_type": "code",
   "execution_count": 14,
   "id": "d2c35e87",
   "metadata": {
    "id": "3aeb81a8-78a0-4e63-aa9d-3c82d24100b5"
   },
   "outputs": [],
   "source": [
    "import torch\n",
    "import torch.nn as nn\n",
    "import torch.nn.functional as F\n",
    "import torch.optim as optim\n",
    "\n",
    "\n",
    "import torchvision\n",
    "import torchvision.datasets as datasets\n",
    "#Para poder usar ResNet18 preentrenado\n",
    "import torchvision.models as models \n",
    "import torchvision.transforms as transforms\n",
    "\n",
    "from torch.utils.data import Dataset, DataLoader\n",
    "\n",
    "import matplotlib.pyplot as plt\n",
    "import numpy as np\n",
    "import os\n",
    "from datetime import datetime\n",
    "\n",
    "# Cargamos en el Notebook todos los ficheros .py que definen nuestra propia libreria\n",
    "# Usamos esta libreria para escribir el codigo base necesario para llevar a cabo ciertas\n",
    "# tareas del notebook (como el bucle de entrenamiento) que no tienen interes mostrar\n",
    "# en este notebook\n",
    "!cp -r \"$LIB_PATH\"/* .\n",
    "\n",
    "# Ahora que hemos cargado estos ficheros en el Notebook, importamos lo necesario\n",
    "# de nuestra propia libreria\n",
    "import core\n",
    "import board\n",
    "import filesystem\n",
    "from train_loggers import ClassificationLogger, SilentLogger, TripletLogger\n",
    "from models.resnet import *\n",
    "from visualizations import *\n",
    "from custom_loss import triplet_loss_batch_hard"
   ]
  },
  {
   "cell_type": "markdown",
   "id": "97c7e921",
   "metadata": {
    "id": "BG5J8TTV2CvZ"
   },
   "source": [
    "# Funciones comunes que vamos a usar en el notebook"
   ]
  },
  {
   "cell_type": "code",
   "execution_count": 6,
   "id": "08762464",
   "metadata": {
    "id": "yTstfi4k2CBu"
   },
   "outputs": [],
   "source": [
    "# TODO -- de momento no tenemos nada asi que esto ahora mismo lo podriamos borrar"
   ]
  },
  {
   "cell_type": "markdown",
   "id": "2eea5f6b",
   "metadata": {
    "id": "b4cbeab3-125d-44e4-8734-928f8f0c664c"
   },
   "source": [
    "# Carga del conjunto de datos"
   ]
  },
  {
   "cell_type": "code",
   "execution_count": 7,
   "id": "452699e8",
   "metadata": {
    "id": "faa50ba8-0f5f-420e-bcbc-cfffc165ee44"
   },
   "outputs": [
    {
     "name": "stdout",
     "output_type": "stream",
     "text": [
      "Downloading http://fashion-mnist.s3-website.eu-central-1.amazonaws.com/train-images-idx3-ubyte.gz\n",
      "Downloading http://fashion-mnist.s3-website.eu-central-1.amazonaws.com/train-images-idx3-ubyte.gz to ./data/FashionMNIST/raw/train-images-idx3-ubyte.gz\n"
     ]
    },
    {
     "name": "stderr",
     "output_type": "stream",
     "text": [
      "11.8%IOPub message rate exceeded.\n",
      "The notebook server will temporarily stop sending output\n",
      "to the client in order to avoid crashing it.\n",
      "To change this limit, set the config variable\n",
      "`--NotebookApp.iopub_msg_rate_limit`.\n",
      "\n",
      "Current values:\n",
      "NotebookApp.iopub_msg_rate_limit=1000.0 (msgs/sec)\n",
      "NotebookApp.rate_limit_window=3.0 (secs)\n",
      "\n",
      "31.6%IOPub message rate exceeded.\n",
      "The notebook server will temporarily stop sending output\n",
      "to the client in order to avoid crashing it.\n",
      "To change this limit, set the config variable\n",
      "`--NotebookApp.iopub_msg_rate_limit`.\n",
      "\n",
      "Current values:\n",
      "NotebookApp.iopub_msg_rate_limit=1000.0 (msgs/sec)\n",
      "NotebookApp.rate_limit_window=3.0 (secs)\n",
      "\n",
      "51.3%IOPub message rate exceeded.\n",
      "The notebook server will temporarily stop sending output\n",
      "to the client in order to avoid crashing it.\n",
      "To change this limit, set the config variable\n",
      "`--NotebookApp.iopub_msg_rate_limit`.\n",
      "\n",
      "Current values:\n",
      "NotebookApp.iopub_msg_rate_limit=1000.0 (msgs/sec)\n",
      "NotebookApp.rate_limit_window=3.0 (secs)\n",
      "\n",
      "71.0%IOPub message rate exceeded.\n",
      "The notebook server will temporarily stop sending output\n",
      "to the client in order to avoid crashing it.\n",
      "To change this limit, set the config variable\n",
      "`--NotebookApp.iopub_msg_rate_limit`.\n",
      "\n",
      "Current values:\n",
      "NotebookApp.iopub_msg_rate_limit=1000.0 (msgs/sec)\n",
      "NotebookApp.rate_limit_window=3.0 (secs)\n",
      "\n",
      "90.5%IOPub message rate exceeded.\n",
      "The notebook server will temporarily stop sending output\n",
      "to the client in order to avoid crashing it.\n",
      "To change this limit, set the config variable\n",
      "`--NotebookApp.iopub_msg_rate_limit`.\n",
      "\n",
      "Current values:\n",
      "NotebookApp.iopub_msg_rate_limit=1000.0 (msgs/sec)\n",
      "NotebookApp.rate_limit_window=3.0 (secs)\n",
      "\n",
      "71.0%IOPub message rate exceeded.\n",
      "The notebook server will temporarily stop sending output\n",
      "to the client in order to avoid crashing it.\n",
      "To change this limit, set the config variable\n",
      "`--NotebookApp.iopub_msg_rate_limit`.\n",
      "\n",
      "Current values:\n",
      "NotebookApp.iopub_msg_rate_limit=1000.0 (msgs/sec)\n",
      "NotebookApp.rate_limit_window=3.0 (secs)\n",
      "\n"
     ]
    }
   ],
   "source": [
    "# Transformaciones que queremos aplicar al cargar los datos\n",
    "# Ahora solo pasamos las imagenes a tensores, pero podriamos hacer aqui normalizaciones\n",
    "transform = transforms.Compose([\n",
    "    transforms.ToTensor(),\n",
    "    # TODO -- aqui podemos añadir la normaliazcion de datos\n",
    "])\n",
    "\n",
    "# Cargamos el dataset usando torchvision, que ya tiene el conjunto\n",
    "# preparado para descargar\n",
    "train_dataset = torchvision.datasets.FashionMNIST(\n",
    "    root = DATA_PATH,\n",
    "    train = True,\n",
    "    download = True,\n",
    "    transform = transform,\n",
    ")\n",
    "\n",
    "test_dataset = torchvision.datasets.FashionMNIST(\n",
    "    root = DATA_PATH,\n",
    "    train = False,\n",
    "    download = True,\n",
    "    transform = transform,\n",
    ")\n",
    "\n",
    "# Data loaders para acceder a los datos\n",
    "train_loader = torch.utils.data.DataLoader(\n",
    "    train_dataset,\n",
    "    batch_size = DATALOADER_BACH_SIZE,\n",
    "    shuffle = True,\n",
    "    num_workers = NUM_WORKERS,\n",
    "    pin_memory = True,\n",
    ")\n",
    "test_loader = torch.utils.data.DataLoader(\n",
    "  train_dataset,\n",
    "  batch_size = DATALOADER_BACH_SIZE,\n",
    "  shuffle = True,\n",
    "  num_workers = NUM_WORKERS,\n",
    "  pin_memory = True,\n",
    ")"
   ]
  },
  {
   "cell_type": "markdown",
   "id": "5c057c3d",
   "metadata": {
    "id": "Xk77zxIm2SsI"
   },
   "source": [
    "# Definiendo las clases con las que vamos a trabajar"
   ]
  },
  {
   "cell_type": "code",
   "execution_count": 8,
   "id": "b0de0753",
   "metadata": {
    "id": "fCDY7GM02SBk"
   },
   "outputs": [],
   "source": [
    "# Clases con las que vamos a trabajar\n",
    "# Esta lista especifica la relacion numero -> nombre de la forma\n",
    "# classes[numero] = nombre\n",
    "classes = (\n",
    "    \"T-shirt/top\",\n",
    "    \"Trouser\",\n",
    "    \"Pullover\",\n",
    "    \"Dress\",\n",
    "    \"Coat\",\n",
    "    \"Sandal\",\n",
    "    \"Shirt\",\n",
    "    \"Sneaker\",\n",
    "    \"Bag\",\n",
    "    \"Ankle boot\",\n",
    ")"
   ]
  },
  {
   "cell_type": "markdown",
   "id": "9d74819e",
   "metadata": {
    "id": "84d5b0ca-5a5a-4a4b-b0f4-dd6cf021f73d",
    "tags": []
   },
   "source": [
    "# Análisis Exploratorio de datos"
   ]
  },
  {
   "cell_type": "markdown",
   "id": "73ebca17",
   "metadata": {
    "id": "7b3a17a3-c502-41ef-8197-b0c6989e9402"
   },
   "source": [
    "Mostramos algunas imágenes con sus clases para asegurar que hemos cargado correctamente las imágenes del conjunto de datos:"
   ]
  },
  {
   "cell_type": "code",
   "execution_count": 9,
   "id": "6913658d",
   "metadata": {
    "colab": {
     "base_uri": "https://localhost:8080/",
     "height": 1000
    },
    "id": "816b14ed-0a49-44f5-ac5b-16dce9e58091",
    "outputId": "ffddc4f3-1a43-45a4-f834-4b69a4307e7c"
   },
   "outputs": [
    {
     "name": "stdout",
     "output_type": "stream",
     "text": [
      "La clase obtenida es: Bag\n"
     ]
    },
    {
     "data": {
      "image/png": "[encoded data removed]",
      "text/plain": [
       "<Figure size 432x288 with 1 Axes>"
      ]
     },
     "metadata": {
      "needs_background": "light"
     },
     "output_type": "display_data"
    },
    {
     "name": "stdout",
     "output_type": "stream",
     "text": [
      "La clase obtenida es: Trouser\n"
     ]
    },
    {
     "data": {
      "image/png": "[encoded data removed]",
      "text/plain": [
       "<Figure size 432x288 with 1 Axes>"
      ]
     },
     "metadata": {
      "needs_background": "light"
     },
     "output_type": "display_data"
    },
    {
     "name": "stdout",
     "output_type": "stream",
     "text": [
      "La clase obtenida es: Shirt\n"
     ]
    },
    {
     "data": {
      "image/png": "[encoded data removed]",
      "text/plain": [
       "<Figure size 432x288 with 1 Axes>"
      ]
     },
     "metadata": {
      "needs_background": "light"
     },
     "output_type": "display_data"
    },
    {
     "name": "stdout",
     "output_type": "stream",
     "text": [
      "La clase obtenida es: Bag\n"
     ]
    },
    {
     "data": {
      "image/png": "[encoded data removed]",
      "text/plain": [
       "<Figure size 432x288 with 1 Axes>"
      ]
     },
     "metadata": {
      "needs_background": "light"
     },
     "output_type": "display_data"
    },
    {
     "name": "stdout",
     "output_type": "stream",
     "text": [
      "La clase obtenida es: Ankle boot\n"
     ]
    },
    {
     "data": {
      "image/png": "[encoded data removed]",
      "text/plain": [
       "<Figure size 432x288 with 1 Axes>"
      ]
     },
     "metadata": {
      "needs_background": "light"
     },
     "output_type": "display_data"
    }
   ],
   "source": [
    "imgs_to_show = 5\n",
    "\n",
    "for _ in range(imgs_to_show):\n",
    "\n",
    "    # Cargamos un batch de imagenes\n",
    "    images, images_classes = next(iter(train_loader))\n",
    "\n",
    "    # Nos quedamos con la primera imagen del batch\n",
    "    img, img_class = images[0], images_classes[0]\n",
    "\n",
    "    # Mostramos alguna informacion de la imagen\n",
    "    print(f\"La clase obtenida es: {classes[img_class]}\")\n",
    "\n",
    "    # Re-escalamos y mostramos la imagen\n",
    "    img = img.reshape((28, 28))\n",
    "    show_img(img, color_format_range = (-1.0, 1.0))"
   ]
  },
  {
   "cell_type": "markdown",
   "id": "64b64e5c",
   "metadata": {
    "id": "11747bce-2a7e-4c9c-bcc0-d22989a6faf0"
   },
   "source": [
    "Mostramos ahora unas cuantas imágenes de forma simultánea:"
   ]
  },
  {
   "cell_type": "markdown",
   "id": "983f7e35",
   "metadata": {
    "id": "0a73b156-19f0-470e-ad06-e140bc65a61c"
   },
   "source": [
    "Mostramos ahora los tamaños del dataset:"
   ]
  },
  {
   "cell_type": "code",
   "execution_count": 10,
   "id": "762ead5e",
   "metadata": {
    "colab": {
     "base_uri": "https://localhost:8080/"
    },
    "id": "f1f3dcc8-0482-446d-a686-e4e7ca9b6afd",
    "outputId": "346b6a17-0eda-4ab1-84c4-421764d99d35"
   },
   "outputs": [
    {
     "name": "stdout",
     "output_type": "stream",
     "text": [
      "Tenemos 60000 imágenes de entrenamiento\n",
      "Tenemos 10000 imágenes de test\n"
     ]
    }
   ],
   "source": [
    "print(f\"Tenemos {len(train_dataset)} imágenes de entrenamiento\")\n",
    "print(f\"Tenemos {len(test_dataset)} imágenes de test\")"
   ]
  },
  {
   "cell_type": "markdown",
   "id": "4c4ab9cd",
   "metadata": {
    "id": "905faa72-9a5a-48d9-ae70-405b69ef1c6f"
   },
   "source": [
    "# Definiendo el modelo base\n",
    "\n",
    "- A continuación, definimos el modelo que vamos a usasr como base para nuestra red siamesa:"
   ]
  },
  {
   "cell_type": "code",
   "execution_count": 15,
   "id": "81c99153",
   "metadata": {
    "id": "81a157dc-fe12-46d4-9369-84514c80486c"
   },
   "outputs": [],
   "source": [
    "\n",
    "class LuNet(nn.Module):\n",
    "    \"\"\"\n",
    "    LuNet model adapted to 28x28x1 input images\n",
    "    \n",
    "    Based on the model presented in the paper \"In defense of the triplet loss \n",
    "    for person re-identification\"\n",
    "    \n",
    "    In order to make some experiments with this model\n",
    "    \n",
    "    Original architecture is quite similar to a common ResNet using bottleneck \n",
    "    building blocks with batch normalization. The real work happens in the \n",
    "    loss function and also the way triplets are chosen. So we are going to \n",
    "    stack some building blocks without max-pooling (28x28x1 is small enough)\n",
    "    and apply that loss function and triplet selection policy\n",
    "    \n",
    "    \n",
    "    \"\"\"\n",
    "    \n",
    "    def __init__(self):          \n",
    "        # Init parent class\n",
    "        super().__init__()\n",
    "\n",
    "        # ResNet Blocks\n",
    "        self.block1 = BottleNeckBlock(\n",
    "            input_channels = 1,\n",
    "            output_channels = 8,\n",
    "            kernel_size = 3,\n",
    "            stride = 1,\n",
    "            disable_identity = True,\n",
    "        )\n",
    "        \n",
    "        self.block2 = BottleNeckBlock(\n",
    "            input_channels = 8,\n",
    "            output_channels = 8,\n",
    "            kernel_size = 3,\n",
    "            stride = 1,\n",
    "            disable_identity = False,\n",
    "        )\n",
    "        \n",
    "        self.block3 = BottleNeckBlock(\n",
    "            input_channels = 8,\n",
    "            output_channels = 16,\n",
    "            kernel_size = 3,\n",
    "            stride = 1,\n",
    "            disable_identity = True,\n",
    "        )\n",
    "        \n",
    "        self.block4 = BottleNeckBlock(\n",
    "            input_channels = 16,\n",
    "            output_channels = 16,\n",
    "            kernel_size = 3,\n",
    "            stride = 1,\n",
    "            disable_identity = False,\n",
    "        )\n",
    "        \n",
    "        # Fully connected layers\n",
    "        # We end up with an embedding space of dimension 64\n",
    "        self.fc1 = nn.Linear(12544, 128)\n",
    "        self.bn1 = nn.BatchNorm1d(128)\n",
    "        self.fc2 = nn.Linear(128, 64)\n",
    "    \n",
    "    def forward(self, x: torch.Tensor) -> torch.Tensor:\n",
    "        # ResNet blocks\n",
    "        x = self.block1(x)\n",
    "        x = self.block2(x)\n",
    "        x = self.block3(x)\n",
    "        \n",
    "        # Now fully-connected layers\n",
    "        x = torch.flatten(x, start_dim = 1)\n",
    "        \n",
    "        x = self.fc1(x)\n",
    "        # TODO -- enable this again\n",
    "        #x = self.bn1(x)\n",
    "        x = F.relu(x)        \n",
    "        x = self.fc2(x)\n",
    "        \n",
    "        return x"
   ]
  },
  {
   "cell_type": "markdown",
   "id": "19922378",
   "metadata": {},
   "source": [
    "Vamos a importar el modelo ResNet18 preentrenado en ImageNet (prentrained=true) que usaremos como modelo base para calcular el vector de características de una imagen."
   ]
  },
  {
   "cell_type": "code",
   "execution_count": 16,
   "id": "8d3a00ed",
   "metadata": {},
   "outputs": [
    {
     "name": "stderr",
     "output_type": "stream",
     "text": [
      "Downloading: \"https://download.pytorch.org/models/resnet18-f37072fd.pth\" to /home/alejandro/.cache/torch/hub/checkpoints/resnet18-f37072fd.pth\n",
      "54.4%IOPub message rate exceeded.\n",
      "The notebook server will temporarily stop sending output\n",
      "to the client in order to avoid crashing it.\n",
      "To change this limit, set the config variable\n",
      "`--NotebookApp.iopub_msg_rate_limit`.\n",
      "\n",
      "Current values:\n",
      "NotebookApp.iopub_msg_rate_limit=1000.0 (msgs/sec)\n",
      "NotebookApp.rate_limit_window=3.0 (secs)\n",
      "\n",
      "100.0%\n"
     ]
    }
   ],
   "source": [
    "resnet18 = models.resnet18(pretrained=True)\n"
   ]
  },
  {
   "cell_type": "markdown",
   "id": "40bdcf53",
   "metadata": {
    "id": "4sVnhIQg31k5"
   },
   "source": [
    "# Generación de triples\n",
    "\n",
    "- Para entrenar la red siamesa, necesitamos dar triples con los que computar el *triplet loss*\n",
    "- Por ello, es necesaria una fase previa de *triplets mining*\n",
    "- En todos los casos, crearemos *Datasets* de *Pytorch* para representar la creación de los triples\n",
    "- Hacemos esto basándonos el la [documentación oficial de Pytorch](https://pytorch.org/tutorials/beginner/data_loading_tutorial.html)"
   ]
  },
  {
   "cell_type": "markdown",
   "id": "142db1bf",
   "metadata": {
    "id": "WvUGOBKU6WKG"
   },
   "source": [
    "## Generación de triples aleatorios\n",
    "\n",
    "- Es la forma más sencilla y directa para generar triples\n",
    "- Usaremos esta generación como baseline para más tarde realizar comparaciones"
   ]
  },
  {
   "cell_type": "code",
   "execution_count": null,
   "id": "ef0dbb9f",
   "metadata": {
    "colab": {
     "base_uri": "https://localhost:8080/",
     "height": 415
    },
    "id": "tjNWBh-B3--F",
    "outputId": "364be0d2-f6b5-4385-af70-88eb08601ec1"
   },
   "outputs": [],
   "source": [
    "# TODO -- hay que implementar esto\n",
    "from torch.utils.data import RandomSampler\n",
    "\n",
    "\n",
    "class RandomTriplets(Dataset):\n",
    "    \"\"\"\n",
    "    Dataset en el que los elementos son triples obtenidos de forma aleatoria\n",
    "    \"\"\"\n",
    "\n",
    "    def __init__(self, base_data: Dataset, custom_len: int, transform = None):\n",
    "        self.base_data = base_data\n",
    "        self.custom_len = custom_len\n",
    "        self.transform = transform\n",
    "        self.random_sampler = RandomSampler(self.base_data, replacement=True, num_samples=1, generator=None)\n",
    "        \n",
    "        lista_clase0=[]\n",
    "        lista_clase1=[]\n",
    "        lista_clase2=[]\n",
    "        lista_clase3=[]\n",
    "        lista_clase4=[]\n",
    "        lista_clase5=[]\n",
    "        lista_clase6=[]\n",
    "        lista_clase7=[]\n",
    "        lista_clase8=[]\n",
    "        lista_clase9=[]\n",
    "        \n",
    "        pos=0\n",
    "        while True:\n",
    "            try: \n",
    "                elemento, clase= self.base_data[next(iter(self.random_sampler))]\n",
    "                if clase==0:\n",
    "                    lista_clase0.append(pos)\n",
    "                if clase==1:\n",
    "                    lista_clase1.append(pos)\n",
    "                if clase==2:\n",
    "                    lista_clase2.append(pos)\n",
    "                if clase==3:\n",
    "                    lista_clase3.append(pos)\n",
    "                if clase==4:\n",
    "                    lista_clase4.append(pos)\n",
    "                if clase==5:\n",
    "                    lista_clase5.append(pos)\n",
    "                if clase==6:\n",
    "                    lista_clase6.append(pos)\n",
    "                if clase==7:\n",
    "                    lista_clase7.append(pos)\n",
    "                if clase==8:\n",
    "                    lista_clase8.append(pos)\n",
    "                if clase==9:\n",
    "                    lista_clase9.append(pos)\n",
    "                    \n",
    "                pos=pos+1\n",
    "            except StopIteration:\n",
    "                break\n",
    "        \n",
    "        print(lista_clase0)\n",
    "                \n",
    "\n",
    "    def __len__(self):\n",
    "        \"\"\"\n",
    "        Devolvemos el tamaño del dataset\n",
    "        Como estamos generando triples aleatorios, devolvemos el tamaño definido\n",
    "        por parametro\n",
    "        \"\"\"\n",
    "        return self.custom_len\n",
    "\n",
    "    def __getitem__(self, idx) -> Tuple[np.ndarray, np.ndarray, np.ndarray]:\n",
    "        \"\"\"\n",
    "        Funcion que es llamada cuando se hace dataset[idx]\n",
    "        En vez de devolver una imagen (que es lo comun en esta clase dataset), \n",
    "        devolvemos un triple (anchor, positive, negative) aleatorio\n",
    "        \"\"\"\n",
    "\n",
    "        # Hacemos esto por temas de eficiencia\n",
    "        if torch.is_tensor(idx):\n",
    "            idx = idx.tolist()\n",
    "\n",
    "        # Tomamos una imagen aleatoria que sera el ancla\n",
    "        anchor, anchor_class = self.base_data[next(iter(self.random_sampler))]\n",
    "\n",
    "        # Tomamos una imagen de la misma clase, que sera la positiva\n",
    "        # TODO -- hay que hacer que de algun modo sea de la misma clase\n",
    "        positive, positive_class = self.base_data[next(iter(self.random_sampler))]\n",
    "\n",
    "        # Tomamos una imagen de otra clase, que sera la negativa\n",
    "        # TODO -- hay que hacer que de algun modo sea de una clase distinta\n",
    "        negative, negative_class = self.base_data[next(iter(self.random_sampler))]\n",
    "\n",
    "        # TODO -- borrar este logging porque va a hacer que vaya mas lento\n",
    "        print(f\"La clase anchor es {anchor_class}\")\n",
    "        print(f\"La clase positiva es {positive_class}\")\n",
    "        print(f\"La clase negativa es {negative_class}\")\n",
    "        \n",
    "        # Generamos ahora el triple\n",
    "        triplet = [anchor, positive, negative]\n",
    "\n",
    "        # Aplicamos la transformacion dada al dataset al ejemplo que devolvemos\n",
    "        if self.transform:\n",
    "            triplet = [self.transform(img) for img in triplet]\n",
    "\n",
    "        return triplet\n",
    "\n",
    "\n",
    "random_triplets = RandomTriplets(\n",
    "    base_data = train_dataset,\n",
    "    custom_len = len(train_dataset) * 3,\n",
    "    transform = transform\n",
    ")\n",
    "\n",
    "custom_triplet = random_triplets[2]\n",
    "print(\"Funciona\")"
   ]
  },
  {
   "cell_type": "markdown",
   "id": "4a17b1e1",
   "metadata": {
    "id": "64f272b8-b501-49c2-8aa7-77a7abe85614"
   },
   "source": [
    "# Entrenamiento del modelo"
   ]
  },
  {
   "cell_type": "code",
   "execution_count": null,
   "id": "3820b7f9",
   "metadata": {
    "id": "c29de921-e5d9-4319-bf01-1f65e651d734"
   },
   "outputs": [],
   "source": [
    "# Set the training parameters\n",
    "parameters = dict()\n",
    "parameters[\"lr\"] = 0.001\n",
    "parameters[\"momentum\"] = 0.9\n",
    "parameters[\"criterion\"] = triplet_loss_batch_hard\n",
    "parameters[\"epochs\"] = 10\n",
    "\n",
    "# We save the model in different paths wether we're running\n",
    "# local or in cloud\n",
    "# TODO -- esto ponerlo en constantes y con buenos nombres\n",
    "save_model_path = None\n",
    "if RUNNING_ENV == \"local\": save_model_path = \"./saved_models\"\n",
    "if RUNNING_ENV == \"remote\": save_model_path = \"drive/MyDrive/ml/Modelos/MNIST-ReID/saved_models\"\n",
    "\n",
    "# Network we are going to train\n",
    "net = LuNet()\n",
    "\n",
    "# Specifying the trainning logger\n",
    "logger = TripletLogger(\n",
    "    iterations = 200 * batch_size, # TODO -- document why multiplying batch_size \n",
    "    loss_func = triplet_loss_batch_hard, \n",
    "    net = net,\n",
    "    training_perc = 0.2, \n",
    "    validation_perc = 1.0\n",
    ")\n",
    "\n",
    "# If running in cloud, show tensorboard inline\n",
    "if RUNNING_ENV == \"remote\":\n",
    "    %load_ext tensorboard\n",
    "    %tensorboard --logdir runs\n",
    "\n",
    "# Train process\n",
    "core.batch_hard_train(\n",
    "    net, \n",
    "    save_model_path, \n",
    "    parameters, \n",
    "    train_loader = train_loader, \n",
    "    validation_loader = test_loader, # TODO -- we are using test dataset as validation dataset \n",
    "    name = \"LuNet\", \n",
    "    logger = logger,\n",
    "    snapshot_iterations = 10_000 \n",
    ")\n",
    "\n",
    "# Close the logger when we are done with the training\n",
    "logger.close()"
   ]
  },
  {
   "cell_type": "markdown",
   "id": "dc92ce37",
   "metadata": {
    "id": "aadebb34-b01d-4a6e-831f-7de00f182789"
   },
   "source": [
    "# Evaluación del modelo\n",
    "\n",
    "- Mostramos algunas métricas fundamentales sobre el conjunto de"
   ]
  },
  {
   "cell_type": "code",
   "execution_count": null,
   "id": "2242eedc",
   "metadata": {
    "id": "fd1957da-c16c-4f92-a9cd-51e8ba5831f6"
   },
   "outputs": [],
   "source": [
    "# TODO -- hay que implementar algunas metricas"
   ]
  },
  {
   "cell_type": "markdown",
   "id": "5c946904",
   "metadata": {
    "id": "X_EJAcbN4Sbm"
   },
   "source": [
    "# Adaptación del modelo para usarlo como clasificador\n",
    "\n",
    "- Nuestro modelo genera un *embedding*\n",
    "- Adaptamos el modelo para que, a partir de dicho embedding, podamos usarlo como un clasificador"
   ]
  },
  {
   "cell_type": "code",
   "execution_count": null,
   "id": "3d33aa9d",
   "metadata": {
    "id": "2_QCYk4d4m_P"
   },
   "outputs": [],
   "source": [
    "# TODO -- adaptar el modelo"
   ]
  },
  {
   "cell_type": "markdown",
   "id": "f644bbed",
   "metadata": {
    "id": "-WVrgOGu4ovB"
   },
   "source": [
    "## Evaluación del clasificador obtenido\n",
    "\n",
    "- Ahora que hemos adaptado el modelo para usarlo como clasificador, podemos consultar ciertas métricas de clasificación"
   ]
  },
  {
   "cell_type": "code",
   "execution_count": null,
   "id": "030af6e5",
   "metadata": {
    "id": "pyhpnGXG4vdr"
   },
   "outputs": [],
   "source": [
    "# TODO -- implementar las métricas de clasificación"
   ]
  }
 ],
 "metadata": {
  "accelerator": "GPU",
  "colab": {
   "collapsed_sections": [],
   "name": "Notebook.ipynb",
   "provenance": []
  },
  "kernelspec": {
   "display_name": "Python 3",
   "language": "python",
   "name": "python3"
  },
  "language_info": {
   "codemirror_mode": {
    "name": "ipython",
    "version": 3
   },
   "file_extension": ".py",
   "mimetype": "text/x-python",
   "name": "python",
   "nbconvert_exporter": "python",
   "pygments_lexer": "ipython3",
   "version": "3.6.13"
  }
 },
 "nbformat": 4,
 "nbformat_minor": 5
}
