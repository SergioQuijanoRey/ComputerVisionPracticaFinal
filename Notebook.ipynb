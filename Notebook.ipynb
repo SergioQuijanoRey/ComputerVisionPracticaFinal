{
 "cells": [
  {
   "cell_type": "markdown",
   "metadata": {
    "id": "23ef89e1",
    "tags": []
   },
   "source": [
    "# Parámetros globales del *Notebook*"
   ]
  },
  {
   "cell_type": "code",
   "execution_count": 1,
   "metadata": {
    "id": "c8cc3fb4"
   },
   "outputs": [],
   "source": [
    "# Para definir los path\n",
    "import os\n",
    "\n",
    "# Define si estamos ejecutando el Notebook en nuestro \n",
    "# ordenador (\"local\") o en Google Colab (\"remote\")\n",
    "RUNNING_ENV = \"local\"\n",
    "\n",
    "# Path que vamos a usar como base para el resto de paths\n",
    "BASE_PATH = \"./\" if RUNNING_ENV == \"local\" else \"/content/drive/MyDrive/Colab Notebooks/\"\n",
    "\n",
    "# Directorio en el que guardamos los scripts de python que usamos \n",
    "# como libreria propia\n",
    "LIB_PATH = os.path.join(BASE_PATH, \"lib\")\n",
    "\n",
    "# Directorio en el que guardamos los datos de entrenamiento y test\n",
    "DATA_PATH = os.path.join(BASE_PATH, \"data\")\n",
    "\n",
    "# Numero de procesos que queremos usar\n",
    "NUM_WORKERS = 2\n",
    "\n",
    "# Batch size que queremos usar para los dataloaders que usamos\n",
    "DATALOADER_BACH_SIZE = 32\n",
    "\n",
    "# Tamaño del conjunto de triples aleatorios\n",
    "# Tiene que ser un multiplo de DATALOADER_BACH_SIZE para que\n",
    "# la red tome correctamente los batches que espera\n",
    "# TODO -- esto nunca lo he tenido que hacer asi que seguramente estemos\n",
    "# haciendo algo mal\n",
    "RANDOM_TRIPLETS_DATA_SIZE = DATALOADER_BACH_SIZE * 10\n",
    "\n",
    "# Numero de epocas por las que queremos entrenar\n",
    "TRAINING_EPOCHS = 20\n",
    "\n",
    "# Margen para la funcion de perdida\n",
    "MARGIN = 0.1\n",
    "\n",
    "# Dimension del embedding que calculamos\n",
    "EMBEDDING_DIMENSION = 4"
   ]
  },
  {
   "cell_type": "markdown",
   "metadata": {
    "id": "c155001b"
   },
   "source": [
    "# Autorización si estamos usando Google Drive"
   ]
  },
  {
   "cell_type": "code",
   "execution_count": 2,
   "metadata": {
    "colab": {
     "base_uri": "https://localhost:8080/"
    },
    "id": "f6784bd8",
    "outputId": "d3e8a373-259c-47a3-e421-0328c24549f9"
   },
   "outputs": [],
   "source": [
    "if RUNNING_ENV == \"remote\":\n",
    "    from google.colab import drive\n",
    "    drive.mount('/content/drive')"
   ]
  },
  {
   "cell_type": "markdown",
   "metadata": {
    "id": "67d9d57d"
   },
   "source": [
    "# Importando los módulos que vamos a usar"
   ]
  },
  {
   "cell_type": "code",
   "execution_count": 3,
   "metadata": {
    "id": "d2c35e87"
   },
   "outputs": [],
   "source": [
    "import torch\n",
    "import torch.nn as nn\n",
    "import torch.nn.functional as F\n",
    "import torch.optim as optim\n",
    "\n",
    "\n",
    "import torchvision\n",
    "import torchvision.datasets as datasets\n",
    "\n",
    "# Para poder usar ResNet18 preentrenado\n",
    "import torchvision.models as models \n",
    "import torchvision.transforms as transforms\n",
    "\n",
    "from torch.utils.data import Dataset, DataLoader\n",
    "\n",
    "import matplotlib.pyplot as plt\n",
    "import numpy as np\n",
    "import os\n",
    "from datetime import datetime\n",
    "\n",
    "# Cargamos en el Notebook todos los ficheros .py que definen nuestra propia libreria\n",
    "# Usamos esta libreria para escribir el codigo base necesario para llevar a cabo ciertas\n",
    "# tareas del notebook (como el bucle de entrenamiento) que no tienen interes mostrar\n",
    "# en este notebook\n",
    "!cp -r \"$LIB_PATH\"/* .\n",
    "\n",
    "# Ahora que hemos cargado estos ficheros en el Notebook, importamos lo necesario\n",
    "# de nuestra propia libreria\n",
    "import core\n",
    "import time\n",
    "import copy\n",
    "import board\n",
    "import filesystem\n",
    "from train_loggers import ClassificationLogger, SilentLogger, TripletLogger, TrainLogger\n",
    "from models.resnet import *\n",
    "from visualizations import *\n",
    "from custom_loss import triplet_loss_batch_hard\n",
    "from tqdm.notebook import tqdm\n"
   ]
  },
  {
   "cell_type": "markdown",
   "metadata": {
    "id": "97c7e921"
   },
   "source": [
    "# Funciones comunes que vamos a usar en el notebook"
   ]
  },
  {
   "cell_type": "code",
   "execution_count": 4,
   "metadata": {
    "id": "08762464"
   },
   "outputs": [],
   "source": [
    "def show_learning_curve(training_history: dict):\n",
    "    # Tomamos las dos funciones de perdida\n",
    "    loss = training_history['loss']\n",
    "    val_loss = training_history['val_loss']\n",
    "    \n",
    "    # Mostramos las graficas\n",
    "    plt.plot(loss)\n",
    "    plt.plot(val_loss)\n",
    "    plt.legend(['Training loss', 'Validation loss'])\n",
    "    plt.show()"
   ]
  },
  {
   "cell_type": "markdown",
   "metadata": {
    "id": "2eea5f6b"
   },
   "source": [
    "# Carga del conjunto de datos\n",
    "\n",
    "- Cargamos los datos de entrenamiento y test\n",
    "- Además, separamos train en train y validación"
   ]
  },
  {
   "cell_type": "code",
   "execution_count": 5,
   "metadata": {
    "id": "452699e8"
   },
   "outputs": [],
   "source": [
    "# Transformaciones que queremos aplicar al cargar los datos\n",
    "# Ahora solo pasamos las imagenes a tensores, pero podriamos hacer aqui normalizaciones\n",
    "transform = transforms.Compose([\n",
    "    transforms.ToTensor(),\n",
    "    # TODO -- aqui podemos añadir la normaliazcion de datos\n",
    "])\n",
    "\n",
    "# Cargamos el dataset usando torchvision, que ya tiene el conjunto\n",
    "# preparado para descargar\n",
    "train_dataset = torchvision.datasets.FashionMNIST(\n",
    "    root = DATA_PATH,\n",
    "    train = True,\n",
    "    download = True,\n",
    "    transform = transform,\n",
    ")\n",
    "\n",
    "test_dataset = torchvision.datasets.FashionMNIST(\n",
    "    root = DATA_PATH,\n",
    "    train = False,\n",
    "    download = True,\n",
    "    transform = transform,\n",
    ")\n",
    "\n",
    "# Separamos train en train y validacion\n",
    "train_dataset, validation_dataset = core.split_train_test(train_dataset, 0.8)\n",
    "\n",
    "# Data loaders para acceder a los datos\n",
    "train_loader = torch.utils.data.DataLoader(\n",
    "    train_dataset,\n",
    "    batch_size = DATALOADER_BACH_SIZE,\n",
    "    shuffle = True,\n",
    "    num_workers = NUM_WORKERS,\n",
    "    pin_memory = True,\n",
    ")\n",
    "\n",
    "validation_loader = torch.utils.data.DataLoader(\n",
    "    validation_dataset,\n",
    "    batch_size = DATALOADER_BACH_SIZE,\n",
    "    shuffle = True,\n",
    "    num_workers = NUM_WORKERS,\n",
    "    pin_memory = True,\n",
    ")\n",
    "\n",
    "test_loader = torch.utils.data.DataLoader(\n",
    "  train_dataset,\n",
    "  batch_size = DATALOADER_BACH_SIZE,\n",
    "  shuffle = True,\n",
    "  num_workers = NUM_WORKERS,\n",
    "  pin_memory = True,\n",
    ")"
   ]
  },
  {
   "cell_type": "markdown",
   "metadata": {
    "id": "5c057c3d"
   },
   "source": [
    "# Definiendo las clases con las que vamos a trabajar"
   ]
  },
  {
   "cell_type": "code",
   "execution_count": 6,
   "metadata": {
    "id": "b0de0753"
   },
   "outputs": [],
   "source": [
    "# Clases con las que vamos a trabajar\n",
    "# Esta lista especifica la relacion numero -> nombre de la forma\n",
    "# classes[numero] = nombre\n",
    "classes = (\n",
    "    \"T-shirt/top\",\n",
    "    \"Trouser\",\n",
    "    \"Pullover\",\n",
    "    \"Dress\",\n",
    "    \"Coat\",\n",
    "    \"Sandal\",\n",
    "    \"Shirt\",\n",
    "    \"Sneaker\",\n",
    "    \"Bag\",\n",
    "    \"Ankle boot\",\n",
    ")"
   ]
  },
  {
   "cell_type": "markdown",
   "metadata": {
    "id": "9d74819e",
    "tags": []
   },
   "source": [
    "# Análisis Exploratorio de datos"
   ]
  },
  {
   "cell_type": "markdown",
   "metadata": {
    "id": "73ebca17"
   },
   "source": [
    "Mostramos algunas imágenes con sus clases para asegurar que hemos cargado correctamente las imágenes del conjunto de datos:"
   ]
  },
  {
   "cell_type": "code",
   "execution_count": 7,
   "metadata": {
    "colab": {
     "base_uri": "https://localhost:8080/",
     "height": 1000
    },
    "id": "6913658d",
    "outputId": "50342115-f90e-45ff-d2ea-de97540af996"
   },
   "outputs": [
    {
     "name": "stdout",
     "output_type": "stream",
     "text": [
      "La clase obtenida es: Dress\n"
     ]
    },
    {
     "data": {
      "image/png": "[encoded data removed]",
      "text/plain": [
       "<Figure size 432x288 with 1 Axes>"
      ]
     },
     "metadata": {
      "needs_background": "light"
     },
     "output_type": "display_data"
    },
    {
     "name": "stdout",
     "output_type": "stream",
     "text": [
      "La clase obtenida es: Bag\n"
     ]
    },
    {
     "data": {
      "image/png": "[encoded data removed]",
      "text/plain": [
       "<Figure size 432x288 with 1 Axes>"
      ]
     },
     "metadata": {
      "needs_background": "light"
     },
     "output_type": "display_data"
    },
    {
     "name": "stdout",
     "output_type": "stream",
     "text": [
      "La clase obtenida es: Dress\n"
     ]
    },
    {
     "data": {
      "image/png": "[encoded data removed]",
      "text/plain": [
       "<Figure size 432x288 with 1 Axes>"
      ]
     },
     "metadata": {
      "needs_background": "light"
     },
     "output_type": "display_data"
    },
    {
     "name": "stdout",
     "output_type": "stream",
     "text": [
      "La clase obtenida es: Trouser\n"
     ]
    },
    {
     "data": {
      "image/png": "[encoded data removed]",
      "text/plain": [
       "<Figure size 432x288 with 1 Axes>"
      ]
     },
     "metadata": {
      "needs_background": "light"
     },
     "output_type": "display_data"
    },
    {
     "name": "stdout",
     "output_type": "stream",
     "text": [
      "La clase obtenida es: Ankle boot\n"
     ]
    },
    {
     "data": {
      "image/png": "[encoded data removed]",
      "text/plain": [
       "<Figure size 432x288 with 1 Axes>"
      ]
     },
     "metadata": {
      "needs_background": "light"
     },
     "output_type": "display_data"
    }
   ],
   "source": [
    "imgs_to_show = 5\n",
    "\n",
    "for _ in range(imgs_to_show):\n",
    "\n",
    "    # Cargamos un batch de imagenes\n",
    "    images, images_classes = next(iter(train_loader))\n",
    "\n",
    "    # Nos quedamos con la primera imagen del batch\n",
    "    img, img_class = images[0], images_classes[0]\n",
    "\n",
    "    # Mostramos alguna informacion de la imagen\n",
    "    print(f\"La clase obtenida es: {classes[img_class]}\")\n",
    "\n",
    "    # Re-escalamos y mostramos la imagen\n",
    "    img = img.reshape((28, 28))\n",
    "    show_img(img, color_format_range = (-1.0, 1.0))"
   ]
  },
  {
   "cell_type": "markdown",
   "metadata": {
    "id": "64b64e5c"
   },
   "source": [
    "Mostramos ahora unas cuantas imágenes de forma simultánea:"
   ]
  },
  {
   "cell_type": "markdown",
   "metadata": {
    "id": "983f7e35"
   },
   "source": [
    "Mostramos ahora los tamaños del dataset:"
   ]
  },
  {
   "cell_type": "code",
   "execution_count": 8,
   "metadata": {
    "colab": {
     "base_uri": "https://localhost:8080/"
    },
    "id": "762ead5e",
    "outputId": "6bbc6a80-47f8-42ed-837e-e3a38befd9f4",
    "scrolled": false
   },
   "outputs": [
    {
     "name": "stdout",
     "output_type": "stream",
     "text": [
      "Tenemos 48000 imágenes de entrenamiento\n",
      "Tenemos 10000 imágenes de test\n"
     ]
    }
   ],
   "source": [
    "print(f\"Tenemos {len(train_dataset)} imágenes de entrenamiento\")\n",
    "print(f\"Tenemos {len(test_dataset)} imágenes de test\")"
   ]
  },
  {
   "cell_type": "markdown",
   "metadata": {
    "id": "4c4ab9cd"
   },
   "source": [
    "# Definiendo el modelo base\n",
    "\n",
    "- A continuación, definimos el modelo que vamos a usasr como base para nuestra red siamesa\n",
    "- Usaremos el modelo pre-entrenado ResNet18, pre-entrenado en ImageNet"
   ]
  },
  {
   "cell_type": "code",
   "execution_count": 9,
   "metadata": {
    "id": "8d3a00ed"
   },
   "outputs": [],
   "source": [
    "class ResNet18(torch.nn.Module):\n",
    "    def __init__(self):\n",
    "        \n",
    "        super(ResNet18, self).__init__()\n",
    "        \n",
    "        # Tomamos el modelo pre-entrenado ResNet18\n",
    "        self.pretrained = models.resnet18(pretrained=True)\n",
    "        \n",
    "        # Cambiamos la primera convolucion para que en vez\n",
    "        # de tres canales acepte un canal para las imagenes\n",
    "        # de entrada\n",
    "        self.pretrained.conv1 = nn.Conv2d(in_channels = 1, out_channels = 64, kernel_size=7, stride=2, padding=3, bias=False)\n",
    "\n",
    "        # Cambiamos la ultima capa fc Linear(in_features=512, out_features=1000, bias=True)\n",
    "        # para calcular un embedding de dimension mucho menor\n",
    "        # TODO -- comentar en la memoria el cambio de ERROR que hacer esto nos ha supuesto\n",
    "        self.pretrained.fc = nn.Linear(in_features=512, out_features=EMBEDDING_DIMENSION, bias=True)\n",
    "\n",
    "    def forward(self, x: torch.Tensor) -> torch.Tensor:\n",
    "\n",
    "        # Tenemos como entrada tensores (1, 32, 28, 28) y \n",
    "        # queremos tensores (32, 1, 28, 28) para poder trabajar\n",
    "        # con la red pre-entrenada\n",
    "        x = torch.reshape(x, (32, 1, 28, 28))\n",
    "\n",
    "        # Usamos directamente la red pre-entrenada para hacer el forward\n",
    "        x = self.pretrained.forward(x)\n",
    "        \n",
    "        return x"
   ]
  },
  {
   "cell_type": "code",
   "execution_count": 10,
   "metadata": {},
   "outputs": [
    {
     "name": "stdout",
     "output_type": "stream",
     "text": [
      "Linear(in_features=512, out_features=4, bias=True)\n"
     ]
    }
   ],
   "source": [
    "tmp = ResNet18()\n",
    "print(tmp.pretrained.fc)"
   ]
  },
  {
   "cell_type": "markdown",
   "metadata": {
    "id": "40bdcf53"
   },
   "source": [
    "# Generación de triples\n",
    "\n",
    "- Para entrenar la red siamesa, necesitamos dar triples con los que computar el *triplet loss*\n",
    "- Por ello, es necesaria una fase previa de *triplets mining*\n",
    "- En todos los casos, crearemos *Datasets* de *Pytorch* para representar la creación de los triples\n",
    "- Hacemos esto basándonos el la [documentación oficial de Pytorch](https://pytorch.org/tutorials/beginner/data_loading_tutorial.html)"
   ]
  },
  {
   "cell_type": "markdown",
   "metadata": {
    "id": "142db1bf"
   },
   "source": [
    "## Generación de triples aleatorios\n",
    "\n",
    "- Es la forma más sencilla y directa para generar triples\n",
    "- Usaremos esta generación como baseline para más tarde realizar comparaciones"
   ]
  },
  {
   "cell_type": "code",
   "execution_count": 11,
   "metadata": {
    "colab": {
     "base_uri": "https://localhost:8080/",
     "height": 415
    },
    "id": "ef0dbb9f",
    "outputId": "f7735afe-8254-4494-d138-059d824b9dfe"
   },
   "outputs": [
    {
     "data": {
      "image/png": "[encoded data removed]",
      "text/plain": [
       "<Figure size 432x288 with 1 Axes>"
      ]
     },
     "metadata": {
      "needs_background": "light"
     },
     "output_type": "display_data"
    },
    {
     "data": {
      "image/png": "[encoded data removed]",
      "text/plain": [
       "<Figure size 432x288 with 1 Axes>"
      ]
     },
     "metadata": {
      "needs_background": "light"
     },
     "output_type": "display_data"
    },
    {
     "data": {
      "image/png": "[encoded data removed]",
      "text/plain": [
       "<Figure size 432x288 with 1 Axes>"
      ]
     },
     "metadata": {
      "needs_background": "light"
     },
     "output_type": "display_data"
    }
   ],
   "source": [
    "# TODO -- hay que implementar esto\n",
    "from torch.utils.data import RandomSampler\n",
    "\n",
    "\n",
    "class RandomTriplets(Dataset):\n",
    "    \"\"\"\n",
    "    Dataset en el que los elementos son triples obtenidos de forma aleatoria\n",
    "    \"\"\"\n",
    "\n",
    "    def __init__(self, base_data: Dataset, custom_len: int, transform = None):\n",
    "        self.base_data = base_data\n",
    "        self.custom_len = custom_len\n",
    "        self.transform = transform\n",
    "        self.random_sampler = RandomSampler(self.base_data, replacement=True, num_samples=1, generator=None)\n",
    "        \n",
    "        # Por motivos de eficiencia, pre-computamos una lista de listas, de forma\n",
    "        # que tengamos disponibles las listas con las posiciones de cada clase por\n",
    "        # separado.\n",
    "        self.posiciones_clases = self.__precompute_list_of_classes()\n",
    "\n",
    "    def __len__(self):\n",
    "        \"\"\"\n",
    "        Devolvemos el tamaño del dataset\n",
    "        Como estamos generando triples aleatorios, devolvemos el tamaño definido\n",
    "        por parametro\n",
    "        \"\"\"\n",
    "        return self.custom_len\n",
    "\n",
    "    def __getitem__(self, idx) -> Tuple[np.ndarray, np.ndarray, np.ndarray]:\n",
    "        \"\"\"\n",
    "        Funcion que es llamada cuando se hace dataset[idx]\n",
    "        En vez de devolver una imagen (que es lo comun en esta clase dataset), \n",
    "        devolvemos un triple (anchor, positive, negative) aleatorio\n",
    "        \"\"\"\n",
    "\n",
    "        # Hacemos esto por temas de eficiencia\n",
    "        if torch.is_tensor(idx):\n",
    "            idx = idx.tolist()\n",
    "\n",
    "        # Tomamos una imagen aleatoria que sera el ancla\n",
    "        anchor, anchor_class = self.base_data[next(iter(self.random_sampler))]\n",
    "\n",
    "        # Tomamos una imagen de la misma clase, que sera la positiva, de forma aleatoria\n",
    "        random_index = np.random.choice(self.posiciones_clases[anchor_class])\n",
    "        positive, positive_class = self.base_data[random_index]\n",
    "\n",
    "        # Tomamos una imagen de otra clase, que sera la negativa\n",
    "        # Empiezo tomando una clase que no sea la del anchor\n",
    "        posible_classes = list(range(10))\n",
    "        posible_classes.remove(anchor_class)\n",
    "        negative_class = np.random.choice(posible_classes)\n",
    "\n",
    "        # Ahora tomamos un indice aleatorio de esta clase negativa\n",
    "        random_index = np.random.choice(self.posiciones_clases[negative_class])\n",
    "        negative, negative_class = self.base_data[random_index]\n",
    "        \n",
    "        # Generamos ahora el triple\n",
    "        triplet = [anchor, positive, negative]\n",
    "\n",
    "        # Aplicamos la transformacion dada al dataset al ejemplo que devolvemos\n",
    "        if self.transform:\n",
    "            triplet = [self.transform(np.array(img)) for img in triplet]\n",
    "\n",
    "        return triplet\n",
    "\n",
    "    def __precompute_list_of_classes(self) -> List[List[int]]:\n",
    "        \"\"\"\n",
    "        Calcula la lista con las listas de posiciones de cada clase por separado\n",
    "        \"\"\"\n",
    "        # Inicializamos la lista de listas\n",
    "        posiciones_clases = [[] for _ in range(10)]\n",
    "\n",
    "        # Recorremos el dataset y colocamos los indices donde corresponde\n",
    "        for idx, element in enumerate(self.base_data):\n",
    "            _, img_class = element\n",
    "            posiciones_clases[img_class].append(idx)\n",
    "\n",
    "        return posiciones_clases\n",
    "\n",
    "    \n",
    "class CustomReshape(object):\n",
    "    \"\"\"Pasamos la imagen de (28, 1, 28) a (28, 28)\"\"\"\n",
    "\n",
    "    def __call__(self, image):\n",
    "        image = image.reshape(28, 28)\n",
    "        return image\n",
    "    \n",
    "# Necesitamos hacer reshape de las imagenes para que\n",
    "# sean (28, 28) y no (28, 1, 28)\n",
    "transform = transforms.Compose([\n",
    "    transforms.ToTensor(),\n",
    "    \n",
    "    # Hacemos reshape de las imagenes para\n",
    "    # que sean tensores (28, 28)\n",
    "    CustomReshape(),\n",
    "])\n",
    "\n",
    "# Generamos los triples aleatorios para training\n",
    "random_triplets_train = RandomTriplets(\n",
    "    base_data = train_dataset,\n",
    "    custom_len = RANDOM_TRIPLETS_DATA_SIZE,\n",
    "    transform = transform,\n",
    ")\n",
    "\n",
    "train_loader = torch.utils.data.DataLoader(\n",
    "    random_triplets_train,\n",
    "    batch_size = DATALOADER_BACH_SIZE,\n",
    "    shuffle = True,\n",
    "    num_workers = NUM_WORKERS,\n",
    "    pin_memory = True,\n",
    ")\n",
    "\n",
    "# Generamos los triples aleatorios para validacion\n",
    "random_triplets_validation = RandomTriplets(\n",
    "    base_data = validation_dataset,\n",
    "    custom_len = RANDOM_TRIPLETS_DATA_SIZE,\n",
    "    transform = transform,\n",
    ")\n",
    "\n",
    "validation_loader = torch.utils.data.DataLoader(\n",
    "    random_triplets_validation,\n",
    "    batch_size = DATALOADER_BACH_SIZE,\n",
    "    shuffle = True,\n",
    "    num_workers = NUM_WORKERS,\n",
    "    pin_memory = True,\n",
    ")\n",
    "\n",
    "# Generamos los triples aleatorios para test\n",
    "random_triplets_test = RandomTriplets(\n",
    "    base_data = test_dataset,\n",
    "    custom_len = RANDOM_TRIPLETS_DATA_SIZE,\n",
    "    transform = transform,\n",
    ")\n",
    "\n",
    "test_loader = torch.utils.data.DataLoader(\n",
    "    random_triplets_test,\n",
    "    batch_size = DATALOADER_BACH_SIZE,\n",
    "    shuffle = True,\n",
    "    num_workers = NUM_WORKERS,\n",
    "    pin_memory = True,\n",
    ")\n",
    "\n",
    "\n",
    "# TODO -- esto habria que borrarlo, esta aqui para hacer pruebas\n",
    "#Visualizamos un triple\n",
    "custom_triplet = random_triplets_train[2]\n",
    "for i in custom_triplet :\n",
    "    show_img(i, color_format_range = (-1.0, 1.0))\n"
   ]
  },
  {
   "cell_type": "markdown",
   "metadata": {},
   "source": [
    "# Definición de la función de pérdida"
   ]
  },
  {
   "cell_type": "code",
   "execution_count": 12,
   "metadata": {},
   "outputs": [],
   "source": [
    "class TripletLoss(nn.Module):\n",
    "    def __init__(self, margin=1.0):\n",
    "        super(TripletLoss, self).__init__()\n",
    "        self.margin = margin\n",
    "\n",
    "    def forward(self, anchor: torch.Tensor, positive: torch.Tensor, negative: torch.Tensor) -> torch.Tensor:       \n",
    "       \n",
    "        distance_positive = self.__euclidean_distance(anchor, positive)\n",
    "        distance_negative = self.__euclidean_distance(anchor, negative)\n",
    "\n",
    "        # Usamos Relu para que el error sea cero cuando la resta de las distancias\n",
    "        # este por debajo del margen. Si esta por encima del margen, devolvemos la\n",
    "        # identidad de dicho error. Es decir, aplicamos Relu a la formula que \n",
    "        # tenemos debajo\n",
    "        loss = torch.relu(distance_positive - distance_negative + self.margin)\n",
    "\n",
    "        return loss\n",
    "\n",
    "    def __euclidean_distance(self, first: torch.Tensor, second: torch.Tensor) -> float:\n",
    "        return ((first - second) * (first - second)).sum()\n",
    "\n",
    "class TripletLossCustom(nn.Module):\n",
    "    def __init__(self, margin=1.0):\n",
    "        super(TripletLossCustom, self).__init__()\n",
    "        self.margin = margin\n",
    "        self.base_loss = TripletLoss(self.margin)\n",
    "    \n",
    "    def forward(self, batch: torch.Tensor) -> torch.Tensor:\n",
    "        losses = torch.tensor(\n",
    "            [self.base_loss(current[0], current[1], current[2]) for current in batch], \n",
    "            requires_grad=True\n",
    "        )\n",
    "        return losses.mean()"
   ]
  },
  {
   "cell_type": "markdown",
   "metadata": {
    "id": "4a17b1e1"
   },
   "source": [
    "# Entrenamiento del modelo"
   ]
  },
  {
   "cell_type": "code",
   "execution_count": 13,
   "metadata": {},
   "outputs": [
    {
     "name": "stdout",
     "output_type": "stream",
     "text": [
      "ResNet18(\n",
      "  (pretrained): ResNet(\n",
      "    (conv1): Conv2d(1, 64, kernel_size=(7, 7), stride=(2, 2), padding=(3, 3), bias=False)\n",
      "    (bn1): BatchNorm2d(64, eps=1e-05, momentum=0.1, affine=True, track_running_stats=True)\n",
      "    (relu): ReLU(inplace=True)\n",
      "    (maxpool): MaxPool2d(kernel_size=3, stride=2, padding=1, dilation=1, ceil_mode=False)\n",
      "    (layer1): Sequential(\n",
      "      (0): BasicBlock(\n",
      "        (conv1): Conv2d(64, 64, kernel_size=(3, 3), stride=(1, 1), padding=(1, 1), bias=False)\n",
      "        (bn1): BatchNorm2d(64, eps=1e-05, momentum=0.1, affine=True, track_running_stats=True)\n",
      "        (relu): ReLU(inplace=True)\n",
      "        (conv2): Conv2d(64, 64, kernel_size=(3, 3), stride=(1, 1), padding=(1, 1), bias=False)\n",
      "        (bn2): BatchNorm2d(64, eps=1e-05, momentum=0.1, affine=True, track_running_stats=True)\n",
      "      )\n",
      "      (1): BasicBlock(\n",
      "        (conv1): Conv2d(64, 64, kernel_size=(3, 3), stride=(1, 1), padding=(1, 1), bias=False)\n",
      "        (bn1): BatchNorm2d(64, eps=1e-05, momentum=0.1, affine=True, track_running_stats=True)\n",
      "        (relu): ReLU(inplace=True)\n",
      "        (conv2): Conv2d(64, 64, kernel_size=(3, 3), stride=(1, 1), padding=(1, 1), bias=False)\n",
      "        (bn2): BatchNorm2d(64, eps=1e-05, momentum=0.1, affine=True, track_running_stats=True)\n",
      "      )\n",
      "    )\n",
      "    (layer2): Sequential(\n",
      "      (0): BasicBlock(\n",
      "        (conv1): Conv2d(64, 128, kernel_size=(3, 3), stride=(2, 2), padding=(1, 1), bias=False)\n",
      "        (bn1): BatchNorm2d(128, eps=1e-05, momentum=0.1, affine=True, track_running_stats=True)\n",
      "        (relu): ReLU(inplace=True)\n",
      "        (conv2): Conv2d(128, 128, kernel_size=(3, 3), stride=(1, 1), padding=(1, 1), bias=False)\n",
      "        (bn2): BatchNorm2d(128, eps=1e-05, momentum=0.1, affine=True, track_running_stats=True)\n",
      "        (downsample): Sequential(\n",
      "          (0): Conv2d(64, 128, kernel_size=(1, 1), stride=(2, 2), bias=False)\n",
      "          (1): BatchNorm2d(128, eps=1e-05, momentum=0.1, affine=True, track_running_stats=True)\n",
      "        )\n",
      "      )\n",
      "      (1): BasicBlock(\n",
      "        (conv1): Conv2d(128, 128, kernel_size=(3, 3), stride=(1, 1), padding=(1, 1), bias=False)\n",
      "        (bn1): BatchNorm2d(128, eps=1e-05, momentum=0.1, affine=True, track_running_stats=True)\n",
      "        (relu): ReLU(inplace=True)\n",
      "        (conv2): Conv2d(128, 128, kernel_size=(3, 3), stride=(1, 1), padding=(1, 1), bias=False)\n",
      "        (bn2): BatchNorm2d(128, eps=1e-05, momentum=0.1, affine=True, track_running_stats=True)\n",
      "      )\n",
      "    )\n",
      "    (layer3): Sequential(\n",
      "      (0): BasicBlock(\n",
      "        (conv1): Conv2d(128, 256, kernel_size=(3, 3), stride=(2, 2), padding=(1, 1), bias=False)\n",
      "        (bn1): BatchNorm2d(256, eps=1e-05, momentum=0.1, affine=True, track_running_stats=True)\n",
      "        (relu): ReLU(inplace=True)\n",
      "        (conv2): Conv2d(256, 256, kernel_size=(3, 3), stride=(1, 1), padding=(1, 1), bias=False)\n",
      "        (bn2): BatchNorm2d(256, eps=1e-05, momentum=0.1, affine=True, track_running_stats=True)\n",
      "        (downsample): Sequential(\n",
      "          (0): Conv2d(128, 256, kernel_size=(1, 1), stride=(2, 2), bias=False)\n",
      "          (1): BatchNorm2d(256, eps=1e-05, momentum=0.1, affine=True, track_running_stats=True)\n",
      "        )\n",
      "      )\n",
      "      (1): BasicBlock(\n",
      "        (conv1): Conv2d(256, 256, kernel_size=(3, 3), stride=(1, 1), padding=(1, 1), bias=False)\n",
      "        (bn1): BatchNorm2d(256, eps=1e-05, momentum=0.1, affine=True, track_running_stats=True)\n",
      "        (relu): ReLU(inplace=True)\n",
      "        (conv2): Conv2d(256, 256, kernel_size=(3, 3), stride=(1, 1), padding=(1, 1), bias=False)\n",
      "        (bn2): BatchNorm2d(256, eps=1e-05, momentum=0.1, affine=True, track_running_stats=True)\n",
      "      )\n",
      "    )\n",
      "    (layer4): Sequential(\n",
      "      (0): BasicBlock(\n",
      "        (conv1): Conv2d(256, 512, kernel_size=(3, 3), stride=(2, 2), padding=(1, 1), bias=False)\n",
      "        (bn1): BatchNorm2d(512, eps=1e-05, momentum=0.1, affine=True, track_running_stats=True)\n",
      "        (relu): ReLU(inplace=True)\n",
      "        (conv2): Conv2d(512, 512, kernel_size=(3, 3), stride=(1, 1), padding=(1, 1), bias=False)\n",
      "        (bn2): BatchNorm2d(512, eps=1e-05, momentum=0.1, affine=True, track_running_stats=True)\n",
      "        (downsample): Sequential(\n",
      "          (0): Conv2d(256, 512, kernel_size=(1, 1), stride=(2, 2), bias=False)\n",
      "          (1): BatchNorm2d(512, eps=1e-05, momentum=0.1, affine=True, track_running_stats=True)\n",
      "        )\n",
      "      )\n",
      "      (1): BasicBlock(\n",
      "        (conv1): Conv2d(512, 512, kernel_size=(3, 3), stride=(1, 1), padding=(1, 1), bias=False)\n",
      "        (bn1): BatchNorm2d(512, eps=1e-05, momentum=0.1, affine=True, track_running_stats=True)\n",
      "        (relu): ReLU(inplace=True)\n",
      "        (conv2): Conv2d(512, 512, kernel_size=(3, 3), stride=(1, 1), padding=(1, 1), bias=False)\n",
      "        (bn2): BatchNorm2d(512, eps=1e-05, momentum=0.1, affine=True, track_running_stats=True)\n",
      "      )\n",
      "    )\n",
      "    (avgpool): AdaptiveAvgPool2d(output_size=(1, 1))\n",
      "    (fc): Linear(in_features=512, out_features=4, bias=True)\n",
      "  )\n",
      ")\n"
     ]
    }
   ],
   "source": [
    "net = ResNet18()\n",
    "\n",
    "# TODO -- fijar bien los parametros\n",
    "parameters = dict()\n",
    "parameters[\"epochs\"] = TRAINING_EPOCHS\n",
    "parameters[\"lr\"] = 0.001\n",
    "parameters[\"criterion\"] = TripletLossCustom(MARGIN)\n",
    "\n",
    "# Definimos el logger que queremos para el entrenamiento\n",
    "logger = TripletLogger(\n",
    "    net = net,\n",
    "    iterations = 10 * DATALOADER_BACH_SIZE,\n",
    "    loss_func = parameters[\"criterion\"],\n",
    ")\n",
    "\n",
    "print(net)"
   ]
  },
  {
   "cell_type": "code",
   "execution_count": 14,
   "metadata": {
    "scrolled": false
   },
   "outputs": [
    {
     "name": "stdout",
     "output_type": "stream",
     "text": [
      "==> Training on device cuda:0\n",
      "\n",
      "[1 / 0]\n",
      "\tTraining loss: 0.017672942951321602\n",
      "\tValidation loss: 0.027432197704911232\n",
      "\n",
      "[2 / 0]\n",
      "\tTraining loss: 0.03543272241950035\n",
      "\tValidation loss: 0.045772485435009\n",
      "\n",
      "[3 / 0]\n",
      "\tTraining loss: 0.04514892399311066\n",
      "\tValidation loss: 0.05006704851984978\n",
      "\n",
      "[4 / 0]\n",
      "\tTraining loss: 0.05917375162243843\n",
      "\tValidation loss: 0.06008909270167351\n",
      "\n",
      "[5 / 0]\n",
      "\tTraining loss: 0.07992682605981827\n",
      "\tValidation loss: 0.03218846768140793\n",
      "\n",
      "[6 / 0]\n",
      "\tTraining loss: 0.05849564075469971\n",
      "\tValidation loss: 0.06455912441015244\n",
      "\n",
      "[7 / 0]\n",
      "\tTraining loss: 0.026623869314789772\n",
      "\tValidation loss: 0.07238863408565521\n",
      "\n",
      "[8 / 0]\n",
      "\tTraining loss: 0.03816487640142441\n",
      "\tValidation loss: 0.06750768423080444\n",
      "\n",
      "[9 / 0]\n",
      "\tTraining loss: 0.07175321131944656\n",
      "\tValidation loss: 0.08543692529201508\n",
      "\n",
      "[10 / 0]\n",
      "\tTraining loss: 0.07330672442913055\n",
      "\tValidation loss: 0.060202084481716156\n",
      "\n",
      "[11 / 0]\n",
      "\tTraining loss: 0.04519263654947281\n",
      "\tValidation loss: 0.08494304120540619\n",
      "\n",
      "[12 / 0]\n",
      "\tTraining loss: 0.04183827340602875\n",
      "\tValidation loss: 0.04054514318704605\n",
      "\n",
      "[13 / 0]\n",
      "\tTraining loss: 0.03442429378628731\n",
      "\tValidation loss: 0.048743050545454025\n",
      "\n",
      "[14 / 0]\n",
      "\tTraining loss: 0.03057880699634552\n",
      "\tValidation loss: 0.073873370885849\n",
      "\n",
      "[15 / 0]\n",
      "\tTraining loss: 0.1090613454580307\n",
      "\tValidation loss: 0.04793468862771988\n",
      "\n",
      "[16 / 0]\n",
      "\tTraining loss: 0.08629825711250305\n",
      "\tValidation loss: 0.07476244866847992\n",
      "\n",
      "[17 / 0]\n",
      "\tTraining loss: 0.04871044680476189\n",
      "\tValidation loss: 0.0537700280547142\n",
      "\n",
      "[18 / 0]\n",
      "\tTraining loss: 0.03354784473776817\n",
      "\tValidation loss: 0.04188395291566849\n",
      "\n",
      "[19 / 0]\n",
      "\tTraining loss: 0.05007225275039673\n",
      "\tValidation loss: 0.058375198394060135\n",
      "\n",
      "Finished training\n"
     ]
    }
   ],
   "source": [
    "training_history = core.train_model(\n",
    "    net = net,\n",
    "    path = os.path.join(BASE_PATH, \"tmp\"),\n",
    "    parameters = parameters,\n",
    "    train_loader = train_loader,\n",
    "    validation_loader = validation_loader,\n",
    "    name = \"SiameseNetwork\",\n",
    "    logger = logger,\n",
    "    snapshot_iterations = None\n",
    ")"
   ]
  },
  {
   "cell_type": "code",
   "execution_count": 15,
   "metadata": {},
   "outputs": [
    {
     "data": {
      "image/png": "[encoded data removed]",
      "text/plain": [
       "<Figure size 432x288 with 1 Axes>"
      ]
     },
     "metadata": {
      "needs_background": "light"
     },
     "output_type": "display_data"
    }
   ],
   "source": [
    "show_learning_curve(training_history)"
   ]
  },
  {
   "cell_type": "markdown",
   "metadata": {
    "id": "dc92ce37"
   },
   "source": [
    "# Evaluación del modelo\n",
    "\n",
    "- Mostramos algunas métricas fundamentales sobre el conjunto de"
   ]
  },
  {
   "cell_type": "code",
   "execution_count": 16,
   "metadata": {
    "id": "2242eedc"
   },
   "outputs": [],
   "source": [
    "# TODO -- hay que implementar algunas metricas"
   ]
  },
  {
   "cell_type": "markdown",
   "metadata": {
    "id": "5c946904"
   },
   "source": [
    "# Adaptación del modelo para usarlo como clasificador\n",
    "\n",
    "- Nuestro modelo genera un *embedding*\n",
    "- Adaptamos el modelo para que, a partir de dicho embedding, podamos usarlo como un clasificador"
   ]
  },
  {
   "cell_type": "code",
   "execution_count": 17,
   "metadata": {
    "id": "3d33aa9d"
   },
   "outputs": [],
   "source": [
    "# TODO -- adaptar el modelo"
   ]
  },
  {
   "cell_type": "markdown",
   "metadata": {
    "id": "f644bbed"
   },
   "source": [
    "## Evaluación del clasificador obtenido\n",
    "\n",
    "- Ahora que hemos adaptado el modelo para usarlo como clasificador, podemos consultar ciertas métricas de clasificación"
   ]
  },
  {
   "cell_type": "code",
   "execution_count": 18,
   "metadata": {
    "id": "030af6e5"
   },
   "outputs": [],
   "source": [
    "# TODO -- implementar las métricas de clasificación"
   ]
  }
 ],
 "metadata": {
  "accelerator": "GPU",
  "colab": {
   "collapsed_sections": [],
   "name": "Notebook.ipynb",
   "provenance": [],
   "toc_visible": true
  },
  "kernelspec": {
   "display_name": "Python 3",
   "language": "python",
   "name": "python3"
  },
  "language_info": {
   "codemirror_mode": {
    "name": "ipython",
    "version": 3
   },
   "file_extension": ".py",
   "mimetype": "text/x-python",
   "name": "python",
   "nbconvert_exporter": "python",
   "pygments_lexer": "ipython3",
   "version": "3.8.5"
  }
 },
 "nbformat": 4,
 "nbformat_minor": 5
}
