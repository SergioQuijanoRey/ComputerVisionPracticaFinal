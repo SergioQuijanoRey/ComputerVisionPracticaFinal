{
  "cells": [
    {
      "cell_type": "markdown",
      "metadata": {
        "id": "23ef89e1",
        "tags": []
      },
      "source": [
        "# Parámetros globales del *Notebook*"
      ],
      "id": "23ef89e1"
    },
    {
      "cell_type": "code",
      "execution_count": 1,
      "metadata": {
        "id": "c8cc3fb4"
      },
      "outputs": [],
      "source": [
        "# Para definir los path\n",
        "import os\n",
        "\n",
        "# Define si estamos ejecutando el Notebook en nuestro \n",
        "# ordenador (\"local\") o en Google Colab (\"remote\")\n",
        "RUNNING_ENV = \"remote\"\n",
        "\n",
        "# Path que vamos a usar como base para el resto de paths\n",
        "BASE_PATH = \"./\" if RUNNING_ENV == \"local\" else \"/content/drive/MyDrive/Colab Notebooks/\"\n",
        "\n",
        "# Directorio en el que guardamos los scripts de python que usamos \n",
        "# como libreria propia\n",
        "LIB_PATH = os.path.join(BASE_PATH, \"lib\")\n",
        "\n",
        "# Directorio en el que guardamos los datos de entrenamiento y test\n",
        "DATA_PATH = os.path.join(BASE_PATH, \"data\")\n",
        "\n",
        "# Numero de procesos que queremos usar\n",
        "NUM_WORKERS = 2\n",
        "\n",
        "# Batch size que queremos usar para entrenamiento offline\n",
        "DATALOADER_BACH_SIZE = 32\n",
        "\n",
        "# Bath size que queremos usar para entrenamiento online\n",
        "ONLINE_BATCH_SIZE = 2**10\n",
        "\n",
        "# Tamaño del conjunto de triples aleatorios\n",
        "# Tiene que ser un multiplo de DATALOADER_BACH_SIZE para que\n",
        "# la red tome correctamente los batches que espera\n",
        "RANDOM_TRIPLETS_DATA_SIZE = DATALOADER_BACH_SIZE * 15\n",
        "\n",
        "# Numero de epocas por las que queremos entrenar\n",
        "TRAINING_EPOCHS = 1\n",
        "\n",
        "# Margen para la funcion de perdida\n",
        "MARGIN = 0.1\n",
        "\n",
        "# Dimension del embedding que calculamos\n",
        "EMBEDDING_DIMENSION = 2\n",
        "\n",
        "# Numero de vecinos a usar en la adaptacion a clasificador\n",
        "NUMBER_NEIGHBOURS = 3\n",
        "\n",
        "# Semilla aleatoria para aquellas partes en las que fijamos el estado aleatorio\n",
        "RANDOM_SEED = 123456789\n",
        "\n",
        "# Controla si queremos evitar toda la parte del entrenamiento\n",
        "# con triples aleatorios\n",
        "# TODO -- antes de entregar poner a False\n",
        "SKIP_RANDOM_TRIPLETS_TRAINING = True\n",
        "\n",
        "# Controla si queremos entrenar el modelo y usarlo o \n",
        "# no entrenar nada y cargar el modelo entrenado de disco\n",
        "# Cuando es False, entrenamos y ademas actualizamos el modelo \n",
        "# en disco\n",
        "# TODO -- poner esto a False\n",
        "USE_CACHED_MODEL = True\n",
        "MODEL_CACHE_FOLDER = os.path.join(BASE_PATH, \"cached_models\")\n",
        "\n",
        "# Controla si queremos saltarnos o no el hyperparameter \n",
        "# tuning para el entrenamiento online \n",
        "SKIP_HYPERPARAMTER_TUNING = False"
      ],
      "id": "c8cc3fb4"
    },
    {
      "cell_type": "markdown",
      "metadata": {
        "id": "c155001b"
      },
      "source": [
        "# Autorización si estamos usando Google Drive"
      ],
      "id": "c155001b"
    },
    {
      "cell_type": "code",
      "execution_count": 2,
      "metadata": {
        "colab": {
          "base_uri": "https://localhost:8080/"
        },
        "id": "f6784bd8",
        "outputId": "c47e8e8d-12ec-4e43-f5cc-e39b2dc7760e"
      },
      "outputs": [
        {
          "output_type": "stream",
          "name": "stdout",
          "text": [
            "Drive already mounted at /content/drive; to attempt to forcibly remount, call drive.mount(\"/content/drive\", force_remount=True).\n"
          ]
        }
      ],
      "source": [
        "if RUNNING_ENV == \"remote\":\n",
        "    from google.colab import drive\n",
        "    drive.mount('/content/drive')"
      ],
      "id": "f6784bd8"
    },
    {
      "cell_type": "markdown",
      "metadata": {
        "id": "67d9d57d"
      },
      "source": [
        "# Importando los módulos que vamos a usar"
      ],
      "id": "67d9d57d"
    },
    {
      "cell_type": "code",
      "execution_count": 3,
      "metadata": {
        "id": "d2c35e87"
      },
      "outputs": [],
      "source": [
        "import torch\n",
        "import torch.nn as nn\n",
        "import torch.nn.functional as F\n",
        "import torch.optim as optim\n",
        "\n",
        "\n",
        "import torchvision\n",
        "import torchvision.datasets as datasets\n",
        "\n",
        "# Para poder usar ResNet18 preentrenado\n",
        "import torchvision.models as models \n",
        "import torchvision.transforms as transforms\n",
        "\n",
        "from torch.utils.data import Dataset, DataLoader\n",
        "\n",
        "import matplotlib.pyplot as plt\n",
        "import numpy as np\n",
        "import os\n",
        "from datetime import datetime\n",
        "from pprint import pprint\n",
        "import gc\n",
        "import functools\n",
        "\n",
        "# Todas las piezas concretas que usamos de sklearn\n",
        "from sklearn.metrics import roc_auc_score, accuracy_score, silhouette_score\n",
        "from sklearn.model_selection import ShuffleSplit\n",
        "\n",
        "# Cargamos en el Notebook todos los ficheros .py que definen nuestra propia libreria\n",
        "# Usamos esta libreria para escribir el codigo base necesario para llevar a cabo ciertas\n",
        "# tareas del notebook (como el bucle de entrenamiento) que no tienen interes mostrar\n",
        "# en este notebook\n",
        "!cp -r \"$LIB_PATH\"/* .\n",
        "\n",
        "# Ahora que hemos cargado estos ficheros en el Notebook, importamos lo necesario\n",
        "# de nuestra propia libreria\n",
        "import core\n",
        "import time\n",
        "import copy\n",
        "import board\n",
        "import filesystem\n",
        "import metrics\n",
        "from train_loggers import ClassificationLogger, SilentLogger, TripletLoggerOffline, TripletLoggerOnline, TrainLogger\n",
        "from models.resnet import *\n",
        "from visualizations import *\n",
        "from custom_loss import triplet_loss_batch_hard\n",
        "from tqdm.notebook import tqdm\n",
        "from core import train_model_offline, train_model_online\n",
        "\n",
        "from sklearn.neighbors import KNeighborsClassifier"
      ],
      "id": "d2c35e87"
    },
    {
      "cell_type": "code",
      "source": [
        "# Si estamos en google colab, instalamos primero el paquete y luego importamos optuna\n",
        "if RUNNING_ENV == \"remote\":\n",
        "    !pip install optuna\n",
        "\n",
        "import optuna"
      ],
      "metadata": {
        "colab": {
          "base_uri": "https://localhost:8080/"
        },
        "id": "EN5e1ZXhDsVt",
        "outputId": "79d19638-1902-4c03-b641-31d4c6f53da7"
      },
      "id": "EN5e1ZXhDsVt",
      "execution_count": 4,
      "outputs": [
        {
          "output_type": "stream",
          "name": "stdout",
          "text": [
            "Requirement already satisfied: optuna in /usr/local/lib/python3.7/dist-packages (2.10.0)\n",
            "Requirement already satisfied: sqlalchemy>=1.1.0 in /usr/local/lib/python3.7/dist-packages (from optuna) (1.4.29)\n",
            "Requirement already satisfied: PyYAML in /usr/local/lib/python3.7/dist-packages (from optuna) (3.13)\n",
            "Requirement already satisfied: alembic in /usr/local/lib/python3.7/dist-packages (from optuna) (1.7.5)\n",
            "Requirement already satisfied: cmaes>=0.8.2 in /usr/local/lib/python3.7/dist-packages (from optuna) (0.8.2)\n",
            "Requirement already satisfied: scipy!=1.4.0 in /usr/local/lib/python3.7/dist-packages (from optuna) (1.4.1)\n",
            "Requirement already satisfied: numpy in /usr/local/lib/python3.7/dist-packages (from optuna) (1.19.5)\n",
            "Requirement already satisfied: colorlog in /usr/local/lib/python3.7/dist-packages (from optuna) (6.6.0)\n",
            "Requirement already satisfied: tqdm in /usr/local/lib/python3.7/dist-packages (from optuna) (4.62.3)\n",
            "Requirement already satisfied: cliff in /usr/local/lib/python3.7/dist-packages (from optuna) (3.10.0)\n",
            "Requirement already satisfied: packaging>=20.0 in /usr/local/lib/python3.7/dist-packages (from optuna) (21.3)\n",
            "Requirement already satisfied: pyparsing!=3.0.5,>=2.0.2 in /usr/local/lib/python3.7/dist-packages (from packaging>=20.0->optuna) (3.0.6)\n",
            "Requirement already satisfied: greenlet!=0.4.17 in /usr/local/lib/python3.7/dist-packages (from sqlalchemy>=1.1.0->optuna) (1.1.2)\n",
            "Requirement already satisfied: importlib-metadata in /usr/local/lib/python3.7/dist-packages (from sqlalchemy>=1.1.0->optuna) (4.10.0)\n",
            "Requirement already satisfied: importlib-resources in /usr/local/lib/python3.7/dist-packages (from alembic->optuna) (5.4.0)\n",
            "Requirement already satisfied: Mako in /usr/local/lib/python3.7/dist-packages (from alembic->optuna) (1.1.6)\n",
            "Requirement already satisfied: stevedore>=2.0.1 in /usr/local/lib/python3.7/dist-packages (from cliff->optuna) (3.5.0)\n",
            "Requirement already satisfied: PrettyTable>=0.7.2 in /usr/local/lib/python3.7/dist-packages (from cliff->optuna) (3.0.0)\n",
            "Requirement already satisfied: pbr!=2.1.0,>=2.0.0 in /usr/local/lib/python3.7/dist-packages (from cliff->optuna) (5.8.0)\n",
            "Requirement already satisfied: cmd2>=1.0.0 in /usr/local/lib/python3.7/dist-packages (from cliff->optuna) (2.3.3)\n",
            "Requirement already satisfied: autopage>=0.4.0 in /usr/local/lib/python3.7/dist-packages (from cliff->optuna) (0.4.0)\n",
            "Requirement already satisfied: attrs>=16.3.0 in /usr/local/lib/python3.7/dist-packages (from cmd2>=1.0.0->cliff->optuna) (21.4.0)\n",
            "Requirement already satisfied: wcwidth>=0.1.7 in /usr/local/lib/python3.7/dist-packages (from cmd2>=1.0.0->cliff->optuna) (0.2.5)\n",
            "Requirement already satisfied: pyperclip>=1.6 in /usr/local/lib/python3.7/dist-packages (from cmd2>=1.0.0->cliff->optuna) (1.8.2)\n",
            "Requirement already satisfied: typing-extensions in /usr/local/lib/python3.7/dist-packages (from cmd2>=1.0.0->cliff->optuna) (3.10.0.2)\n",
            "Requirement already satisfied: zipp>=0.5 in /usr/local/lib/python3.7/dist-packages (from importlib-metadata->sqlalchemy>=1.1.0->optuna) (3.7.0)\n",
            "Requirement already satisfied: MarkupSafe>=0.9.2 in /usr/local/lib/python3.7/dist-packages (from Mako->alembic->optuna) (2.0.1)\n"
          ]
        }
      ]
    },
    {
      "cell_type": "markdown",
      "metadata": {
        "id": "97c7e921"
      },
      "source": [
        "# Funciones comunes que vamos a usar en el notebook"
      ],
      "id": "97c7e921"
    },
    {
      "cell_type": "code",
      "execution_count": 5,
      "metadata": {
        "id": "08762464"
      },
      "outputs": [],
      "source": [
        "def show_learning_curve(training_history: dict):\n",
        "    # Tomamos las dos funciones de perdida\n",
        "    loss = training_history['loss']\n",
        "    val_loss = training_history['val_loss']\n",
        "    \n",
        "    # Mostramos las graficas\n",
        "    plt.plot(loss)\n",
        "    plt.plot(val_loss)\n",
        "    plt.legend(['Training loss', 'Validation loss'])\n",
        "    plt.show()\n",
        "    \n",
        "def try_to_clean_memory(): \n",
        "    torch.cuda.empty_cache() \n",
        "    gc.collect()"
      ],
      "id": "08762464"
    },
    {
      "cell_type": "markdown",
      "metadata": {
        "id": "2eea5f6b"
      },
      "source": [
        "# Carga del conjunto de datos\n",
        "\n",
        "- Cargamos los datos de entrenamiento y test\n",
        "- Además, separamos train en train y validación"
      ],
      "id": "2eea5f6b"
    },
    {
      "cell_type": "code",
      "execution_count": 6,
      "metadata": {
        "id": "452699e8"
      },
      "outputs": [],
      "source": [
        "# Transformaciones que queremos aplicar al cargar los datos\n",
        "# Ahora solo pasamos las imagenes a tensores, pero podriamos hacer aqui normalizaciones\n",
        "transform = transforms.Compose([\n",
        "    transforms.ToTensor(),\n",
        "    # TODO -- aqui podemos añadir la normaliazcion de datos\n",
        "])\n",
        "\n",
        "# Cargamos el dataset usando torchvision, que ya tiene el conjunto\n",
        "# preparado para descargar\n",
        "train_dataset = torchvision.datasets.FashionMNIST(\n",
        "    root = DATA_PATH,\n",
        "    train = True,\n",
        "    download = True,\n",
        "    transform = transform,\n",
        ")\n",
        "\n",
        "test_dataset = torchvision.datasets.FashionMNIST(\n",
        "    root = DATA_PATH,\n",
        "    train = False,\n",
        "    download = True,\n",
        "    transform = transform,\n",
        ")\n",
        "\n",
        "# Separamos train en train y validacion\n",
        "train_dataset, validation_dataset = core.split_train_test(train_dataset, 0.8)\n",
        "\n",
        "# Data loaders para acceder a los datos\n",
        "train_loader = torch.utils.data.DataLoader(\n",
        "    train_dataset,\n",
        "    batch_size = DATALOADER_BACH_SIZE,\n",
        "    shuffle = True,\n",
        "    num_workers = NUM_WORKERS,\n",
        "    pin_memory = True,\n",
        ")\n",
        "\n",
        "validation_loader = torch.utils.data.DataLoader(\n",
        "    validation_dataset,\n",
        "    batch_size = DATALOADER_BACH_SIZE,\n",
        "    shuffle = True,\n",
        "    num_workers = NUM_WORKERS,\n",
        "    pin_memory = True,\n",
        ")\n",
        "\n",
        "test_loader = torch.utils.data.DataLoader(\n",
        "  train_dataset,\n",
        "  batch_size = DATALOADER_BACH_SIZE,\n",
        "  shuffle = True,\n",
        "  num_workers = NUM_WORKERS,\n",
        "  pin_memory = True,\n",
        ")"
      ],
      "id": "452699e8"
    },
    {
      "cell_type": "markdown",
      "metadata": {
        "id": "5c057c3d"
      },
      "source": [
        "# Definiendo las clases con las que vamos a trabajar"
      ],
      "id": "5c057c3d"
    },
    {
      "cell_type": "code",
      "execution_count": 7,
      "metadata": {
        "id": "b0de0753"
      },
      "outputs": [],
      "source": [
        "# Clases con las que vamos a trabajar\n",
        "# Esta lista especifica la relacion numero -> nombre de la forma\n",
        "# classes[numero] = nombre\n",
        "classes = (\n",
        "    \"T-shirt/top\",\n",
        "    \"Trouser\",\n",
        "    \"Pullover\",\n",
        "    \"Dress\",\n",
        "    \"Coat\",\n",
        "    \"Sandal\",\n",
        "    \"Shirt\",\n",
        "    \"Sneaker\",\n",
        "    \"Bag\",\n",
        "    \"Ankle boot\",\n",
        ")"
      ],
      "id": "b0de0753"
    },
    {
      "cell_type": "markdown",
      "metadata": {
        "id": "9d74819e",
        "tags": []
      },
      "source": [
        "# Análisis Exploratorio de datos"
      ],
      "id": "9d74819e"
    },
    {
      "cell_type": "markdown",
      "metadata": {
        "id": "73ebca17"
      },
      "source": [
        "Mostramos algunas imágenes con sus clases para asegurar que hemos cargado correctamente las imágenes del conjunto de datos:"
      ],
      "id": "73ebca17"
    },
    {
      "cell_type": "code",
      "execution_count": 8,
      "metadata": {
        "colab": {
          "base_uri": "https://localhost:8080/",
          "height": 1000
        },
        "id": "6913658d",
        "outputId": "4371fee4-462a-4079-c737-3e876c75428a"
      },
      "outputs": [
        {
          "output_type": "stream",
          "name": "stdout",
          "text": [
            "La clase obtenida es: Coat\n"
          ]
        },
        {
          "output_type": "display_data",
          "data": {
            "image/png": "[encoded data removed]",
            "text/plain": [
              "<Figure size 432x288 with 1 Axes>"
            ]
          },
          "metadata": {
            "needs_background": "light"
          }
        },
        {
          "output_type": "stream",
          "name": "stdout",
          "text": [
            "La clase obtenida es: Shirt\n"
          ]
        },
        {
          "output_type": "display_data",
          "data": {
            "image/png": "[encoded data removed]",
            "text/plain": [
              "<Figure size 432x288 with 1 Axes>"
            ]
          },
          "metadata": {
            "needs_background": "light"
          }
        },
        {
          "output_type": "stream",
          "name": "stdout",
          "text": [
            "La clase obtenida es: Sandal\n"
          ]
        },
        {
          "output_type": "display_data",
          "data": {
            "image/png": "[encoded data removed]",
            "text/plain": [
              "<Figure size 432x288 with 1 Axes>"
            ]
          },
          "metadata": {
            "needs_background": "light"
          }
        },
        {
          "output_type": "stream",
          "name": "stdout",
          "text": [
            "La clase obtenida es: Sneaker\n"
          ]
        },
        {
          "output_type": "display_data",
          "data": {
            "image/png": "[encoded data removed]",
            "text/plain": [
              "<Figure size 432x288 with 1 Axes>"
            ]
          },
          "metadata": {
            "needs_background": "light"
          }
        },
        {
          "output_type": "stream",
          "name": "stdout",
          "text": [
            "La clase obtenida es: Coat\n"
          ]
        },
        {
          "output_type": "display_data",
          "data": {
            "image/png": "[encoded data removed]",
            "text/plain": [
              "<Figure size 432x288 with 1 Axes>"
            ]
          },
          "metadata": {
            "needs_background": "light"
          }
        }
      ],
      "source": [
        "imgs_to_show = 5\n",
        "\n",
        "for _ in range(imgs_to_show):\n",
        "\n",
        "    # Cargamos un batch de imagenes\n",
        "    images, images_classes = next(iter(train_loader))\n",
        "\n",
        "    # Nos quedamos con la primera imagen del batch\n",
        "    img, img_class = images[0], images_classes[0]\n",
        "\n",
        "    # Mostramos alguna informacion de la imagen\n",
        "    print(f\"La clase obtenida es: {classes[img_class]}\")\n",
        "\n",
        "    # Re-escalamos y mostramos la imagen\n",
        "    img = img.reshape((28, 28))\n",
        "    show_img(img, color_format_range = (-1.0, 1.0))"
      ],
      "id": "6913658d"
    },
    {
      "cell_type": "markdown",
      "metadata": {
        "id": "64b64e5c"
      },
      "source": [
        "Mostramos ahora unas cuantas imágenes de forma simultánea:"
      ],
      "id": "64b64e5c"
    },
    {
      "cell_type": "markdown",
      "metadata": {
        "id": "983f7e35"
      },
      "source": [
        "Mostramos ahora los tamaños del dataset:"
      ],
      "id": "983f7e35"
    },
    {
      "cell_type": "code",
      "execution_count": 9,
      "metadata": {
        "colab": {
          "base_uri": "https://localhost:8080/"
        },
        "id": "762ead5e",
        "outputId": "91b111d8-a21e-4e19-ce5f-c88a4fd18cc1",
        "scrolled": false
      },
      "outputs": [
        {
          "output_type": "stream",
          "name": "stdout",
          "text": [
            "Tenemos 48000 imágenes de entrenamiento\n",
            "Tenemos 10000 imágenes de test\n"
          ]
        }
      ],
      "source": [
        "print(f\"Tenemos {len(train_dataset)} imágenes de entrenamiento\")\n",
        "print(f\"Tenemos {len(test_dataset)} imágenes de test\")"
      ],
      "id": "762ead5e"
    },
    {
      "cell_type": "markdown",
      "metadata": {
        "id": "4c4ab9cd"
      },
      "source": [
        "# Definiendo el modelo base\n",
        "\n",
        "- A continuación, definimos el modelo que vamos a usasr como base para nuestra red siamesa\n",
        "- Usaremos el modelo pre-entrenado ResNet18, pre-entrenado en ImageNet"
      ],
      "id": "4c4ab9cd"
    },
    {
      "cell_type": "code",
      "execution_count": 10,
      "metadata": {
        "id": "8d3a00ed"
      },
      "outputs": [],
      "source": [
        "class ResNet18(torch.nn.Module):\n",
        "    def __init__(self):\n",
        "        \n",
        "        super(ResNet18, self).__init__()\n",
        "        \n",
        "        # Tomamos el modelo pre-entrenado ResNet18\n",
        "        self.pretrained = models.resnet18(pretrained=True)\n",
        "        \n",
        "        # Cambiamos la primera convolucion para que en vez\n",
        "        # de tres canales acepte un canal para las imagenes\n",
        "        # de entrada\n",
        "        self.pretrained.conv1 = nn.Conv2d(in_channels = 1, out_channels = 64, kernel_size=7, stride=2, padding=3, bias=False)\n",
        "\n",
        "        # Cambiamos la ultima capa fc Linear(in_features=512, out_features=1000, bias=True)\n",
        "        # para calcular un embedding de dimension mucho menor\n",
        "        # TODO -- comentar en la memoria el cambio de ERROR que hacer esto nos ha supuesto\n",
        "        self.pretrained.fc = nn.Linear(in_features=512, out_features=EMBEDDING_DIMENSION, bias=True)\n",
        "        \n",
        "        # Por defecto siempre realizamos la permutacion del tensor de entrada\n",
        "        self.should_permute = True\n",
        "\n",
        "    def forward(self, x: torch.Tensor) -> torch.Tensor:\n",
        "\n",
        "        # Tenemos como entrada tensores (1, DATALOADER_BACH_SIZE, 28, 28) y \n",
        "        # queremos tensores (DATALOADER_BACH_SIZE, 1, 28, 28) para poder trabajar\n",
        "        # con la red pre-entrenada\n",
        "        # Usamos permute en vez de reshape porque queremos que tambien funcione al\n",
        "        # realizar inferencia con distintos tamaños de minibatch (ie. 1)\n",
        "        if self.should_permute is True:\n",
        "            x = torch.permute(x, (1, 0, 2, 3))\n",
        "\n",
        "        # Usamos directamente la red pre-entrenada para hacer el forward\n",
        "        x = self.pretrained.forward(x)\n",
        "        \n",
        "        return x\n",
        "    \n",
        "    def set_permute(self, should_permute: bool):\n",
        "        self.should_permute = should_permute"
      ],
      "id": "8d3a00ed"
    },
    {
      "cell_type": "markdown",
      "metadata": {
        "id": "40bdcf53"
      },
      "source": [
        "# Generación de triples\n",
        "\n",
        "- Para entrenar la red siamesa, necesitamos dar triples con los que computar el *triplet loss*\n",
        "- Por ello, es necesaria una fase previa de *triplets mining*\n",
        "- En todos los casos, crearemos *Datasets* de *Pytorch* para representar la creación de los triples\n",
        "- Hacemos esto basándonos el la [documentación oficial de Pytorch](https://pytorch.org/tutorials/beginner/data_loading_tutorial.html)"
      ],
      "id": "40bdcf53"
    },
    {
      "cell_type": "markdown",
      "metadata": {
        "id": "142db1bf"
      },
      "source": [
        "## Generación de triples aleatorios\n",
        "\n",
        "- Es la forma más sencilla y directa para generar triples\n",
        "- Usaremos esta generación como baseline para más tarde realizar comparaciones"
      ],
      "id": "142db1bf"
    },
    {
      "cell_type": "code",
      "execution_count": 11,
      "metadata": {
        "id": "ef0dbb9f"
      },
      "outputs": [],
      "source": [
        "from torch.utils.data import RandomSampler\n",
        "\n",
        "class RandomTriplets(Dataset):\n",
        "    \"\"\"\n",
        "    Dataset en el que los elementos son triples obtenidos de forma aleatoria\n",
        "    \"\"\"\n",
        "\n",
        "    def __init__(self, base_data: Dataset, custom_len: int, transform = None):\n",
        "        self.base_data = base_data\n",
        "        self.custom_len = custom_len\n",
        "        self.transform = transform\n",
        "        self.random_sampler = RandomSampler(self.base_data, replacement=True, num_samples=1, generator=None)\n",
        "        \n",
        "        # Por motivos de eficiencia, pre-computamos una lista de listas, de forma\n",
        "        # que tengamos disponibles las listas con las posiciones de cada clase por\n",
        "        # separado.\n",
        "        self.posiciones_clases = self.__precompute_list_of_classes()\n",
        "\n",
        "    def __len__(self):\n",
        "        \"\"\"\n",
        "        Devolvemos el tamaño del dataset\n",
        "        Como estamos generando triples aleatorios, devolvemos el tamaño definido\n",
        "        por parametro\n",
        "        \"\"\"\n",
        "        return self.custom_len\n",
        "\n",
        "    def __getitem__(self, idx) -> Tuple[np.ndarray, np.ndarray, np.ndarray]:\n",
        "        \"\"\"\n",
        "        Funcion que es llamada cuando se hace dataset[idx]\n",
        "        En vez de devolver una imagen (que es lo comun en esta clase dataset), \n",
        "        devolvemos un triple (anchor, positive, negative) aleatorio\n",
        "        \"\"\"\n",
        "\n",
        "        # Hacemos esto por temas de eficiencia\n",
        "        if torch.is_tensor(idx):\n",
        "            idx = idx.tolist()\n",
        "\n",
        "        # Tomamos una imagen aleatoria que sera el ancla\n",
        "        anchor, anchor_class = self.base_data[next(iter(self.random_sampler))]\n",
        "\n",
        "        # Tomamos una imagen de la misma clase, que sera la positiva, de forma aleatoria\n",
        "        random_index = np.random.choice(self.posiciones_clases[anchor_class])\n",
        "        positive, positive_class = self.base_data[random_index]\n",
        "\n",
        "        # Tomamos una imagen de otra clase, que sera la negativa\n",
        "        # Empiezo tomando una clase que no sea la del anchor\n",
        "        posible_classes = list(range(10))\n",
        "        posible_classes.remove(anchor_class)\n",
        "        negative_class = np.random.choice(posible_classes)\n",
        "\n",
        "        # Ahora tomamos un indice aleatorio de esta clase negativa\n",
        "        random_index = np.random.choice(self.posiciones_clases[negative_class])\n",
        "        negative, negative_class = self.base_data[random_index]\n",
        "        \n",
        "        # Generamos ahora el triple\n",
        "        triplet = [anchor, positive, negative]\n",
        "\n",
        "        # Aplicamos la transformacion dada al dataset al ejemplo que devolvemos\n",
        "        if self.transform:\n",
        "            triplet = [self.transform(np.array(img)) for img in triplet]\n",
        "\n",
        "        return triplet\n",
        "\n",
        "    def __precompute_list_of_classes(self) -> List[List[int]]:\n",
        "        \"\"\"\n",
        "        Calcula la lista con las listas de posiciones de cada clase por separado\n",
        "        \"\"\"\n",
        "        # Inicializamos la lista de listas\n",
        "        posiciones_clases = [[] for _ in range(10)]\n",
        "\n",
        "        # Recorremos el dataset y colocamos los indices donde corresponde\n",
        "        for idx, element in enumerate(self.base_data):\n",
        "            _, img_class = element\n",
        "            posiciones_clases[img_class].append(idx)\n",
        "\n",
        "        return posiciones_clases\n",
        "\n",
        "    \n",
        "class CustomReshape(object):\n",
        "    \"\"\"Pasamos la imagen de (28, 1, 28) a (28, 28)\"\"\"\n",
        "\n",
        "    def __call__(self, image):\n",
        "        image = image.reshape(28, 28)\n",
        "        return image"
      ],
      "id": "ef0dbb9f"
    },
    {
      "cell_type": "code",
      "execution_count": 12,
      "metadata": {
        "id": "hWmTfGGx-0mq"
      },
      "outputs": [],
      "source": [
        "# Controlamos si queremos ejecutar esta seccion o no \n",
        "if SKIP_RANDOM_TRIPLETS_TRAINING is False:\n",
        "   \n",
        "    # Antes de modificar la base de datos para convertirla a triples\n",
        "    # la guardamos, porque mas adelante nos hara falta\n",
        "    old_train_dataset = train_dataset\n",
        "    old_test_dataset = test_dataset\n",
        "\n",
        "    # Necesitamos hacer reshape de las imagenes para que\n",
        "    # sean (28, 28) y no (28, 1, 28)\n",
        "    transform = transforms.Compose([\n",
        "        transforms.ToTensor(),\n",
        "\n",
        "        # Hacemos reshape de las imagenes para\n",
        "        # que sean tensores (28, 28)\n",
        "        CustomReshape(),\n",
        "    ])\n",
        "\n",
        "    # Generamos los triples aleatorios para training\n",
        "    random_triplets_train = RandomTriplets(\n",
        "        base_data = train_dataset,\n",
        "        custom_len = RANDOM_TRIPLETS_DATA_SIZE,\n",
        "        transform = transform,\n",
        "    )\n",
        "\n",
        "    train_loader = torch.utils.data.DataLoader(\n",
        "        random_triplets_train,\n",
        "        batch_size = DATALOADER_BACH_SIZE,\n",
        "        shuffle = True,\n",
        "        num_workers = NUM_WORKERS,\n",
        "        pin_memory = True,\n",
        "    )\n",
        "\n",
        "    # Generamos los triples aleatorios para validacion\n",
        "    random_triplets_validation = RandomTriplets(\n",
        "        base_data = validation_dataset,\n",
        "        custom_len = RANDOM_TRIPLETS_DATA_SIZE,\n",
        "        transform = transform,\n",
        "    )\n",
        "\n",
        "    validation_loader = torch.utils.data.DataLoader(\n",
        "        random_triplets_validation,\n",
        "        batch_size = DATALOADER_BACH_SIZE,\n",
        "        shuffle = True,\n",
        "        num_workers = NUM_WORKERS,\n",
        "        pin_memory = True,\n",
        "    )\n",
        "\n",
        "    # Generamos los triples aleatorios para test\n",
        "    random_triplets_test = RandomTriplets(\n",
        "        base_data = test_dataset,\n",
        "        custom_len = RANDOM_TRIPLETS_DATA_SIZE,\n",
        "        transform = transform,\n",
        "    )\n",
        "\n",
        "    test_loader = torch.utils.data.DataLoader(\n",
        "        random_triplets_test,\n",
        "        batch_size = DATALOADER_BACH_SIZE,\n",
        "        shuffle = True,\n",
        "        num_workers = NUM_WORKERS,\n",
        "        pin_memory = True,\n",
        "    )\n",
        "\n",
        "    # Visualizamos algunos triples aleatorios para comprobar el funcionamiento\n",
        "    custom_triplet = random_triplets_train[2]\n",
        "    for i in custom_triplet :\n",
        "        show_img(i, color_format_range = (-1.0, 1.0))\n"
      ],
      "id": "hWmTfGGx-0mq"
    },
    {
      "cell_type": "markdown",
      "metadata": {
        "id": "ycZFfW-s-0mr"
      },
      "source": [
        "# Definición de la función de pérdida"
      ],
      "id": "ycZFfW-s-0mr"
    },
    {
      "cell_type": "code",
      "execution_count": 13,
      "metadata": {
        "id": "EiD54Iia-0ms"
      },
      "outputs": [],
      "source": [
        "class TripletLoss(nn.Module):\n",
        "    def __init__(self, margin=1.0):\n",
        "        super(TripletLoss, self).__init__()\n",
        "        self.margin = margin\n",
        "\n",
        "    def forward(self, anchor: torch.Tensor, positive: torch.Tensor, negative: torch.Tensor) -> torch.Tensor:       \n",
        "       \n",
        "        distance_positive = self.euclidean_distance(anchor, positive)\n",
        "        distance_negative = self.euclidean_distance(anchor, negative)\n",
        "\n",
        "        # Usamos Relu para que el error sea cero cuando la resta de las distancias\n",
        "        # este por debajo del margen. Si esta por encima del margen, devolvemos la\n",
        "        # identidad de dicho error. Es decir, aplicamos Relu a la formula que \n",
        "        # tenemos debajo\n",
        "        loss = torch.relu(distance_positive - distance_negative + self.margin)\n",
        "\n",
        "        return loss\n",
        "    \n",
        "    def euclidean_distance(self, first: torch.Tensor, second: torch.Tensor) -> float:\n",
        "        return ((first - second) * (first - second)).sum()\n",
        "    \n",
        "class TripletLossCustom(nn.Module):\n",
        "    def __init__(self, margin=1.0):\n",
        "        super(TripletLossCustom, self).__init__()\n",
        "        self.margin = margin\n",
        "        self.base_loss = TripletLoss(self.margin)\n",
        "    \n",
        "    def forward(self, batch: torch.Tensor) -> torch.Tensor:\n",
        "        losses = torch.tensor(\n",
        "            [self.base_loss(current[0], current[1], current[2]) for current in batch], \n",
        "            requires_grad=True\n",
        "        )\n",
        "        return losses.mean()"
      ],
      "id": "EiD54Iia-0ms"
    },
    {
      "cell_type": "markdown",
      "metadata": {
        "id": "4a17b1e1"
      },
      "source": [
        "# Entrenamiento del modelo"
      ],
      "id": "4a17b1e1"
    },
    {
      "cell_type": "code",
      "execution_count": 14,
      "metadata": {
        "colab": {
          "base_uri": "https://localhost:8080/"
        },
        "id": "NGGBakyx-0mt",
        "outputId": "cdd0fbd1-cdf1-4cd9-c7f1-e8693c808a00"
      },
      "outputs": [
        {
          "output_type": "stream",
          "name": "stdout",
          "text": [
            "ResNet18(\n",
            "  (pretrained): ResNet(\n",
            "    (conv1): Conv2d(1, 64, kernel_size=(7, 7), stride=(2, 2), padding=(3, 3), bias=False)\n",
            "    (bn1): BatchNorm2d(64, eps=1e-05, momentum=0.1, affine=True, track_running_stats=True)\n",
            "    (relu): ReLU(inplace=True)\n",
            "    (maxpool): MaxPool2d(kernel_size=3, stride=2, padding=1, dilation=1, ceil_mode=False)\n",
            "    (layer1): Sequential(\n",
            "      (0): BasicBlock(\n",
            "        (conv1): Conv2d(64, 64, kernel_size=(3, 3), stride=(1, 1), padding=(1, 1), bias=False)\n",
            "        (bn1): BatchNorm2d(64, eps=1e-05, momentum=0.1, affine=True, track_running_stats=True)\n",
            "        (relu): ReLU(inplace=True)\n",
            "        (conv2): Conv2d(64, 64, kernel_size=(3, 3), stride=(1, 1), padding=(1, 1), bias=False)\n",
            "        (bn2): BatchNorm2d(64, eps=1e-05, momentum=0.1, affine=True, track_running_stats=True)\n",
            "      )\n",
            "      (1): BasicBlock(\n",
            "        (conv1): Conv2d(64, 64, kernel_size=(3, 3), stride=(1, 1), padding=(1, 1), bias=False)\n",
            "        (bn1): BatchNorm2d(64, eps=1e-05, momentum=0.1, affine=True, track_running_stats=True)\n",
            "        (relu): ReLU(inplace=True)\n",
            "        (conv2): Conv2d(64, 64, kernel_size=(3, 3), stride=(1, 1), padding=(1, 1), bias=False)\n",
            "        (bn2): BatchNorm2d(64, eps=1e-05, momentum=0.1, affine=True, track_running_stats=True)\n",
            "      )\n",
            "    )\n",
            "    (layer2): Sequential(\n",
            "      (0): BasicBlock(\n",
            "        (conv1): Conv2d(64, 128, kernel_size=(3, 3), stride=(2, 2), padding=(1, 1), bias=False)\n",
            "        (bn1): BatchNorm2d(128, eps=1e-05, momentum=0.1, affine=True, track_running_stats=True)\n",
            "        (relu): ReLU(inplace=True)\n",
            "        (conv2): Conv2d(128, 128, kernel_size=(3, 3), stride=(1, 1), padding=(1, 1), bias=False)\n",
            "        (bn2): BatchNorm2d(128, eps=1e-05, momentum=0.1, affine=True, track_running_stats=True)\n",
            "        (downsample): Sequential(\n",
            "          (0): Conv2d(64, 128, kernel_size=(1, 1), stride=(2, 2), bias=False)\n",
            "          (1): BatchNorm2d(128, eps=1e-05, momentum=0.1, affine=True, track_running_stats=True)\n",
            "        )\n",
            "      )\n",
            "      (1): BasicBlock(\n",
            "        (conv1): Conv2d(128, 128, kernel_size=(3, 3), stride=(1, 1), padding=(1, 1), bias=False)\n",
            "        (bn1): BatchNorm2d(128, eps=1e-05, momentum=0.1, affine=True, track_running_stats=True)\n",
            "        (relu): ReLU(inplace=True)\n",
            "        (conv2): Conv2d(128, 128, kernel_size=(3, 3), stride=(1, 1), padding=(1, 1), bias=False)\n",
            "        (bn2): BatchNorm2d(128, eps=1e-05, momentum=0.1, affine=True, track_running_stats=True)\n",
            "      )\n",
            "    )\n",
            "    (layer3): Sequential(\n",
            "      (0): BasicBlock(\n",
            "        (conv1): Conv2d(128, 256, kernel_size=(3, 3), stride=(2, 2), padding=(1, 1), bias=False)\n",
            "        (bn1): BatchNorm2d(256, eps=1e-05, momentum=0.1, affine=True, track_running_stats=True)\n",
            "        (relu): ReLU(inplace=True)\n",
            "        (conv2): Conv2d(256, 256, kernel_size=(3, 3), stride=(1, 1), padding=(1, 1), bias=False)\n",
            "        (bn2): BatchNorm2d(256, eps=1e-05, momentum=0.1, affine=True, track_running_stats=True)\n",
            "        (downsample): Sequential(\n",
            "          (0): Conv2d(128, 256, kernel_size=(1, 1), stride=(2, 2), bias=False)\n",
            "          (1): BatchNorm2d(256, eps=1e-05, momentum=0.1, affine=True, track_running_stats=True)\n",
            "        )\n",
            "      )\n",
            "      (1): BasicBlock(\n",
            "        (conv1): Conv2d(256, 256, kernel_size=(3, 3), stride=(1, 1), padding=(1, 1), bias=False)\n",
            "        (bn1): BatchNorm2d(256, eps=1e-05, momentum=0.1, affine=True, track_running_stats=True)\n",
            "        (relu): ReLU(inplace=True)\n",
            "        (conv2): Conv2d(256, 256, kernel_size=(3, 3), stride=(1, 1), padding=(1, 1), bias=False)\n",
            "        (bn2): BatchNorm2d(256, eps=1e-05, momentum=0.1, affine=True, track_running_stats=True)\n",
            "      )\n",
            "    )\n",
            "    (layer4): Sequential(\n",
            "      (0): BasicBlock(\n",
            "        (conv1): Conv2d(256, 512, kernel_size=(3, 3), stride=(2, 2), padding=(1, 1), bias=False)\n",
            "        (bn1): BatchNorm2d(512, eps=1e-05, momentum=0.1, affine=True, track_running_stats=True)\n",
            "        (relu): ReLU(inplace=True)\n",
            "        (conv2): Conv2d(512, 512, kernel_size=(3, 3), stride=(1, 1), padding=(1, 1), bias=False)\n",
            "        (bn2): BatchNorm2d(512, eps=1e-05, momentum=0.1, affine=True, track_running_stats=True)\n",
            "        (downsample): Sequential(\n",
            "          (0): Conv2d(256, 512, kernel_size=(1, 1), stride=(2, 2), bias=False)\n",
            "          (1): BatchNorm2d(512, eps=1e-05, momentum=0.1, affine=True, track_running_stats=True)\n",
            "        )\n",
            "      )\n",
            "      (1): BasicBlock(\n",
            "        (conv1): Conv2d(512, 512, kernel_size=(3, 3), stride=(1, 1), padding=(1, 1), bias=False)\n",
            "        (bn1): BatchNorm2d(512, eps=1e-05, momentum=0.1, affine=True, track_running_stats=True)\n",
            "        (relu): ReLU(inplace=True)\n",
            "        (conv2): Conv2d(512, 512, kernel_size=(3, 3), stride=(1, 1), padding=(1, 1), bias=False)\n",
            "        (bn2): BatchNorm2d(512, eps=1e-05, momentum=0.1, affine=True, track_running_stats=True)\n",
            "      )\n",
            "    )\n",
            "    (avgpool): AdaptiveAvgPool2d(output_size=(1, 1))\n",
            "    (fc): Linear(in_features=512, out_features=2, bias=True)\n",
            "  )\n",
            ")\n"
          ]
        }
      ],
      "source": [
        "net = ResNet18()\n",
        "\n",
        "# TODO -- fijar bien los parametros\n",
        "parameters = dict()\n",
        "parameters[\"epochs\"] = TRAINING_EPOCHS\n",
        "parameters[\"lr\"] = 0.001\n",
        "parameters[\"criterion\"] = TripletLossCustom(MARGIN)\n",
        "\n",
        "# Definimos el logger que queremos para el entrenamiento\n",
        "logger = TripletLoggerOffline(\n",
        "    net = net,\n",
        "    iterations = 10 * DATALOADER_BACH_SIZE,\n",
        "    loss_func = parameters[\"criterion\"],\n",
        ")\n",
        "\n",
        "print(net)"
      ],
      "id": "NGGBakyx-0mt"
    },
    {
      "cell_type": "code",
      "execution_count": 15,
      "metadata": {
        "scrolled": false,
        "id": "ISxXY91p-0mt"
      },
      "outputs": [],
      "source": [
        "# Controlamos si queremos ejecutar esta seccion o no \n",
        "if SKIP_RANDOM_TRIPLETS_TRAINING is False:\n",
        "\n",
        "    training_history = train_model_offline(\n",
        "        net = net,\n",
        "        path = os.path.join(BASE_PATH, \"tmp\"),\n",
        "        parameters = parameters,\n",
        "        train_loader = train_loader,\n",
        "        validation_loader = validation_loader,\n",
        "        name = \"SiameseNetwork\",\n",
        "        logger = logger,\n",
        "        snapshot_iterations = None\n",
        "    )"
      ],
      "id": "ISxXY91p-0mt"
    },
    {
      "cell_type": "code",
      "execution_count": 16,
      "metadata": {
        "id": "_8sr3uvO-0mt"
      },
      "outputs": [],
      "source": [
        "# Controlamos si queremos ejecutar esta seccion o no \n",
        "if SKIP_RANDOM_TRIPLETS_TRAINING is False: show_learning_curve(training_history)"
      ],
      "id": "_8sr3uvO-0mt"
    },
    {
      "cell_type": "code",
      "execution_count": 17,
      "metadata": {
        "colab": {
          "base_uri": "https://localhost:8080/"
        },
        "id": "ch2lypSu-0mu",
        "outputId": "eb39b5eb-f177-452e-b40d-9f55edfe62de"
      },
      "outputs": [
        {
          "output_type": "execute_result",
          "data": {
            "text/plain": [
              "ResNet18(\n",
              "  (pretrained): ResNet(\n",
              "    (conv1): Conv2d(1, 64, kernel_size=(7, 7), stride=(2, 2), padding=(3, 3), bias=False)\n",
              "    (bn1): BatchNorm2d(64, eps=1e-05, momentum=0.1, affine=True, track_running_stats=True)\n",
              "    (relu): ReLU(inplace=True)\n",
              "    (maxpool): MaxPool2d(kernel_size=3, stride=2, padding=1, dilation=1, ceil_mode=False)\n",
              "    (layer1): Sequential(\n",
              "      (0): BasicBlock(\n",
              "        (conv1): Conv2d(64, 64, kernel_size=(3, 3), stride=(1, 1), padding=(1, 1), bias=False)\n",
              "        (bn1): BatchNorm2d(64, eps=1e-05, momentum=0.1, affine=True, track_running_stats=True)\n",
              "        (relu): ReLU(inplace=True)\n",
              "        (conv2): Conv2d(64, 64, kernel_size=(3, 3), stride=(1, 1), padding=(1, 1), bias=False)\n",
              "        (bn2): BatchNorm2d(64, eps=1e-05, momentum=0.1, affine=True, track_running_stats=True)\n",
              "      )\n",
              "      (1): BasicBlock(\n",
              "        (conv1): Conv2d(64, 64, kernel_size=(3, 3), stride=(1, 1), padding=(1, 1), bias=False)\n",
              "        (bn1): BatchNorm2d(64, eps=1e-05, momentum=0.1, affine=True, track_running_stats=True)\n",
              "        (relu): ReLU(inplace=True)\n",
              "        (conv2): Conv2d(64, 64, kernel_size=(3, 3), stride=(1, 1), padding=(1, 1), bias=False)\n",
              "        (bn2): BatchNorm2d(64, eps=1e-05, momentum=0.1, affine=True, track_running_stats=True)\n",
              "      )\n",
              "    )\n",
              "    (layer2): Sequential(\n",
              "      (0): BasicBlock(\n",
              "        (conv1): Conv2d(64, 128, kernel_size=(3, 3), stride=(2, 2), padding=(1, 1), bias=False)\n",
              "        (bn1): BatchNorm2d(128, eps=1e-05, momentum=0.1, affine=True, track_running_stats=True)\n",
              "        (relu): ReLU(inplace=True)\n",
              "        (conv2): Conv2d(128, 128, kernel_size=(3, 3), stride=(1, 1), padding=(1, 1), bias=False)\n",
              "        (bn2): BatchNorm2d(128, eps=1e-05, momentum=0.1, affine=True, track_running_stats=True)\n",
              "        (downsample): Sequential(\n",
              "          (0): Conv2d(64, 128, kernel_size=(1, 1), stride=(2, 2), bias=False)\n",
              "          (1): BatchNorm2d(128, eps=1e-05, momentum=0.1, affine=True, track_running_stats=True)\n",
              "        )\n",
              "      )\n",
              "      (1): BasicBlock(\n",
              "        (conv1): Conv2d(128, 128, kernel_size=(3, 3), stride=(1, 1), padding=(1, 1), bias=False)\n",
              "        (bn1): BatchNorm2d(128, eps=1e-05, momentum=0.1, affine=True, track_running_stats=True)\n",
              "        (relu): ReLU(inplace=True)\n",
              "        (conv2): Conv2d(128, 128, kernel_size=(3, 3), stride=(1, 1), padding=(1, 1), bias=False)\n",
              "        (bn2): BatchNorm2d(128, eps=1e-05, momentum=0.1, affine=True, track_running_stats=True)\n",
              "      )\n",
              "    )\n",
              "    (layer3): Sequential(\n",
              "      (0): BasicBlock(\n",
              "        (conv1): Conv2d(128, 256, kernel_size=(3, 3), stride=(2, 2), padding=(1, 1), bias=False)\n",
              "        (bn1): BatchNorm2d(256, eps=1e-05, momentum=0.1, affine=True, track_running_stats=True)\n",
              "        (relu): ReLU(inplace=True)\n",
              "        (conv2): Conv2d(256, 256, kernel_size=(3, 3), stride=(1, 1), padding=(1, 1), bias=False)\n",
              "        (bn2): BatchNorm2d(256, eps=1e-05, momentum=0.1, affine=True, track_running_stats=True)\n",
              "        (downsample): Sequential(\n",
              "          (0): Conv2d(128, 256, kernel_size=(1, 1), stride=(2, 2), bias=False)\n",
              "          (1): BatchNorm2d(256, eps=1e-05, momentum=0.1, affine=True, track_running_stats=True)\n",
              "        )\n",
              "      )\n",
              "      (1): BasicBlock(\n",
              "        (conv1): Conv2d(256, 256, kernel_size=(3, 3), stride=(1, 1), padding=(1, 1), bias=False)\n",
              "        (bn1): BatchNorm2d(256, eps=1e-05, momentum=0.1, affine=True, track_running_stats=True)\n",
              "        (relu): ReLU(inplace=True)\n",
              "        (conv2): Conv2d(256, 256, kernel_size=(3, 3), stride=(1, 1), padding=(1, 1), bias=False)\n",
              "        (bn2): BatchNorm2d(256, eps=1e-05, momentum=0.1, affine=True, track_running_stats=True)\n",
              "      )\n",
              "    )\n",
              "    (layer4): Sequential(\n",
              "      (0): BasicBlock(\n",
              "        (conv1): Conv2d(256, 512, kernel_size=(3, 3), stride=(2, 2), padding=(1, 1), bias=False)\n",
              "        (bn1): BatchNorm2d(512, eps=1e-05, momentum=0.1, affine=True, track_running_stats=True)\n",
              "        (relu): ReLU(inplace=True)\n",
              "        (conv2): Conv2d(512, 512, kernel_size=(3, 3), stride=(1, 1), padding=(1, 1), bias=False)\n",
              "        (bn2): BatchNorm2d(512, eps=1e-05, momentum=0.1, affine=True, track_running_stats=True)\n",
              "        (downsample): Sequential(\n",
              "          (0): Conv2d(256, 512, kernel_size=(1, 1), stride=(2, 2), bias=False)\n",
              "          (1): BatchNorm2d(512, eps=1e-05, momentum=0.1, affine=True, track_running_stats=True)\n",
              "        )\n",
              "      )\n",
              "      (1): BasicBlock(\n",
              "        (conv1): Conv2d(512, 512, kernel_size=(3, 3), stride=(1, 1), padding=(1, 1), bias=False)\n",
              "        (bn1): BatchNorm2d(512, eps=1e-05, momentum=0.1, affine=True, track_running_stats=True)\n",
              "        (relu): ReLU(inplace=True)\n",
              "        (conv2): Conv2d(512, 512, kernel_size=(3, 3), stride=(1, 1), padding=(1, 1), bias=False)\n",
              "        (bn2): BatchNorm2d(512, eps=1e-05, momentum=0.1, affine=True, track_running_stats=True)\n",
              "      )\n",
              "    )\n",
              "    (avgpool): AdaptiveAvgPool2d(output_size=(1, 1))\n",
              "    (fc): Linear(in_features=512, out_features=2, bias=True)\n",
              "  )\n",
              ")"
            ]
          },
          "metadata": {},
          "execution_count": 17
        }
      ],
      "source": [
        "# A partir de este punto ya no volvemos a entrenar el modelo\n",
        "# Asi que lo ponemos en modo evaluacion para que no lleve \n",
        "# la cuenta de los gradientes\n",
        "net.eval()"
      ],
      "id": "ch2lypSu-0mu"
    },
    {
      "cell_type": "markdown",
      "metadata": {
        "id": "dc92ce37"
      },
      "source": [
        "# Evaluación del modelo\n",
        "\n",
        "- Mostramos algunas métricas fundamentales sobre el conjunto de"
      ],
      "id": "dc92ce37"
    },
    {
      "cell_type": "code",
      "execution_count": 18,
      "metadata": {
        "id": "2242eedc"
      },
      "outputs": [],
      "source": [
        "# Controlamos si queremos ejecutar esta seccion o no \n",
        "if SKIP_RANDOM_TRIPLETS_TRAINING is False: core.test_model(net, test_loader, parameters[\"criterion\"])"
      ],
      "id": "2242eedc"
    },
    {
      "cell_type": "markdown",
      "metadata": {
        "id": "5c946904"
      },
      "source": [
        "# Adaptación del modelo para usarlo como clasificador\n",
        "\n",
        "- Nuestro modelo genera un *embedding*\n",
        "- Adaptamos el modelo para que, a partir de dicho embedding, podamos usarlo como un clasificador"
      ],
      "id": "5c946904"
    },
    {
      "cell_type": "code",
      "execution_count": 19,
      "metadata": {
        "id": "3d33aa9d"
      },
      "outputs": [],
      "source": [
        "class EmbeddingToClassifier:\n",
        "    \"\"\"\n",
        "    Clase que toma un modelo que calcula embeddings y lo convierte\n",
        "    a un modelo que sirve para una tarea de clasificacion\n",
        "    \n",
        "    Usamos K-NN para el modelo de clasificacion\n",
        "    \"\"\"\n",
        "    \n",
        "    def __init__(self, embedder: nn.Module, k: int, data_loader):\n",
        "        \n",
        "        # El modelo que calcula los embeddings\n",
        "        self.embedder = embedder\n",
        "         \n",
        "        # Dataloader que representa el dataset que usamos para k-nn\n",
        "        self.data_loader = data_loader\n",
        "        \n",
        "        # Tomamos el dispositivo en el que esta el modelo y los\n",
        "        # datos, porque nos va a hacer falta durante todo el codigo\n",
        "        self.device = core.get_device()\n",
        "        \n",
        "        # Calculamos todos los embeddings de los puntos\n",
        "        self.dataset_embedded = self.__calculate_embedding()\n",
        "        \n",
        "        # Modelo de clasificacion k-nn\n",
        "        self.k = k\n",
        "        self.knn = self.__fit_knn()\n",
        "                \n",
        "    def predict_proba(self, img, batch_mode: bool = False) -> int:\n",
        "        \n",
        "        # Ponemos la red en modo evaluacion\n",
        "        self.embedder.eval()\n",
        "        \n",
        "        # Tenemos una unica imagen, lo que queremos es\n",
        "        # tener un batch de una imagen para que la red\n",
        "        # pueda trabajar con ello\n",
        "        single_img_batch = torch.Tensor(img)\n",
        "        \n",
        "        # Calculamos el embedding de la imagen\n",
        "        img_embedding = None\n",
        "        if batch_mode is False:\n",
        "            img_embedding = self.embedder(single_img_batch[None, ...].to(self.device)) \n",
        "        else:\n",
        "            img_embedding = self.embedder(single_img_batch.to(self.device)) \n",
        "        \n",
        "        # Pasamos el embedding a cpu que es donde esta \n",
        "        # el modelo knn de scikit learn\n",
        "        img_embedding = img_embedding.cpu().detach().numpy() \n",
        "        \n",
        "        # Antes de salir de la funcion volvemos a poner\n",
        "        # a la red en modo entrenamiento\n",
        "        self.embedder.train()\n",
        "        \n",
        "        # Usamos dicho embedding para clasificar con knn\n",
        "        return self.knn.predict(img_embedding)\n",
        "    \n",
        "    def predict(self, img, batch_mode: bool = False) -> int:\n",
        "        \n",
        "        # Ponemos la red en modo evaluacion\n",
        "        self.embedder.eval()\n",
        "        \n",
        "        # Tenemos una unica imagen, lo que queremos es\n",
        "        # tener un batch de una imagen para que la red\n",
        "        # pueda trabajar con ello\n",
        "        single_img_batch = torch.Tensor(img)\n",
        "        \n",
        "        # Calculamos el embedding de la imagen\n",
        "        img_embedding = None\n",
        "        if batch_mode is False:\n",
        "            img_embedding = self.embedder(single_img_batch[None, ...].to(self.device)) \n",
        "        else:\n",
        "            img_embedding = self.embedder(single_img_batch.to(self.device)) \n",
        "        \n",
        "        # Pasamos el embedding a cpu que es donde esta \n",
        "        # el modelo knn de scikit learn\n",
        "        img_embedding = img_embedding.cpu().detach().numpy() \n",
        "        \n",
        "        # Antes de salir de la funcion volvemos a poner\n",
        "        # a la red en modo entrenamiento\n",
        "        self.embedder.train()\n",
        "        \n",
        "        # Usamos dicho embedding para clasificar con knn\n",
        "        return self.knn.predict(img_embedding)\n",
        "\n",
        "                    \n",
        "    def predict_using_embedding(self, embedding: np.ndarray) -> int:\n",
        "        \"\"\"\n",
        "        Realizamos la prediccion, pero en vez de usando la imagen\n",
        "        pasamos directamente el embedding de la imagen (en ocasiones\n",
        "        podemos mejorar el rendimiento pre-computando el embedding de\n",
        "        todo un conjunto de imagenes)\n",
        "        \"\"\"\n",
        "        \n",
        "        # Usamos dicho embedding para clasificar con knn\n",
        "        return self.knn.predict(embedding)\n",
        "    \n",
        "    def predict_proba_using_embedding(self, embedding: np.ndarray) -> int:\n",
        "        \"\"\"\n",
        "        Realizamos la prediccion, pero en vez de usando la imagen\n",
        "        pasamos directamente el embedding de la imagen (en ocasiones\n",
        "        podemos mejorar el rendimiento pre-computando el embedding de\n",
        "        todo un conjunto de imagenes)\n",
        "        \"\"\"\n",
        "        \n",
        "        # Usamos dicho embedding para clasificar con knn\n",
        "        return self.knn.predict_proba(embedding)\n",
        "        \n",
        "    def __calculate_embedding(self):\n",
        "        \"\"\"Dado el conjunto de imagenes con sus etiquetas, calculamos\n",
        "        el conjunto de embedding con sus etiquetas\"\"\"\n",
        "        \n",
        "        embedded_imgs = []\n",
        "        labels = []\n",
        "\n",
        "        # Por motivos que desconocemos, ahora los tensores vienen\n",
        "        # en el formato que espera la red, asi que no tenemos que\n",
        "        # realizar la permutacion del tensor\n",
        "        self.embedder.set_permute(False)\n",
        "        \n",
        "        for img, img_class in self.data_loader:\n",
        "            \n",
        "            # TODO -- esto hay que borrarlo\n",
        "            if np.random.rand() < 0.01:\n",
        "                break\n",
        "            \n",
        "            # Calculamos el embedding de la imagen\n",
        "            img_embedding = self.embedder(img.to(self.device))\n",
        "            \n",
        "            # Añadimos el embedding asociado a la etiqueta\n",
        "            embedded_imgs.append(img_embedding)\n",
        "            labels.append(img_class)\n",
        "        \n",
        "        # Antes de devolver los datos, volvemos a colocar la opcion\n",
        "        # de que permute los tensores\n",
        "        self.embedder.set_permute(True)\n",
        "\n",
        "        return embedded_imgs, labels\n",
        "\n",
        "    def __fit_knn(self):\n",
        "        \n",
        "        # Tomamos los datos en el formato que espera sklearn\n",
        "        # para realizar el fit\n",
        "        x, y = self.prepare_data_for_sklearn()\n",
        "        \n",
        "        knn = KNeighborsClassifier(n_neighbors = self.k)\n",
        "        knn.fit(x, y)\n",
        "        return knn\n",
        "\n",
        "    def scatter_plot(self):\n",
        "        \"\"\"\n",
        "        Hacemos un scatter plot del embedding obtenido\n",
        "        \"\"\"\n",
        "        \n",
        "        # Solo hacemos este plot cuando la dimension del \n",
        "        # embedding es 2\n",
        "        if EMBEDDING_DIMENSION != 2:\n",
        "            return\n",
        "        \n",
        "        # Tomamos los datos en el formato adecuado para hacer el plot\n",
        "        x, y = self.prepare_data_for_sklearn()\n",
        "        \n",
        "        # Los ejes x,y son los datos de nuestro vector x\n",
        "        # El color de los puntos lo dan las etiquetas almacenadas en y\n",
        "        plt.scatter(x = x[:, 0], y = x[:, 1], c = y)\n",
        "        plt.show()\n",
        "        \n",
        "    def prepare_data_for_sklearn(self): \n",
        "        \"\"\"\n",
        "        Tomamos las imagenes y las etiquetas, y las devolvemos en un\n",
        "        formato adecuado para sklearn y matplotlib. Esto es:\n",
        "            - Pasar los datos a memoria RAM\n",
        "            - Aplanar los datos (tenemos los datos agrupados en minibatches)\n",
        "        \"\"\"\n",
        "\n",
        "        # Separamos los datos segun espera sklearn\n",
        "        x = self.dataset_embedded[0]\n",
        "        y = self.dataset_embedded[1]\n",
        "\n",
        "        # Pasamos de una lista de sublistas (por los minibatches)\n",
        "        # a una lista. Tomamos la idea de:\n",
        "        # https://stackoverflow.com/questions/952914/how-to-make-a-flat-list-out-of-a-list-of-lists\n",
        "        x = [item for sublist in x for item in sublist]\n",
        "        y = [item for sublist in y for item in sublist]\n",
        "\n",
        "        # Forzamos a usar la memoria RAM (podrian estar los datos\n",
        "        # en memoria GPU) \n",
        "        x = np.array([element.cpu().detach().numpy() for element in x])\n",
        "        y = np.array([element.cpu().detach().numpy() for element in y])\n",
        "\n",
        "        return x, y"
      ],
      "id": "3d33aa9d"
    },
    {
      "cell_type": "markdown",
      "metadata": {
        "id": "-snkT9le-0mw"
      },
      "source": [
        "Para la adaptación al clasificador, necesitamos tomar las imágenes junto a sus clases. Antes teníamos conjuntos de triples sin clases, ahora recuperamos la información original necesaria para la adaptación"
      ],
      "id": "-snkT9le-0mw"
    },
    {
      "cell_type": "code",
      "execution_count": 20,
      "metadata": {
        "scrolled": true,
        "id": "JZiQEVG3-0mw"
      },
      "outputs": [],
      "source": [
        "# Controlamos si queremos ejecutar esta seccion o no \n",
        "if SKIP_RANDOM_TRIPLETS_TRAINING is False:\n",
        "\n",
        "    # Cargamos el dataset usando torchvision, que ya tiene el conjunto\n",
        "    # preparado para descargar\n",
        "    train_dataset = old_train_dataset\n",
        "    test_dataset = old_test_dataset\n",
        "\n",
        "    # Data loaders para acceder a los datos\n",
        "    train_loader = torch.utils.data.DataLoader(\n",
        "        train_dataset,\n",
        "        batch_size = DATALOADER_BACH_SIZE,\n",
        "        shuffle = True,\n",
        "        num_workers = NUM_WORKERS,\n",
        "        pin_memory = True,\n",
        "    )\n",
        "    test_loader = torch.utils.data.DataLoader(\n",
        "        test_dataset,\n",
        "        batch_size = DATALOADER_BACH_SIZE,\n",
        "        shuffle = True,\n",
        "        num_workers = NUM_WORKERS,\n",
        "        pin_memory = True,\n",
        "    )\n",
        "\n",
        "\n",
        "    classifier = EmbeddingToClassifier(net, k = NUMBER_NEIGHBOURS, data_loader = train_loader)"
      ],
      "id": "JZiQEVG3-0mw"
    },
    {
      "cell_type": "markdown",
      "metadata": {
        "id": "z1r6uu1a-0mw"
      },
      "source": [
        "Evaluamos este clasificador en un conjunto pequeño de imágenes de test. Más adelante tomamos métricas de dicho clasificador:"
      ],
      "id": "z1r6uu1a-0mw"
    },
    {
      "cell_type": "code",
      "execution_count": 21,
      "metadata": {
        "id": "tSMU-0qk-0mx"
      },
      "outputs": [],
      "source": [
        "# Controlamos si queremos ejecutar esta seccion o no \n",
        "if SKIP_RANDOM_TRIPLETS_TRAINING is False:\n",
        "\n",
        "    # Hacemos esto y no `in test_dataset[:max_iterations]`\n",
        "    # para no tener que tomar todo el dataset y quedarnos con\n",
        "    # una parte de el, que es un proceso mucho mas lento que usar\n",
        "    # el iterador que da `in test_dataset` y parar con el contador\n",
        "    counter = 0\n",
        "    max_iterations = 20\n",
        "\n",
        "    for img, img_class in test_dataset:\n",
        "        predicted_class = classifier.predict(img)\n",
        "        print(f\"Etiqueta verdadera: {img_class}, etiqueta predicha: {predicted_class[0]}\")\n",
        "\n",
        "        # Actualizamos el contador\n",
        "        counter += 1\n",
        "        if counter == max_iterations: break"
      ],
      "id": "tSMU-0qk-0mx"
    },
    {
      "cell_type": "markdown",
      "metadata": {
        "id": "CI_g7bpq-0mx"
      },
      "source": [
        "# Plot del embedding\n",
        "\n",
        "- Aprovechamos el cálculo realizado en la clase que realiza la adaptación a clasificación para mostrar gráficamente el embedding calculado\n",
        "- Esta gráfica solo la visualizamos cuando el embedding tiene dimensión 2"
      ],
      "id": "CI_g7bpq-0mx"
    },
    {
      "cell_type": "code",
      "execution_count": 22,
      "metadata": {
        "id": "CZXkfA8n-0mx"
      },
      "outputs": [],
      "source": [
        "# Controlamos si queremos ejecutar esta seccion o no \n",
        "if SKIP_RANDOM_TRIPLETS_TRAINING is False: classifier.scatter_plot()"
      ],
      "id": "CZXkfA8n-0mx"
    },
    {
      "cell_type": "markdown",
      "metadata": {
        "id": "f644bbed"
      },
      "source": [
        "## Evaluación del clasificador obtenido\n",
        "\n",
        "- Ahora que hemos adaptado el modelo para usarlo como clasificador, podemos consultar ciertas métricas de clasificación"
      ],
      "id": "f644bbed"
    },
    {
      "cell_type": "code",
      "execution_count": 23,
      "metadata": {
        "id": "030af6e5"
      },
      "outputs": [],
      "source": [
        "def calculate_roc_auc(true_labels_prob: np.array, predicted_labels_prob: np.array) -> float:\n",
        "    \"\"\"\n",
        "    Calcula el area bajo la curva ROC, dadas las etiquetas verdaderas y las\n",
        "    etiqeutas predichas por un modelo\n",
        "    \n",
        "    Las listas de etiquetas deben ser etiquetas probabilisticas\n",
        "    \"\"\"\n",
        "    return roc_auc_score(true_labels_prob, predicted_labels_prob, multi_class = \"ovo\")\n",
        "    \n",
        "def calculate_accuracy(true_labels: np.array, predicted_labels: np.array) -> float:\n",
        "    \"\"\"\n",
        "    Calcula el accuracy, dadas las etiquetas verdaderas y las\n",
        "    etiqeutas predichas por un modelo\n",
        "    \"\"\"\n",
        "    return accuracy_score(true_labels, predicted_labels)\n",
        "\n",
        "def calculate_silhouette(x, y):\n",
        "    \"\"\"Calcula el indice de silhouette para el embedding calculado por el modelo\"\"\"\n",
        "    return silhouette_score(x, y)\n",
        "\n",
        "def evaluate_model(model, train_loader, test_loader) -> dict:\n",
        "    \"\"\"\n",
        "    Evalua, usando distintas metricas, el modelo que hemos entrenado\n",
        "    Tambien evaluamos el embedding obtenido, no solo el clasificador\n",
        "    \n",
        "    Devuelve un diccionario con todas las metricas calculadas con el modelo\n",
        "    \"\"\"\n",
        "    \n",
        "    # Diccionario en el que vamos a almacenar todas las metricas\n",
        "    metrics = dict()\n",
        "    \n",
        "    # Tomamos los arrays en formato adecuado para calcular ciertas metricas\n",
        "    x_train, y_train = EmbeddingToClassifier(net, k = NUMBER_NEIGHBOURS, data_loader = train_loader).prepare_data_for_sklearn()\n",
        "    x_test, y_test = EmbeddingToClassifier(net, k = NUMBER_NEIGHBOURS, data_loader = test_loader).prepare_data_for_sklearn()\n",
        "    \n",
        "    # Empezamos usando el modelo para realizar las predicciones+\n",
        "    # Usamos predicciones probabilisticas pues estas son fundamentales para\n",
        "    # la metrica roc auc\n",
        "    train_predicted_labels_prob = model.predict_proba_using_embedding(x_train)\n",
        "    test_predicted_labels_prob = model.predict_proba_using_embedding(x_test)\n",
        "\n",
        "    # Tomamos ahora las etiqeutas sin probabilidad\n",
        "    train_predicted_labels= model.predict_using_embedding(x_train)\n",
        "    test_predicted_labels = model.predict_using_embedding(x_test)\n",
        "    \n",
        "    # Tomamos las metricas de accuracy\n",
        "    metrics[\"train_acc\"] = calculate_accuracy(y_train, train_predicted_labels)\n",
        "    metrics[\"test_acc\"] = calculate_accuracy(y_test, test_predicted_labels)\n",
        "    \n",
        "    # Tomamos las areas bajo la curva ROC\n",
        "    metrics[\"train_roc_auc\"] = calculate_roc_auc(y_train, train_predicted_labels_prob)\n",
        "    metrics[\"test_roc_auc\"] = calculate_roc_auc(y_test, test_predicted_labels_prob)\n",
        "    \n",
        "    # Tomamos el indice de silhouette\n",
        "    metrics[\"train_silhouette\"] = calculate_silhouette(x_train, y_train)\n",
        "    metrics[\"test_silhouette\"] = calculate_silhouette(x_test, y_test)\n",
        "\n",
        "    # Devolvemos las metricas en formato diccionario, que nos va a ser comodo para\n",
        "    # pasarlas a tablas y para mostrar muchas metricas simultaneamente\n",
        "    return metrics"
      ],
      "id": "030af6e5"
    },
    {
      "cell_type": "code",
      "execution_count": 24,
      "metadata": {
        "id": "_ssCx9D9-0my"
      },
      "outputs": [],
      "source": [
        "# Controlamos si queremos ejecutar esta seccion o no \n",
        "if SKIP_RANDOM_TRIPLETS_TRAINING is False:\n",
        "\n",
        "    classifier.embedder.set_permute(False)\n",
        "\n",
        "    metrics = evaluate_model(classifier, train_loader, test_loader)\n",
        "    pprint(metrics)\n",
        "\n",
        "    classifier.embedder.set_permute(True)"
      ],
      "id": "_ssCx9D9-0my"
    },
    {
      "cell_type": "markdown",
      "metadata": {
        "id": "jcvsVovd-0my"
      },
      "source": [
        "# Definición de la función de pérdida online\n",
        "\n",
        "- Comenzamos el trabajo para adaptar el entrenamiento al uso de triples difíciles dentro de un minibatch, de forma online"
      ],
      "id": "jcvsVovd-0my"
    },
    {
      "cell_type": "code",
      "execution_count": 25,
      "metadata": {
        "id": "Bw56RF6x-0my"
      },
      "outputs": [],
      "source": [
        "# Copiamos esto de https://stackoverflow.com/a/22279947\n",
        "# Lo necesitamos para saltarnos el elemento de una lista de\n",
        "# forma eficiente\n",
        "import itertools as it\n",
        "def skip_i(iterable, i):\n",
        "    itr = iter(iterable)\n",
        "    return it.chain(it.islice(itr, 0, i), it.islice(itr, 1, None))\n",
        "\n",
        "\n",
        "class OnlineTripletLoss(nn.Module):\n",
        "    \n",
        "    def __init__(self, margin=1.0):\n",
        "        super(OnlineTripletLoss, self).__init__()\n",
        "        self.margin = margin\n",
        "        self.base_loss = TripletLoss(self.margin)\n",
        "        \n",
        "        # Pre-computamos una lista de listas en la que accedemos a los \n",
        "        # elementos de la forma list[label][posicion]\n",
        "        # Con esto nos evitamos tener que realizar la separacion en positivos\n",
        "        # y negativos repetitivamente\n",
        "        # \n",
        "        # Notar que el pre-computo debe realizarse por cada llamada a forward,\n",
        "        # con el minibatch correspondiente. Por tanto, nos beneficia usar minibatches\n",
        "        # grandes\n",
        "        self.list_of_classes = None\n",
        "        \n",
        "        # Si queremos usar self.list_of_classes para calcular todos los \n",
        "        # negativos de una clase, necesitamos dos for que vamos a repetir\n",
        "        # demasiadas veces\n",
        "        self.list_of_negatives = None\n",
        "        \n",
        "    def forward(self, embeddings: torch.Tensor, labels: torch.Tensor) -> torch.Tensor:        \n",
        "        \n",
        "        loss = 0\n",
        "                \n",
        "        # Pre-computamos la separacion en positivos y negativos\n",
        "        self.list_of_classes = self.__precompute_list_of_classes(labels)\n",
        "        \n",
        "        # Pre-computamos la lista de negativos de cada clase\n",
        "        self.list_of_negatives = self.__precompute_negative_class()\n",
        "        \n",
        "        # Iteramos sobre todas los embeddings de las imagenes del dataset\n",
        "        for embedding, img_label in zip(embeddings, labels):\n",
        "\n",
        "            # Calculamos las distancias a positivos y negativos\n",
        "            # Nos aprovechamos de la pre-computacion\n",
        "            positive_distances = [\n",
        "                self.base_loss.euclidean_distance(embedding, embeddings[positive])\n",
        "                for positive in self.list_of_classes[img_label]\n",
        "            ]\n",
        "            \n",
        "            # Ahora nos aprovechamos del segundo pre-computo realizado\n",
        "            negative_distances = [\n",
        "                self.base_loss.euclidean_distance(embedding, embeddings[negative])\n",
        "                for negative in self.list_of_negatives\n",
        "            ]\n",
        "            \n",
        "            # Tenemos una lista de tensores de un unico elemento (el valor\n",
        "            # de la distancia). Para poder usar argmax pasamos todo esto\n",
        "            # a un unico tensor\n",
        "            positive_distances = torch.tensor(positive_distances)\n",
        "            negative_distances = torch.tensor(negative_distances)\n",
        "                        \n",
        "            # Calculamos la funcion de perdida\n",
        "            positives = self.list_of_classes[img_label]\n",
        "            negatives = self.list_of_negatives[img_label]\n",
        "            \n",
        "            worst_positive_idx = positives[torch.argmax(positive_distances)]\n",
        "            worst_negative_idx = negatives[torch.argmin(negative_distances)]\n",
        "            \n",
        "            worst_positive = embeddings[worst_positive_idx]\n",
        "            worst_negative = embeddings[worst_negative_idx]\n",
        "            \n",
        "            loss += self.base_loss(embedding, worst_positive, worst_negative)\n",
        "        \n",
        "        return loss\n",
        "    \n",
        "    def __precompute_list_of_classes(self, labels) -> List[List[int]]:\n",
        "        \"\"\"\n",
        "        Calcula la lista con las listas de posiciones de cada clase por separado\n",
        "        \"\"\"\n",
        "        \n",
        "        # Inicializamos la lista de listas\n",
        "        posiciones_clases = [[] for _ in range(10)]\n",
        "\n",
        "        # Recorremos el dataset y colocamos los indices donde corresponde\n",
        "        for idx, label in enumerate(labels):\n",
        "            posiciones_clases[label].append(idx)\n",
        "\n",
        "        return posiciones_clases\n",
        "    \n",
        "    def __precompute_negative_class(self):\n",
        "        \n",
        "        # Inicializamos la lista\n",
        "        list_of_negatives = [None] * 10\n",
        "        \n",
        "        for label in range(10):\n",
        "            list_of_negatives[label] = [\n",
        "                idx\n",
        "                for current_list in skip_i(self.list_of_classes, label)\n",
        "                for idx in current_list\n",
        "            ]\n",
        "            \n",
        "        return list_of_negatives"
      ],
      "id": "Bw56RF6x-0my"
    },
    {
      "cell_type": "markdown",
      "metadata": {
        "id": "XQzpMJya-0mz"
      },
      "source": [
        "# Volvemos a cargar los datos\n",
        "\n",
        "- Con esta función de pérdida ya no necesitamos calcular de forma offline los triples\n",
        "- Así que volvemos a cargar el dataset original, sin el pre-cómputo de triples"
      ],
      "id": "XQzpMJya-0mz"
    },
    {
      "cell_type": "code",
      "execution_count": 26,
      "metadata": {
        "id": "42-cmzLM-0mz"
      },
      "outputs": [],
      "source": [
        "# Transformaciones que queremos aplicar al cargar los datos\n",
        "# Ahora solo pasamos las imagenes a tensores, pero podriamos hacer aqui normalizaciones\n",
        "transform = transforms.Compose([\n",
        "    transforms.ToTensor(),\n",
        "    # TODO -- aqui podemos añadir la normaliazcion de datos\n",
        "])\n",
        "\n",
        "# Cargamos el dataset usando torchvision, que ya tiene el conjunto\n",
        "# preparado para descargar\n",
        "train_dataset = torchvision.datasets.FashionMNIST(\n",
        "    root = DATA_PATH,\n",
        "    train = True,\n",
        "    download = True,\n",
        "    transform = transform,\n",
        ")\n",
        "\n",
        "test_dataset = torchvision.datasets.FashionMNIST(\n",
        "    root = DATA_PATH,\n",
        "    train = False,\n",
        "    download = True,\n",
        "    transform = transform,\n",
        ")\n",
        "\n",
        "# Separamos train en train y validacion\n",
        "train_dataset, validation_dataset = core.split_train_test(train_dataset, 0.8)\n",
        "\n",
        "# Data loaders para acceder a los datos\n",
        "train_loader = torch.utils.data.DataLoader(\n",
        "    train_dataset,\n",
        "    batch_size = ONLINE_BATCH_SIZE,\n",
        "    shuffle = True,\n",
        "    num_workers = NUM_WORKERS,\n",
        "    pin_memory = True,\n",
        ")\n",
        "\n",
        "validation_loader = torch.utils.data.DataLoader(\n",
        "    validation_dataset,\n",
        "    batch_size = ONLINE_BATCH_SIZE,\n",
        "    shuffle = True,\n",
        "    num_workers = NUM_WORKERS,\n",
        "    pin_memory = True,\n",
        ")\n",
        "\n",
        "test_loader = torch.utils.data.DataLoader(\n",
        "  train_dataset,\n",
        "  batch_size = ONLINE_BATCH_SIZE,\n",
        "  shuffle = True,\n",
        "  num_workers = NUM_WORKERS,\n",
        "  pin_memory = True,\n",
        ")"
      ],
      "id": "42-cmzLM-0mz"
    },
    {
      "cell_type": "markdown",
      "source": [
        "# Hyperparameter tuning"
      ],
      "metadata": {
        "id": "mLgs_FhUD_5j"
      },
      "id": "mLgs_FhUD_5j"
    },
    {
      "cell_type": "code",
      "source": [
        "def objective(trial):\n",
        "\n",
        "    # Parametros que queremos mover\n",
        "    margin = trial.suggest_float(\"margin\", 0.001, 2.0)\n",
        "    learning_rate = trial.suggest_float(\"learning rate\", 0.0001, 1.0)\n",
        "    epochs = trial.suggest_int(\"epochs\", 1, 10)\n",
        "\n",
        "    print(f\"Optimizando para margin: {margin}, lr: {learning_rate}, epochs: {epochs}\")\n",
        "\n",
        "    # Definimos el modelo que queremos optimizar\n",
        "    net = ResNet18()\n",
        "\n",
        "    # En este caso, al no estar trabajando con los minibatches\n",
        "    # (los usamos directamente como nos los da pytorch), no tenemos\n",
        "    # que manipular los tensores\n",
        "    net.set_permute(False)\n",
        "\n",
        "    parameters = dict()\n",
        "    parameters[\"epochs\"] = epochs\n",
        "    parameters[\"lr\"] = learning_rate\n",
        "    parameters[\"criterion\"] = OnlineTripletLoss(margin)\n",
        "    logger = SilentLogger()\n",
        "\n",
        "    # Entrenamos la red\n",
        "    _ = train_model_online(\n",
        "        net = net,\n",
        "        path = os.path.join(BASE_PATH, \"tmp\"),\n",
        "        parameters = parameters,\n",
        "        train_loader = train_loader,\n",
        "        validation_loader = validation_loader,\n",
        "        name = \"SiameseNetworkOnline\",\n",
        "        logger = SilentLogger(),\n",
        "        snapshot_iterations = None\n",
        "    )\n",
        "\n",
        "    # Calculamos el error\n",
        "    net.set_permute(False)\n",
        "    loss = metrics.calculate_mean_triplet_loss_online(net, validation_loader, OnlineTripletLoss, 1.0)\n",
        "    net.set_permute(True)\n",
        "    return loss\n",
        "\n",
        "\n",
        "# Aunque optuna se encarga de guardar los mejores parametros, los guardamos nosotros\n",
        "# tambien para poder ir mostrando los mejores parametros encontrados hasta el momento\n",
        "# de forma online\n",
        "best_loss = None\n",
        "best_parameters = {\n",
        "    \"epochs\": None,\n",
        "    \"lr\": None,\n",
        "    \"margin\": None\n",
        "}\n",
        "\n",
        "def objective_cross_validation(trial):\n",
        "    \"\"\"\n",
        "    Misma idea que `objetive` pero usando cross validation para tomar la metrica\n",
        "    de error\n",
        "    \"\"\"\n",
        "\n",
        "    # Parametros que queremos mover\n",
        "    margin = trial.suggest_float(\"margin\", 0.001, 2.0)\n",
        "    learning_rate = trial.suggest_float(\"learning rate\", 0.0001, 1.0)\n",
        "    epochs = trial.suggest_int(\"epochs\", 1, 10)\n",
        "\n",
        "    print(f\"Optimizando para margin: {margin}, lr: {learning_rate}, epochs: {epochs}\")\n",
        "\n",
        "    # Definimos el modelo que queremos optimizar\n",
        "    net = ResNet18()\n",
        "\n",
        "    # En este caso, al no estar trabajando con los minibatches\n",
        "    # (los usamos directamente como nos los da pytorch), no tenemos\n",
        "    # que manipular los tensores\n",
        "    net.set_permute(False)\n",
        "\n",
        "    # Establecemos los parametros de entrenamiento elegidos por optuna\n",
        "    parameters = dict()\n",
        "    parameters[\"epochs\"] = epochs\n",
        "    parameters[\"lr\"] = learning_rate\n",
        "    parameters[\"criterion\"] = OnlineTripletLoss(margin)\n",
        "    logger = SilentLogger()\n",
        "\n",
        "    # Usamos nuestra propia funcion de cross validation para validar el modelo\n",
        "    losses = custom_cross_validation(net, parameters, train_dataset, k = 5)\n",
        "\n",
        "    # Comprobamos si hemos mejorado la funcion de perdida\n",
        "    # En cuyo caso, actualizamos nuestra estructura de datos y, sobre todo, mostramos\n",
        "    # por pantalla los nuevos mejores parametros\n",
        "    if best_loss is None or losses.mean() < best_loss:\n",
        "        \n",
        "        # Actualizamos nuestra estructura de datos\n",
        "        best_loss = losses.mean()\n",
        "        best_parameters = {\n",
        "            \"epochs\": epochs,\n",
        "            \"lr\": learning_rate,\n",
        "            \"margin\": margin,\n",
        "        }\n",
        "\n",
        "        # Mostramos el cambio encontrado\n",
        "        print(\"==> ENCONTRADOS NUEVOS MEJORES PARAMETROS\")\n",
        "        print(f\"Mejores parametros: {best_parameters}\")\n",
        "        print(f\"Mejor loss: {best_loss}\")\n",
        "\n",
        "    # Devolvemos la media del error en los folds\n",
        "    return losses.mean()\n",
        "\n",
        "def custom_cross_validation(net, parameters, train_dataset, k):\n",
        "    \"\"\"Funcion propia para hacer k-fold cross validation de una red convolucional\"\"\"\n",
        "\n",
        "\n",
        "    # Definimos la forma en la que vamos a hacer el split de los folds\n",
        "    ss = ShuffleSplit(n_splits=k, test_size=0.25, random_state=RANDOM_SEED)\n",
        "    \n",
        "    # Lista en la que guardamos las perdidas encontradas en cada fold\n",
        "    losses = []\n",
        "\n",
        "    # Iteramos usando el split que nos da sklearn\n",
        "    for train_index, validation_index in ss.split(train_dataset):\n",
        "        \n",
        "        # Tenemos los indices de los elementos, asi que tomamos los dos datasets\n",
        "        # usando dichos indices\n",
        "        train_fold = [train_dataset[idx] for idx in train_index]\n",
        "        validation_fold = [train_dataset[idx] for idx in validation_index]\n",
        "\n",
        "        # Transformamos los datasets en dataloaders\n",
        "        train_loader = torch.utils.data.DataLoader(\n",
        "            train_fold,\n",
        "            batch_size = ONLINE_BATCH_SIZE,\n",
        "            shuffle = True,\n",
        "            num_workers = NUM_WORKERS,\n",
        "            pin_memory = True,\n",
        "        )\n",
        "        validation_loader = torch.utils.data.DataLoader(\n",
        "            validation_fold,\n",
        "            batch_size = ONLINE_BATCH_SIZE,\n",
        "            shuffle = True,\n",
        "            num_workers = NUM_WORKERS,\n",
        "            pin_memory = True,\n",
        "        )\n",
        "\n",
        "        # Entrenamos la red\n",
        "        _ = train_model_online(\n",
        "            net = net,\n",
        "            path = os.path.join(BASE_PATH, \"tmp\"),\n",
        "            parameters = parameters,\n",
        "            train_loader = train_loader,\n",
        "            validation_loader = validation_loader,\n",
        "            name = \"SiameseNetworkOnline\",\n",
        "            logger = SilentLogger(),\n",
        "            snapshot_iterations = None\n",
        "        )\n",
        "\n",
        "        # Evaluamos la red en el fold de validacion\n",
        "        net.set_permute(False)\n",
        "        net.eval()\n",
        "        loss = metrics.calculate_mean_triplet_loss_online(net, validation_loader, OnlineTripletLoss(margin), 1.0)\n",
        "        net.set_permute(True)\n",
        "\n",
        "        # Añadimos el loss a nuestra lista\n",
        "        losses.append(loss)\n",
        "    \n",
        "    # Devolvemos el array en formato numpy para que sea mas comodo trabajar con ella\n",
        "    return np.array(losses)\n",
        "\n",
        "# Controlamos si queremos realizar el hyperparameater tuning o no\n",
        "if SKIP_HYPERPARAMTER_TUNING is False:\n",
        "\n",
        "    # Creamos el estudio y optimizamos para reducir el loss\n",
        "    study = optuna.create_study(direction='minimize')\n",
        "    study.optimize(objective_cross_validation, n_trials=100)"
      ],
      "metadata": {
        "colab": {
          "base_uri": "https://localhost:8080/"
        },
        "id": "ujJwWDqqECXg",
        "outputId": "a6a66a45-d305-49ea-deb7-d75ecb8b11f2"
      },
      "id": "ujJwWDqqECXg",
      "execution_count": null,
      "outputs": [
        {
          "output_type": "stream",
          "name": "stderr",
          "text": [
            "\u001b[32m[I 2022-01-14 11:38:32,157]\u001b[0m A new study created in memory with name: no-name-aecb186b-ecd3-4306-8360-a5740ec44ab6\u001b[0m\n"
          ]
        },
        {
          "output_type": "stream",
          "name": "stdout",
          "text": [
            "Optimizando para margin: 1.5270350482883035, lr: 0.7591347576040713, epochs: 2\n",
            "==> Training on device cuda:0\n",
            "\n",
            "[0 / 0]\n",
            "[0 / 1024]\n",
            "[0 / 2048]\n",
            "[0 / 3072]\n",
            "[0 / 4096]\n",
            "[0 / 5120]\n",
            "[0 / 6144]\n",
            "[0 / 7168]\n",
            "[0 / 8192]\n",
            "[0 / 9216]\n",
            "[0 / 10240]\n",
            "[0 / 11264]\n",
            "[0 / 12288]\n",
            "[0 / 13312]\n",
            "[0 / 14336]\n",
            "[0 / 15360]\n",
            "[0 / 16384]\n",
            "[0 / 17408]\n",
            "[0 / 18432]\n",
            "[0 / 19456]\n",
            "[0 / 20480]\n",
            "[0 / 21504]\n",
            "[0 / 22528]\n",
            "[0 / 23552]\n",
            "[0 / 24576]\n",
            "[0 / 25600]\n",
            "[0 / 26624]\n",
            "[0 / 27648]\n",
            "[0 / 28672]\n",
            "[0 / 29696]\n",
            "[0 / 30720]\n",
            "[0 / 31744]\n",
            "[0 / 32768]\n",
            "[0 / 33792]\n",
            "[0 / 34816]\n",
            "[0 / 35840]\n",
            "[1 / 36000]\n",
            "[1 / 37024]\n"
          ]
        }
      ]
    },
    {
      "cell_type": "markdown",
      "metadata": {
        "id": "0_B_cQL--0mz"
      },
      "source": [
        "# Entrenamiento online"
      ],
      "id": "0_B_cQL--0mz"
    },
    {
      "cell_type": "code",
      "execution_count": null,
      "metadata": {
        "id": "plW9gNAw-0mz"
      },
      "outputs": [],
      "source": [
        "net = ResNet18()\n",
        "\n",
        "# En este caso, al no estar trabajando con los minibatches\n",
        "# (los usamos directamente como nos los da pytorch), no tenemos\n",
        "# que manipular los tensores\n",
        "net.set_permute(False)\n",
        "\n",
        "# TODO -- fijar bien los parametros\n",
        "parameters = dict()\n",
        "parameters[\"epochs\"] = TRAINING_EPOCHS\n",
        "parameters[\"lr\"] = 0.001\n",
        "parameters[\"criterion\"] = OnlineTripletLoss(MARGIN)\n",
        "\n",
        "# Definimos el logger que queremos para el entrenamiento\n",
        "logger = TripletLoggerOnline(\n",
        "    net = net,\n",
        "    iterations = 10 * ONLINE_BATCH_SIZE,\n",
        "    loss_func = parameters[\"criterion\"],\n",
        "    train_percentage = 0.001,\n",
        "    validation_percentage = 0.1,\n",
        ")\n",
        "\n",
        "print(net)"
      ],
      "id": "plW9gNAw-0mz"
    },
    {
      "cell_type": "code",
      "execution_count": null,
      "metadata": {
        "scrolled": false,
        "id": "S3WCSjQB-0m0"
      },
      "outputs": [],
      "source": [
        "# Entrenamos solo si lo especifica\n",
        "# el parametro que controla el uso de cache\n",
        "if USE_CACHED_MODEL is False:\n",
        "\n",
        "    # Para saber cuanto tarda\n",
        "    ts = time.time()\n",
        "\n",
        "    training_history = train_model_online(\n",
        "        net = net,\n",
        "        path = os.path.join(BASE_PATH, \"tmp\"),\n",
        "        parameters = parameters,\n",
        "        train_loader = train_loader,\n",
        "        validation_loader = validation_loader,\n",
        "        name = \"SiameseNetworkOnline\",\n",
        "        logger = SilentLogger(),\n",
        "        snapshot_iterations = None\n",
        "    )\n",
        "\n",
        "    # Calculamos cuanto ha tardado\n",
        "    te = time.time()\n",
        "    print(f\"Ha tardado {te - ts}\")\n",
        "    \n",
        "    # Actualizamos la cache del modelo\n",
        "    filesystem.save_model(net, MODEL_CACHE_FOLDER, \"online_model_cached\")\n",
        "\n",
        "\n",
        "# Nos saltamos el entrenamiento y cargamos el modelo desde la cache\n",
        "else:\n",
        "    net = filesystem.load_model(os.path.join(MODEL_CACHE_FOLDER, \"online_model_cached\"), ResNet18)\n",
        "    \n",
        "    # Tenemos que cargar la red en la memoria correspondiente\n",
        "    device = core.get_device()\n",
        "    net.to(device)\n",
        "    \n",
        "# A partir de este punto no hacemos entrenamiento\n",
        "# asi que ponemos la red en modo evaluacion para que \n",
        "# no vaya almacenando los gradientes\n",
        "net.eval()"
      ],
      "id": "S3WCSjQB-0m0"
    },
    {
      "cell_type": "code",
      "execution_count": null,
      "metadata": {
        "id": "3Si1QK_f-0m0"
      },
      "outputs": [],
      "source": [
        "# Entrenamos solo si lo especifica\n",
        "# el parametro que controla el uso de cache\n",
        "if USE_CACHED_MODEL is False:\n",
        "\n",
        "    show_learning_curve(training_history)"
      ],
      "id": "3Si1QK_f-0m0"
    },
    {
      "cell_type": "markdown",
      "metadata": {
        "id": "8zW63VZO-0m0"
      },
      "source": [
        "# Evaluación del modelo\n",
        "\n",
        "- Mostramos algunas métricas fundamentales sobre el conjunto de"
      ],
      "id": "8zW63VZO-0m0"
    },
    {
      "cell_type": "code",
      "execution_count": null,
      "metadata": {
        "id": "OATSn7Bw-0m0"
      },
      "outputs": [],
      "source": [
        "net.set_permute(False)\n",
        "\n",
        "core.test_model_online(net, test_loader, parameters[\"criterion\"], online = True)\n",
        "\n",
        "net.set_permute(True)"
      ],
      "id": "OATSn7Bw-0m0"
    },
    {
      "cell_type": "markdown",
      "metadata": {
        "id": "8mKrCuZJ-0m1"
      },
      "source": [
        "# Adaptamos el modelo a clasificador y evaluamos"
      ],
      "id": "8mKrCuZJ-0m1"
    },
    {
      "cell_type": "code",
      "execution_count": null,
      "metadata": {
        "scrolled": true,
        "id": "mSWnrXnI-0m1"
      },
      "outputs": [],
      "source": [
        "try_to_clean_memory()\n",
        "classifier = EmbeddingToClassifier(net, k = NUMBER_NEIGHBOURS, data_loader = train_loader)"
      ],
      "id": "mSWnrXnI-0m1"
    },
    {
      "cell_type": "markdown",
      "metadata": {
        "id": "DAvfYY-z-0m1"
      },
      "source": [
        "Evaluamos este clasificador en un conjunto pequeño de imágenes de test. Más adelante tomamos métricas de dicho clasificador:"
      ],
      "id": "DAvfYY-z-0m1"
    },
    {
      "cell_type": "code",
      "execution_count": null,
      "metadata": {
        "id": "ObaGeqfe-0m1"
      },
      "outputs": [],
      "source": [
        "# Hacemos esto y no `in test_dataset[:max_iterations]`\n",
        "# para no tener que tomar todo el dataset y quedarnos con\n",
        "# una parte de el, que es un proceso mucho mas lento que usar\n",
        "# el iterador que da `in test_dataset` y parar con el contador\n",
        "counter = 0\n",
        "max_iterations = 20\n",
        "\n",
        "for img, img_class in test_dataset:\n",
        "    predicted_class = classifier.predict(img)\n",
        "    print(f\"Etiqueta verdadera: {img_class}, etiqueta predicha: {predicted_class[0]}\")\n",
        "\n",
        "    # Actualizamos el contador\n",
        "    counter += 1\n",
        "    if counter == max_iterations: break"
      ],
      "id": "ObaGeqfe-0m1"
    },
    {
      "cell_type": "markdown",
      "metadata": {
        "id": "7hGaJTYa-0m2"
      },
      "source": [
        "# Plot del embedding\n",
        "\n",
        "- Aprovechamos el cálculo realizado en la clase que realiza la adaptación a clasificación para mostrar gráficamente el embedding calculado\n",
        "- Esta gráfica solo la visualizamos cuando el embedding tiene dimensión 2"
      ],
      "id": "7hGaJTYa-0m2"
    },
    {
      "cell_type": "code",
      "execution_count": null,
      "metadata": {
        "id": "gRarwr2c-0m2"
      },
      "outputs": [],
      "source": [
        "classifier.scatter_plot()"
      ],
      "id": "gRarwr2c-0m2"
    },
    {
      "cell_type": "markdown",
      "metadata": {
        "id": "0fTZytfP-0m2"
      },
      "source": [
        "## Evaluación del clasificador obtenido\n",
        "\n",
        "- Ahora que hemos adaptado el modelo para usarlo como clasificador, podemos consultar ciertas métricas de clasificación"
      ],
      "id": "0fTZytfP-0m2"
    },
    {
      "cell_type": "code",
      "execution_count": null,
      "metadata": {
        "id": "QGbqoo4H-0m2"
      },
      "outputs": [],
      "source": [
        "classifier.embedder.set_permute(False)\n",
        "\n",
        "metrics = evaluate_model(classifier, train_loader, test_loader)\n",
        "pprint(metrics)\n",
        "\n",
        "classifier.embedder.set_permute(True)"
      ],
      "id": "QGbqoo4H-0m2"
    }
  ],
  "metadata": {
    "accelerator": "GPU",
    "colab": {
      "collapsed_sections": [],
      "name": "Notebook.ipynb",
      "provenance": []
    },
    "kernelspec": {
      "display_name": "Python 3",
      "language": "python",
      "name": "python3"
    },
    "language_info": {
      "codemirror_mode": {
        "name": "ipython",
        "version": 3
      },
      "file_extension": ".py",
      "mimetype": "text/x-python",
      "name": "python",
      "nbconvert_exporter": "python",
      "pygments_lexer": "ipython3",
      "version": "3.8.5"
    }
  },
  "nbformat": 4,
  "nbformat_minor": 5
}