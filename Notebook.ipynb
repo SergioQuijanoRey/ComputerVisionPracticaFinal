{
  "cells": [
    {
      "cell_type": "markdown",
      "id": "5a81f04a-501e-4edc-8376-2b212f058640",
      "metadata": {
        "tags": [],
        "id": "5a81f04a-501e-4edc-8376-2b212f058640"
      },
      "source": [
        "# Parámetros globales del *Notebook*"
      ]
    },
    {
      "cell_type": "code",
      "execution_count": 1,
      "id": "dafe6cb7-f4e8-4aa1-8368-19c0bf273dac",
      "metadata": {
        "id": "dafe6cb7-f4e8-4aa1-8368-19c0bf273dac"
      },
      "outputs": [],
      "source": [
        "# Para definir los path\n",
        "import os\n",
        "\n",
        "# Define si estamos ejecutando el Notebook en nuestro \n",
        "# ordenador (\"local\") o en Google Colab (\"remote\")\n",
        "RUNNING_ENV = \"remote\"\n",
        "\n",
        "# Path que vamos a usar como base para el resto de paths\n",
        "BASE_PATH = \"./\" if RUNNING_ENV == \"local\" else \"/content/drive/MyDrive/Colab Notebooks/\"\n",
        "\n",
        "# Directorio en el que guardamos los scripts de python que usamos \n",
        "# como libreria propia\n",
        "LIB_PATH = os.path.join(BASE_PATH, \"lib\")\n",
        "\n",
        "# Directorio en el que guardamos los datos de entrenamiento y test\n",
        "DATA_PATH = os.path.join(BASE_PATH, \"data\")\n",
        "\n",
        "# Numero de procesos que queremos usar\n",
        "NUM_WORKERS = 2\n",
        "\n",
        "# Batch size que queremos usar para los dataloaders que usamos\n",
        "DATALOADER_BACH_SIZE = 32"
      ]
    },
    {
      "cell_type": "markdown",
      "id": "a81fd5e8-320b-4e00-be57-4bdf5799dad1",
      "metadata": {
        "id": "a81fd5e8-320b-4e00-be57-4bdf5799dad1"
      },
      "source": [
        "# Autorización si estamos usando Google Drive"
      ]
    },
    {
      "cell_type": "code",
      "execution_count": 2,
      "id": "6fcac799-d53f-4e6d-aaf4-4e7df3ae7422",
      "metadata": {
        "id": "6fcac799-d53f-4e6d-aaf4-4e7df3ae7422"
      },
      "outputs": [],
      "source": [
        "if RUNNING_ENV == \"cloud\":\n",
        "    from google.colab import drive\n",
        "    drive.mount('/content/drive')"
      ]
    },
    {
      "cell_type": "markdown",
      "id": "638c766e-6f30-46d7-b6d3-97a6b7e30995",
      "metadata": {
        "id": "638c766e-6f30-46d7-b6d3-97a6b7e30995"
      },
      "source": [
        "# Importing modules"
      ]
    },
    {
      "cell_type": "code",
      "execution_count": 3,
      "id": "3aeb81a8-78a0-4e63-aa9d-3c82d24100b5",
      "metadata": {
        "id": "3aeb81a8-78a0-4e63-aa9d-3c82d24100b5",
        "colab": {
          "base_uri": "https://localhost:8080/",
          "height": 373
        },
        "outputId": "6d8886f2-0c97-42e7-ecc7-e8c929b7af67"
      },
      "outputs": [
        {
          "output_type": "error",
          "ename": "ModuleNotFoundError",
          "evalue": "ignored",
          "traceback": [
            "\u001b[0;31m---------------------------------------------------------------------------\u001b[0m",
            "\u001b[0;31mModuleNotFoundError\u001b[0m                       Traceback (most recent call last)",
            "\u001b[0;32m<ipython-input-3-bb879ae333fa>\u001b[0m in \u001b[0;36m<module>\u001b[0;34m()\u001b[0m\n\u001b[1;32m     22\u001b[0m \u001b[0;31m# Ahora que hemos cargado estos ficheros en el Notebook, importamos lo necesario\u001b[0m\u001b[0;34m\u001b[0m\u001b[0;34m\u001b[0m\u001b[0;34m\u001b[0m\u001b[0m\n\u001b[1;32m     23\u001b[0m \u001b[0;31m# de nuestra propia libreria\u001b[0m\u001b[0;34m\u001b[0m\u001b[0;34m\u001b[0m\u001b[0;34m\u001b[0m\u001b[0m\n\u001b[0;32m---> 24\u001b[0;31m \u001b[0;32mimport\u001b[0m \u001b[0mcore\u001b[0m\u001b[0;34m\u001b[0m\u001b[0;34m\u001b[0m\u001b[0m\n\u001b[0m\u001b[1;32m     25\u001b[0m \u001b[0;32mimport\u001b[0m \u001b[0mboard\u001b[0m\u001b[0;34m\u001b[0m\u001b[0;34m\u001b[0m\u001b[0m\n\u001b[1;32m     26\u001b[0m \u001b[0;32mimport\u001b[0m \u001b[0mfilesystem\u001b[0m\u001b[0;34m\u001b[0m\u001b[0;34m\u001b[0m\u001b[0m\n",
            "\u001b[0;31mModuleNotFoundError\u001b[0m: No module named 'core'",
            "",
            "\u001b[0;31m---------------------------------------------------------------------------\u001b[0;32m\nNOTE: If your import is failing due to a missing package, you can\nmanually install dependencies using either !pip or !apt.\n\nTo view examples of installing some common dependencies, click the\n\"Open Examples\" button below.\n\u001b[0;31m---------------------------------------------------------------------------\u001b[0m\n"
          ],
          "errorDetails": {
            "actions": [
              {
                "action": "open_url",
                "actionText": "Open Examples",
                "url": "/notebooks/snippets/importing_libraries.ipynb"
              }
            ]
          }
        }
      ],
      "source": [
        "import torch\n",
        "import torch.nn as nn\n",
        "import torch.nn.functional as F\n",
        "import torch.optim as optim\n",
        "\n",
        "import torchvision\n",
        "import torchvision.datasets as datasets\n",
        "import torchvision.transforms as transforms\n",
        "\n",
        "import matplotlib.pyplot as plt\n",
        "import numpy as np\n",
        "import os\n",
        "from datetime import datetime\n",
        "\n",
        "# Cargamos en el Notebook todos los ficheros .py que definen nuestra propia libreria\n",
        "# Usamos esta libreria para escribir el codigo base necesario para llevar a cabo ciertas\n",
        "# tareas del notebook (como el bucle de entrenamiento) que no tienen interes mostrar\n",
        "# en este notebook\n",
        "import sys\n",
        "sys.path.insert(1, LIB_PATH)\n",
        "\n",
        "# Ahora que hemos cargado estos ficheros en el Notebook, importamos lo necesario\n",
        "# de nuestra propia libreria\n",
        "import core\n",
        "import board\n",
        "import filesystem\n",
        "from train_loggers import ClassificationLogger, SilentLogger, TripletLogger\n",
        "from models.resnet import *\n",
        "from visualizations import *\n",
        "from custom_loss import triplet_loss_batch_hard"
      ]
    },
    {
      "cell_type": "markdown",
      "id": "b4cbeab3-125d-44e4-8734-928f8f0c664c",
      "metadata": {
        "id": "b4cbeab3-125d-44e4-8734-928f8f0c664c"
      },
      "source": [
        "# Carga del conjunto de datos"
      ]
    },
    {
      "cell_type": "code",
      "execution_count": null,
      "id": "faa50ba8-0f5f-420e-bcbc-cfffc165ee44",
      "metadata": {
        "id": "faa50ba8-0f5f-420e-bcbc-cfffc165ee44"
      },
      "outputs": [],
      "source": [
        "# Transformaciones que queremos aplicar al cargar los datos\n",
        "# Ahora solo pasamos las imagenes a tensores, pero podriamos hacer aqui normalizaciones\n",
        "transform = transforms.Compose([\n",
        "    transforms.ToTensor(),\n",
        "    # TODO -- aqui podemos añadir la normaliazcion de datos\n",
        "])\n",
        "\n",
        "# Cargamos el dataset usando torchvision, que ya tiene el conjunto\n",
        "# preparado para descargar\n",
        "train_dataset = torchvision.datasets.FashionMNIST(\n",
        "    root = DATA_PATH,\n",
        "    train = True,\n",
        "    download = True,\n",
        "    transform = transform,\n",
        ")\n",
        "\n",
        "test_dataset = torchvision.datasets.FashionMNIST(\n",
        "    root = DATA_PATH,\n",
        "    train = False,\n",
        "    download = True,\n",
        "    transform = transform,\n",
        ")\n",
        "\n",
        "# Data loaders para acceder a los datos\n",
        "train_loader = torch.utils.data.DataLoader(\n",
        "    train_dataset,\n",
        "    batch_size = DATALOADER_BACH_SIZE,\n",
        "    shuffle = True,\n",
        "    num_workers = NUM_WORKERS,\n",
        "    pin_memory = True,\n",
        ")\n",
        "test_loader = torch.utils.data.DataLoader(\n",
        "  train_dataset,\n",
        "  batch_size = DATALOADER_BACH_SIZE,\n",
        "  shuffle = True,\n",
        "  num_workers = NUM_WORKERS,\n",
        "  pin_memory = True,\n",
        ")\n",
        "\n",
        "# Class that we are going to work with\n",
        "classes = (\"0\", \"1\", \"2\", \"3\", \"4\", \"5\", \"6\", \"7\", \"8\", \"9\")"
      ]
    },
    {
      "cell_type": "markdown",
      "id": "84d5b0ca-5a5a-4a4b-b0f4-dd6cf021f73d",
      "metadata": {
        "id": "84d5b0ca-5a5a-4a4b-b0f4-dd6cf021f73d",
        "tags": []
      },
      "source": [
        "# Basic data exploration"
      ]
    },
    {
      "cell_type": "markdown",
      "id": "7b3a17a3-c502-41ef-8197-b0c6989e9402",
      "metadata": {
        "id": "7b3a17a3-c502-41ef-8197-b0c6989e9402"
      },
      "source": [
        "First we are going to display some of the images of the training set:"
      ]
    },
    {
      "cell_type": "code",
      "execution_count": null,
      "id": "816b14ed-0a49-44f5-ac5b-16dce9e58091",
      "metadata": {
        "id": "816b14ed-0a49-44f5-ac5b-16dce9e58091"
      },
      "outputs": [],
      "source": [
        "images, digit_classes = next(iter(train_loader))\n",
        "img, digit_class = images[0], digit_classes[0]\n",
        "print(f\"Digit obtained is {digit_class}\")\n",
        "print(f\"Img shape is {img.shape}\")\n",
        "\n",
        "# Reshape and plot the img\n",
        "img = img.reshape((28, 28))\n",
        "show_img(img, color_format_range = (-1.0, 1.0))"
      ]
    },
    {
      "cell_type": "markdown",
      "id": "11747bce-2a7e-4c9c-bcc0-d22989a6faf0",
      "metadata": {
        "id": "11747bce-2a7e-4c9c-bcc0-d22989a6faf0"
      },
      "source": [
        "Now we can show more than one image at a time:"
      ]
    },
    {
      "cell_type": "code",
      "execution_count": null,
      "id": "e8225574-65fa-49c9-87d9-91b3d19bdef7",
      "metadata": {
        "id": "e8225574-65fa-49c9-87d9-91b3d19bdef7"
      },
      "outputs": [],
      "source": [
        "images, digit_classes = next(iter(train_loader))\n",
        "images = [img.reshape((28, 28)) for img in images]\n",
        "show_images(images, color_format_range = (-1.0, 1.0), columns = 4)"
      ]
    },
    {
      "cell_type": "markdown",
      "id": "0a73b156-19f0-470e-ad06-e140bc65a61c",
      "metadata": {
        "id": "0a73b156-19f0-470e-ad06-e140bc65a61c"
      },
      "source": [
        "Now lets see some statistics:"
      ]
    },
    {
      "cell_type": "code",
      "execution_count": null,
      "id": "f1f3dcc8-0482-446d-a686-e4e7ca9b6afd",
      "metadata": {
        "id": "f1f3dcc8-0482-446d-a686-e4e7ca9b6afd"
      },
      "outputs": [],
      "source": [
        "print(f\"We have {len(train_dataset)} train samples\")\n",
        "print(f\"We have {len(test_dataset)} test samples\")"
      ]
    },
    {
      "cell_type": "markdown",
      "id": "1e33621e-25d4-44ad-adba-07cd26e2c674",
      "metadata": {
        "id": "1e33621e-25d4-44ad-adba-07cd26e2c674"
      },
      "source": [
        "## Conclusions:"
      ]
    },
    {
      "cell_type": "markdown",
      "id": "99bf6d77-999c-49fc-9674-307c6a9d0820",
      "metadata": {
        "id": "99bf6d77-999c-49fc-9674-307c6a9d0820"
      },
      "source": [
        "- We are working with $28 x 28 x 1$ images\n",
        "- We have to work with ten classes\n",
        "- 60k training samples and 10k test samples"
      ]
    },
    {
      "cell_type": "markdown",
      "id": "f9d19cf8-9369-4d9b-a28b-3d59fda64bc4",
      "metadata": {
        "id": "f9d19cf8-9369-4d9b-a28b-3d59fda64bc4"
      },
      "source": [
        "# Defining the baseline model"
      ]
    },
    {
      "cell_type": "code",
      "execution_count": null,
      "id": "5153ec0e-fa9f-4335-aa31-bb424ae59122",
      "metadata": {
        "id": "5153ec0e-fa9f-4335-aa31-bb424ae59122"
      },
      "outputs": [],
      "source": [
        "class BaseLine(nn.Module):\n",
        "    \"\"\"\n",
        "    Baseline model used to compare it with more advanced models\n",
        "    Flatten the input and apply FC layers. Batch normalization enhanced a lot model performance (92% acc to 97% acc)\n",
        "    \"\"\"\n",
        "    \n",
        "    def __init__(self):\n",
        "        # Init parent class\n",
        "        super().__init__()\n",
        "        \n",
        "        # Architecture:\n",
        "        self.fc1 = nn.Linear(28*28, 100)\n",
        "        self.bn1 = nn.BatchNorm1d(100)\n",
        "        \n",
        "        self.fc2 = nn.Linear(100, 150)\n",
        "        self.bn2 = nn.BatchNorm1d(150)\n",
        "\n",
        "        self.fc3 = nn.Linear(150, 10)\n",
        "    \n",
        "    def forward(self, x: torch.Tensor) -> torch.Tensor:\n",
        "        # Flatten the input\n",
        "        x = torch.flatten(x, start_dim = 1)\n",
        "        \n",
        "        # First layer\n",
        "        x = self.fc1(x)\n",
        "        x = self.bn1(x)\n",
        "        x = F.relu(x)\n",
        "        \n",
        "        # Second layer\n",
        "        x = self.fc2(x)\n",
        "        x = self.bn2(x)\n",
        "        x = F.relu(x)\n",
        "        \n",
        "        # Output layer\n",
        "        x = self.fc3(x)\n",
        "        return x\n",
        "        "
      ]
    },
    {
      "cell_type": "markdown",
      "id": "905faa72-9a5a-48d9-ae70-405b69ef1c6f",
      "metadata": {
        "id": "905faa72-9a5a-48d9-ae70-405b69ef1c6f"
      },
      "source": [
        "# LuNet Model"
      ]
    },
    {
      "cell_type": "code",
      "execution_count": null,
      "id": "81a157dc-fe12-46d4-9369-84514c80486c",
      "metadata": {
        "id": "81a157dc-fe12-46d4-9369-84514c80486c"
      },
      "outputs": [],
      "source": [
        "class LuNet(nn.Module):\n",
        "    \"\"\"\n",
        "    LuNet model adapted to 28x28x1 input images\n",
        "    \n",
        "    Based on the model presented in the paper \"In defense of the triplet loss \n",
        "    for person re-identification\"\n",
        "    \n",
        "    In order to make some experiments with this model\n",
        "    \n",
        "    Original architecture is quite similar to a common ResNet using bottleneck \n",
        "    building blocks with batch normalization. The real work happens in the \n",
        "    loss function and also the way triplets are chosen. So we are going to \n",
        "    stack some building blocks without max-pooling (28x28x1 is small enough)\n",
        "    and apply that loss function and triplet selection policy\n",
        "    \n",
        "    \n",
        "    \"\"\"\n",
        "    \n",
        "    def __init__(self):          \n",
        "        # Init parent class\n",
        "        super().__init__()\n",
        "\n",
        "        # ResNet Blocks\n",
        "        self.block1 = BottleNeckBlock(\n",
        "            input_channels = 1,\n",
        "            output_channels = 8,\n",
        "            kernel_size = 3,\n",
        "            stride = 1,\n",
        "            disable_identity = True,\n",
        "        )\n",
        "        \n",
        "        self.block2 = BottleNeckBlock(\n",
        "            input_channels = 8,\n",
        "            output_channels = 8,\n",
        "            kernel_size = 3,\n",
        "            stride = 1,\n",
        "            disable_identity = False,\n",
        "        )\n",
        "        \n",
        "        self.block3 = BottleNeckBlock(\n",
        "            input_channels = 8,\n",
        "            output_channels = 16,\n",
        "            kernel_size = 3,\n",
        "            stride = 1,\n",
        "            disable_identity = True,\n",
        "        )\n",
        "        \n",
        "        self.block4 = BottleNeckBlock(\n",
        "            input_channels = 16,\n",
        "            output_channels = 16,\n",
        "            kernel_size = 3,\n",
        "            stride = 1,\n",
        "            disable_identity = False,\n",
        "        )\n",
        "        \n",
        "        # Fully connected layers\n",
        "        # We end up with an embedding space of dimension 64\n",
        "        self.fc1 = nn.Linear(12544, 128)\n",
        "        self.bn1 = nn.BatchNorm1d(128)\n",
        "        self.fc2 = nn.Linear(128, 64)\n",
        "    \n",
        "    def forward(self, x: torch.Tensor) -> torch.Tensor:\n",
        "        # ResNet blocks\n",
        "        x = self.block1(x)\n",
        "        x = self.block2(x)\n",
        "        x = self.block3(x)\n",
        "        \n",
        "        # Now fully-connected layers\n",
        "        x = torch.flatten(x, start_dim = 1)\n",
        "        \n",
        "        x = self.fc1(x)\n",
        "        # TODO -- enable this again\n",
        "        #x = self.bn1(x)\n",
        "        x = F.relu(x)        \n",
        "        x = self.fc2(x)\n",
        "        \n",
        "        return x"
      ]
    },
    {
      "cell_type": "markdown",
      "id": "3d32f0f2-bc99-4436-a004-53d1b8e64036",
      "metadata": {
        "id": "3d32f0f2-bc99-4436-a004-53d1b8e64036"
      },
      "source": [
        "# Custom Datasets"
      ]
    },
    {
      "cell_type": "markdown",
      "id": "e95dc3d4-6415-4869-8d1f-0e2b6f3917cb",
      "metadata": {
        "id": "e95dc3d4-6415-4869-8d1f-0e2b6f3917cb"
      },
      "source": [
        "`TripletMarginLoss` requires three parameters: anchor, positive and negative. We can change the training loop for, given a batch of examples and their labels, calculate a triplet (we are going to end with batch hard triplets) and pass that to the loss func. Also we can make it generalized using lambda functions as parameters (more strategy pattern in training loop). \n",
        "\n",
        "Or we can do better and create a custom data loader that handles the creation of hard triplets, batches of hard triplets and left the training loop as it was. Fortunately, pytorch makes very easy and convinient to create custom data loaders. \n",
        "\n",
        "Inspired by [this notebook](https://www.kaggle.com/hirotaka0122/triplet-loss-with-pytorch#Define-class-MNIST). Our dataloader is slightly different (mainly the *batch hard triplet concept*)"
      ]
    },
    {
      "cell_type": "markdown",
      "id": "52123ca0-e4d8-4b3f-b759-7e69b85e89a4",
      "metadata": {
        "id": "52123ca0-e4d8-4b3f-b759-7e69b85e89a4"
      },
      "source": [
        "## Random triplets\n",
        "\n",
        "We well start by creating a custom data set that, given an anchor by its index, gets a random positive anda a random negative for that anchor. Its a good starting point but it's not enough, as said in the paper we're basing our work."
      ]
    },
    {
      "cell_type": "code",
      "execution_count": null,
      "id": "339b21d9-eaee-484c-83ac-5385609e05d5",
      "metadata": {
        "id": "339b21d9-eaee-484c-83ac-5385609e05d5"
      },
      "outputs": [],
      "source": [
        "from torch.utils.data import Dataset\n",
        "\n",
        "class MNIST_RANDOM_TRIPLET(Dataset):\n",
        "    \"\"\"\n",
        "    Custom MNIST data loader that returns batch random triplets instead of input + label\n",
        "    That means we select the anchor via the index, and then a positive and a negative is chosen randomly\n",
        "    \n",
        "    Under the hood, we are using pytorch mnist dataset, but creating the triplets\n",
        "    \"\"\"\n",
        "    \n",
        "    def __init__(self, train: bool = True, root: str = \"./data\", transform=None):\n",
        "        \"\"\"\n",
        "        Initializes the dataset. Uses mnist dataset stored in pytorch\n",
        "        \n",
        "        Parameters:\n",
        "        ============\n",
        "        train: if we are loading the training set (True) or the test set (False)\n",
        "        root: path where to save the dataset\n",
        "        transform: transforms we want to apply to the images stored before returning them\n",
        "        \"\"\"\n",
        "        \n",
        "        self.train = train\n",
        "        self.transform = transform\n",
        "        \n",
        "        # Our images storage \n",
        "        self.underlying_dataset = None\n",
        "        if self.train is True:\n",
        "            self.underlying_dataset = datasets.MNIST(root= root, train=True, download=True, transform=self.transform)\n",
        "        else:\n",
        "            self.underlying_dataset = datasets.MNIST(root= root, train=False, download=True, transform=self.transform)\n",
        "            \n",
        "        # We compute classes indixes here to save computation time in training loop\n",
        "        self.indixes_of_classes = [self.__create_index_list(index) for index in range(0, 10)]\n",
        "        self.indixes_of_classes = np.array(self.indixes_of_classes)\n",
        "    \n",
        "    def __len__(self):\n",
        "        return len(self.underlying_dataset)\n",
        "    \n",
        "    def __getitem__(self, idx):\n",
        "        \"\"\"\"\n",
        "        Returns an item in the form of anchor, positive, negative image\n",
        "        Anchor is given by the index, positive and negative chosen randomly\n",
        "        \n",
        "        Parameters:\n",
        "        ============\n",
        "        idx: index of the item we are looking for\n",
        "        \n",
        "        Returns:\n",
        "        ========\n",
        "        anchor: the idx-th image of the dataset\n",
        "        positive: some image with the same idx of the image\n",
        "        negative: some image with is no same idx of the image\n",
        "        \"\"\"\n",
        "        \n",
        "        # Convert tensor index into list index\n",
        "        if torch.is_tensor(idx):\n",
        "            idx = idx.tolist()\n",
        "\n",
        "        # Get the item from the dataset\n",
        "        # Anchor is the image of given idx\n",
        "        anchor, anchor_label = self.underlying_dataset[idx]\n",
        "                \n",
        "        # Now get some random positive fron the dataset\n",
        "        positive_index = np.random.choice(self.indixes_of_classes[anchor_label][0])\n",
        "        positive, _ = self.underlying_dataset[positive_index]\n",
        "        \n",
        "        # Now we get some random negative from the dataset\n",
        "        negative_classes = np.delete(self.indixes_of_classes, [anchor_label])\n",
        "        negative_class_indixes = np.random.choice(negative_classes)\n",
        "        negative_index = np.random.choice(negative_class_indixes)\n",
        "        negative, _ = self.underlying_dataset[negative_index]\n",
        "   \n",
        "        return anchor, positive, negative\n",
        "\n",
        "    def __create_index_list(self, label: int) -> torch.Tensor:\n",
        "        \"\"\"\n",
        "        Creates an array of indixes of the positions of certain label in the dataset\n",
        "        For example: given class 0 returns np.array(3, 4, 9) because in these positions\n",
        "        there are images matching that label\n",
        "        \"\"\"\n",
        "\n",
        "        labels = self.underlying_dataset.targets\n",
        "        indixes = torch.where(labels == label)\n",
        "        indixes = indixes\n",
        "        return indixes"
      ]
    },
    {
      "cell_type": "markdown",
      "id": "06bc18a2-579c-4bc8-b831-83b10e100c91",
      "metadata": {
        "id": "06bc18a2-579c-4bc8-b831-83b10e100c91"
      },
      "source": [
        "Lets test this showing some images obtained through the custom Dataset"
      ]
    },
    {
      "cell_type": "code",
      "execution_count": null,
      "id": "c35f4c3a-102e-4929-9b57-3d3334e25187",
      "metadata": {
        "id": "c35f4c3a-102e-4929-9b57-3d3334e25187"
      },
      "outputs": [],
      "source": [
        "# Convert PIL images to tensor\n",
        "# ALso normalize images\n",
        "transform = transforms.Compose([\n",
        "    transforms.ToTensor(),\n",
        "    transforms.Normalize((0.5), (0.5))\n",
        "])\n",
        "\n",
        "# Create the dataset\n",
        "dataset = MNIST_RANDOM_TRIPLET(train = True, transform = transform)\n",
        "\n",
        "# Load some images\n",
        "anchor, positive, negative = dataset[0]\n",
        "anchor, positive, negative = anchor.reshape(28,28), positive.reshape(28,28), negative.reshape(28,28)\n",
        "show_images([anchor, positive, negative], color_format_range = (-1.0, 1.0))"
      ]
    },
    {
      "cell_type": "markdown",
      "id": "49fbe0d2-a162-4cf3-a667-69cfaee54fa5",
      "metadata": {
        "id": "49fbe0d2-a162-4cf3-a667-69cfaee54fa5"
      },
      "source": [
        "And now I override classic dataloader with our custom dataset:"
      ]
    },
    {
      "cell_type": "code",
      "execution_count": null,
      "id": "62e880d4-9c50-4dc7-a27f-69551fb102f5",
      "metadata": {
        "id": "62e880d4-9c50-4dc7-a27f-69551fb102f5"
      },
      "outputs": [],
      "source": [
        "# Convert PIL images to tensor\n",
        "# ALso normalize images\n",
        "transform = transforms.Compose([\n",
        "    transforms.ToTensor(),\n",
        "    transforms.Normalize((0.5), (0.5))\n",
        "])\n",
        "\n",
        "# Create the dataset\n",
        "training_set = MNIST_RANDOM_TRIPLET(train = True, transform = transform)\n",
        "testing_set = MNIST_RANDOM_TRIPLET(train = False, transform = transform)\n",
        "\n",
        "\n",
        "# Data loaders for accessing the data\n",
        "batch_size = 32\n",
        "num_workers = 2\n",
        "train_loader = torch.utils.data.DataLoader(\n",
        "    training_set, \n",
        "    batch_size=batch_size,\n",
        "    shuffle=True,\n",
        "    num_workers=num_workers,\n",
        "    pin_memory = True,\n",
        ")\n",
        "test_loader = torch.utils.data.DataLoader(testing_set, batch_size = batch_size, shuffle = True, num_workers = num_workers, pin_memory = True)\n"
      ]
    },
    {
      "cell_type": "markdown",
      "id": "12ccc27a-9778-4a8c-93ed-4d0b96a99ece",
      "metadata": {
        "id": "12ccc27a-9778-4a8c-93ed-4d0b96a99ece"
      },
      "source": [
        "# Batch Hard Triplets"
      ]
    },
    {
      "cell_type": "markdown",
      "id": "447d837f-6461-4720-8656-924b33c4587b",
      "metadata": {
        "id": "447d837f-6461-4720-8656-924b33c4587b"
      },
      "source": [
        "This time we are going to implement a dataset for mining batch hard triplets. In order to implement this, we have to:\n",
        "\n",
        "- Randomly sample P classes\n",
        "- Randomly sample K images for each P classes\n",
        "- For each image, compute loss using hardest positive and hardest negative\n",
        "\n",
        "So, when accessing the dataset using index i-th, we are going to generate a PK batch. So the dataloader has to use batch size 1, because we're doing the batch working directly through the dataset (I tried to do this trought the dataloader but failed to do so)\n",
        "\n",
        "Also, the len of the dataset is going to set by the user of the dataset, because we're randomly sampling batches, thus we can set `__len__`as we want"
      ]
    },
    {
      "cell_type": "code",
      "execution_count": null,
      "id": "e933db97-fea4-4e84-b54f-2c6162fc0d6a",
      "metadata": {
        "id": "e933db97-fea4-4e84-b54f-2c6162fc0d6a"
      },
      "outputs": [],
      "source": [
        "from torch.utils.data import Dataset\n",
        "\n",
        "class MNIST_HARDBATCH_TRIPLET(Dataset):\n",
        "    \"\"\"\n",
        "    Custom MNIST data loader that returns batch hard triplets instead of input + label\n",
        "    That means we are sampling P classes from the dataset. For each class we're sampling\n",
        "    K images. Therefore, we end with PK image. \n",
        "    \n",
        "    For each image in the PK class, we want to compute the triplet loss using the hardest\n",
        "    positive and the hardest negative. But this has to be handled in the training loop\n",
        "    \n",
        "    This dataset implements some kind of batching. Thus, the dataloader used with this\n",
        "    dataset has to use batch_size = 1\n",
        "    \n",
        "    Under the hood, we are using pytorch mnist dataset, but managing the triplets\n",
        "    \"\"\"\n",
        "    \n",
        "    def __init__(self, train: bool = True, root: str = \"./data\", transform=None, num_classes: int = 4, images_per_class: int = 10, custom_len: int = 32):\n",
        "        \"\"\"\n",
        "        Initializes the dataset. Uses mnist dataset stored in pytorch\n",
        "        \n",
        "        Parameters:\n",
        "        ============\n",
        "        train: if we are loading the training set (True) or the test set (False)\n",
        "        root: path where to save the dataset\n",
        "        transform: transforms we want to apply to the images stored before returning them\n",
        "        num_classes: number of classes sampled at each batch\n",
        "        images_per_class: number of images sampled for each sampled class\n",
        "        custom_len: custom len, we are not using the original dataset len because we're randomly sampling images\n",
        "                    from the dataset, so any len can be specified. A good idea can be:\n",
        "                        custom_len = len(dataset) / (PK)\n",
        "        \"\"\"\n",
        "        \n",
        "        self.train = train\n",
        "        self.transform = transform\n",
        "        self.num_classes = num_classes\n",
        "        self.images_per_class = images_per_class\n",
        "        self.custom_len = custom_len\n",
        "        \n",
        "        # Our images storage \n",
        "        self.underlying_dataset = None\n",
        "        if self.train is True:\n",
        "            self.underlying_dataset = datasets.MNIST(root= root, train=True, download=True, transform=self.transform)\n",
        "        else:\n",
        "            self.underlying_dataset = datasets.MNIST(root= root, train=False, download=True, transform=self.transform)\n",
        "            \n",
        "        # We compute classes indixes here to save computation time in training loop\n",
        "        self.indixes_of_classes = [self.__create_index_list(index) for index in range(0, 10)]\n",
        "        self.indixes_of_classes = np.array(self.indixes_of_classes)\n",
        "    \n",
        "    def __len__(self):\n",
        "        # We return the custom len that the user of this dataset specifies\n",
        "        return self.custom_len\n",
        "    \n",
        "    def __getitem__(self, idx):\n",
        "        \"\"\"\"\n",
        "        Returns a batch consisting of PK images, as describe in the class docs\n",
        "                \n",
        "        Parameters:\n",
        "        ============\n",
        "        idx: index of the item we are looking for\n",
        "             In this case, this index is useless\n",
        "        \n",
        "        Returns:\n",
        "        ========\n",
        "        training_batch: dict having P keys (class labels) and keys of K images for each class\n",
        "        \"\"\"\n",
        "        \n",
        "        # TODO -- not correct: Convert tensor index into list index\n",
        "        # Check if we are using batch size greater than 0\n",
        "        if torch.is_tensor(idx):\n",
        "            #idx = idx.tolist()\n",
        "            raise Exception(\"MNIST_HARDBATCH_TRIPLET don't support batch size greater than 1\")\n",
        "\n",
        "                \n",
        "        # Dict we are going to return\n",
        "        training_batch = dict()\n",
        "        \n",
        "        # Select P different random classes\n",
        "        classes = [x for x in range(0, 10)]\n",
        "        classes = np.random.choice(classes, size = self.num_classes, replace = False)\n",
        "        \n",
        "        # Select K randon images for each class\n",
        "        for curr_class in classes:\n",
        "            # Select random indixes of images belonging to this class\n",
        "            curr_images_idx = self.indixes_of_classes[curr_class][0]\n",
        "            curr_images = np.random.choice(curr_images_idx, size = self.images_per_class, replace = False)\n",
        "            \n",
        "            # Convert random indixes to their correspondent images\n",
        "            curr_images = [self.underlying_dataset[idx] for idx in curr_images]\n",
        "            \n",
        "            # We are using underlying dataset for getting images, so we get batches\n",
        "            # of size 1 when querying for images. Also reshape to have images of\n",
        "            # shape 28x28\n",
        "            curr_images = [img[0] for img in curr_images]\n",
        "            curr_images = [img.reshape(28, 28) for img in curr_images]\n",
        "            \n",
        "            # Set this to our dict\n",
        "            training_batch[curr_class] = curr_images\n",
        "        \n",
        "        return training_batch\n",
        "\n",
        "    def __create_index_list(self, label: int) -> torch.Tensor:\n",
        "        \"\"\"\n",
        "        Creates an array of indixes of the positions of certain label in the dataset\n",
        "        For example: given class 0 returns np.array(3, 4, 9) because in these positions\n",
        "        there are images matching that label\n",
        "        \"\"\"\n",
        "\n",
        "        labels = self.underlying_dataset.targets\n",
        "        indixes = torch.where(labels == label)\n",
        "        indixes = indixes\n",
        "        return indixes\n",
        "    \n",
        "    def display_batch(batch: dict):\n",
        "        \"\"\"Gets a dict created by Self.__getitem__, and for each random sampled class,\n",
        "        displays some random images corresponding to that class\"\"\"\n",
        "        # Show some images from the batch\n",
        "        # Convert dict of images to single-line list\n",
        "        images = []\n",
        "        for key in batch:\n",
        "            curr_images = batch[key]\n",
        "            curr_images = curr_images[:5]\n",
        "            \n",
        "            # Just in case, it should not happen\n",
        "            curr_images = [img.reshape(28, 28) for img in curr_images]\n",
        "            \n",
        "            # Append to the image list\n",
        "            images = images + curr_images\n",
        "\n",
        "        show_images(images, color_format_range = (-1, 1), columns = 5)"
      ]
    },
    {
      "cell_type": "markdown",
      "id": "1d92e6e1-995e-4562-8d3b-fc9a6ddf1999",
      "metadata": {
        "id": "1d92e6e1-995e-4562-8d3b-fc9a6ddf1999"
      },
      "source": [
        "Lets see how it works the dataset works. For this, we create a random batch from the dataset, and show for each random sampled class, some images sampled for that class: "
      ]
    },
    {
      "cell_type": "code",
      "execution_count": null,
      "id": "7c23268a-7b70-40e5-b971-a87f69cc1b55",
      "metadata": {
        "id": "7c23268a-7b70-40e5-b971-a87f69cc1b55"
      },
      "outputs": [],
      "source": [
        "# First, generate the dataset\n",
        "training_set = MNIST_HARDBATCH_TRIPLET(\n",
        "    train = True, \n",
        "    root = \"./data\",\n",
        "    transform=transform,\n",
        "    num_classes = 4, \n",
        "    images_per_class = 10,\n",
        "    custom_len = 32\n",
        ")\n",
        "\n",
        "# Now, get a batch from the dataset\n",
        "batch = training_set[0]\n",
        "MNIST_HARDBATCH_TRIPLET.display_batch(batch)"
      ]
    },
    {
      "cell_type": "markdown",
      "id": "df58cf9e-51ba-4c88-8e29-b26a3319b1d7",
      "metadata": {
        "id": "df58cf9e-51ba-4c88-8e29-b26a3319b1d7"
      },
      "source": [
        "Now we are going to define datasets and dataloaders for training and testing:"
      ]
    },
    {
      "cell_type": "code",
      "execution_count": null,
      "id": "283367c5-4134-4378-bb27-829b0486d754",
      "metadata": {
        "id": "283367c5-4134-4378-bb27-829b0486d754"
      },
      "outputs": [],
      "source": [
        "transform = transforms.Compose([\n",
        "    transforms.ToTensor(),\n",
        "    transforms.Normalize((0.5), (0.5))\n",
        "])\n",
        "\n",
        "# Loading the data\n",
        "# TODO -- apply transfors to normalize and do data augmentation\n",
        "# TODO -- split train loader for having training / validation set\n",
        "train_dataset = MNIST_HARDBATCH_TRIPLET(    \n",
        "    train = True, \n",
        "    root = \"./data\",\n",
        "    transform=transform,\n",
        "    num_classes = 4, \n",
        "    images_per_class = 10,\n",
        "    custom_len = 32\n",
        ")\n",
        "test_dataset = MNIST_HARDBATCH_TRIPLET(   \n",
        "    train = False, \n",
        "    root = \"./data\",\n",
        "    transform=transform,\n",
        "    num_classes = 4, \n",
        "    images_per_class = 10,\n",
        "    custom_len = 32\n",
        ")\n",
        "\n",
        "# Data loaders for accessing the data\n",
        "batch_size = 1 # This time we have to use batch size of 1\n",
        "num_workers = 2\n",
        "train_loader = torch.utils.data.DataLoader(\n",
        "    train_dataset, \n",
        "    batch_size=batch_size,\n",
        "    shuffle=True,\n",
        "    num_workers=num_workers,\n",
        "    pin_memory = True,\n",
        ")\n",
        "test_loader = torch.utils.data.DataLoader(\n",
        "    test_dataset,\n",
        "    batch_size = batch_size,\n",
        "    shuffle = True, \n",
        "    num_workers = num_workers, \n",
        "    pin_memory = True\n",
        ")"
      ]
    },
    {
      "cell_type": "markdown",
      "id": "5dc9b45c-e5a4-4a8a-bbd6-f338ae155c8c",
      "metadata": {
        "id": "5dc9b45c-e5a4-4a8a-bbd6-f338ae155c8c"
      },
      "source": [
        "Check if dataloaders work well, because we're handling batches in non-pytorch way:"
      ]
    },
    {
      "cell_type": "code",
      "execution_count": null,
      "id": "0c77af17-40e2-4582-8b6f-176a29a21610",
      "metadata": {
        "id": "0c77af17-40e2-4582-8b6f-176a29a21610"
      },
      "outputs": [],
      "source": [
        "for batch in test_loader:    \n",
        "    MNIST_HARDBATCH_TRIPLET.display_batch(batch)\n",
        "    \n",
        "    # Only show one iteration of the dataloader\n",
        "    break"
      ]
    },
    {
      "cell_type": "markdown",
      "id": "64f272b8-b501-49c2-8aa7-77a7abe85614",
      "metadata": {
        "id": "64f272b8-b501-49c2-8aa7-77a7abe85614"
      },
      "source": [
        "# Training the model"
      ]
    },
    {
      "cell_type": "code",
      "execution_count": null,
      "id": "c29de921-e5d9-4319-bf01-1f65e651d734",
      "metadata": {
        "id": "c29de921-e5d9-4319-bf01-1f65e651d734"
      },
      "outputs": [],
      "source": [
        "# Set the training parameters\n",
        "parameters = dict()\n",
        "parameters[\"lr\"] = 0.001\n",
        "parameters[\"momentum\"] = 0.9\n",
        "parameters[\"criterion\"] = triplet_loss_batch_hard\n",
        "parameters[\"epochs\"] = 10\n",
        "\n",
        "# We save the model in different paths wether we're running\n",
        "# local or in cloud\n",
        "save_model_path = None\n",
        "if running_env == \"local\": save_model_path = \"./saved_models\"\n",
        "if running_env == \"cloud\": save_model_path = \"drive/MyDrive/ml/Modelos/MNIST-ReID/saved_models\"\n",
        "\n",
        "# Network we are going to train\n",
        "net = LuNet()\n",
        "\n",
        "# Specifying the trainning logger\n",
        "logger = TripletLogger(\n",
        "    iterations = 200 * batch_size, # TODO -- document why multiplying batch_size \n",
        "    loss_func = triplet_loss_batch_hard, \n",
        "    net = net,\n",
        "    training_perc = 0.2, \n",
        "    validation_perc = 1.0\n",
        ")\n",
        "\n",
        "# If running in cloud, show tensorboard inline\n",
        "if running_env == \"cloud\":\n",
        "    %load_ext tensorboard\n",
        "    %tensorboard --logdir runs\n",
        "\n",
        "# Train process\n",
        "core.batch_hard_train(\n",
        "    net, \n",
        "    save_model_path, \n",
        "    parameters, \n",
        "    train_loader = train_loader, \n",
        "    validation_loader = test_loader, # TODO -- we are using test dataset as validation dataset \n",
        "    name = \"LuNet\", \n",
        "    logger = logger,\n",
        "    snapshot_iterations = 10_000 \n",
        ")\n",
        "\n",
        "# Close the logger when we are done with the training\n",
        "logger.close()"
      ]
    },
    {
      "cell_type": "markdown",
      "id": "aadebb34-b01d-4a6e-831f-7de00f182789",
      "metadata": {
        "id": "aadebb34-b01d-4a6e-831f-7de00f182789"
      },
      "source": [
        "# Evaluating the model"
      ]
    },
    {
      "cell_type": "code",
      "execution_count": null,
      "id": "fd1957da-c16c-4f92-a9cd-51e8ba5831f6",
      "metadata": {
        "id": "fd1957da-c16c-4f92-a9cd-51e8ba5831f6"
      },
      "outputs": [],
      "source": [
        ""
      ]
    },
    {
      "cell_type": "markdown",
      "id": "a9ba21cf-ebab-4620-8183-50d8fa89ecb6",
      "metadata": {
        "id": "a9ba21cf-ebab-4620-8183-50d8fa89ecb6"
      },
      "source": [
        "# Some conclusions and thoughts"
      ]
    },
    {
      "cell_type": "markdown",
      "id": "c7b36f9e-96e2-48fb-bdb3-ac1daeb9befd",
      "metadata": {
        "id": "c7b36f9e-96e2-48fb-bdb3-ac1daeb9befd"
      },
      "source": [
        "- Base model with no hyperparameter tuning, and just three fc layers with batch normalization reaches ~97% acc on test set\n",
        "    - Trained with 0.001 lr\n",
        "    - Trained with 0.01 lr converges much faster and also reaches 97% acc on test set\n",
        "- Baseline LuNet model with no hyperparameter tuning also reaches ~96% acc\n",
        "    - Baseline Lunet means we are using the LuNet architecture but cross entropy loss and classic training loop \n",
        "    - For baseline, the size of output layer has to be 10, in our actual model we use higher value for specifying embedding space dimension"
      ]
    },
    {
      "cell_type": "code",
      "execution_count": null,
      "id": "e513ae59-1a3e-4634-beea-65476c09ec51",
      "metadata": {
        "id": "e513ae59-1a3e-4634-beea-65476c09ec51"
      },
      "outputs": [],
      "source": [
        ""
      ]
    }
  ],
  "metadata": {
    "accelerator": "GPU",
    "colab": {
      "collapsed_sections": [],
      "name": "Notebook.ipynb",
      "provenance": []
    },
    "kernelspec": {
      "display_name": "Python 3 (ipykernel)",
      "language": "python",
      "name": "python3"
    },
    "language_info": {
      "codemirror_mode": {
        "name": "ipython",
        "version": 3
      },
      "file_extension": ".py",
      "mimetype": "text/x-python",
      "name": "python",
      "nbconvert_exporter": "python",
      "pygments_lexer": "ipython3",
      "version": "3.10.1"
    }
  },
  "nbformat": 4,
  "nbformat_minor": 5
}