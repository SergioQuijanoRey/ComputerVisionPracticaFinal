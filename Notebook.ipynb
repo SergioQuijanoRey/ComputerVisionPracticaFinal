{
  "cells": [
    {
      "cell_type": "markdown",
      "id": "5a81f04a-501e-4edc-8376-2b212f058640",
      "metadata": {
        "id": "5a81f04a-501e-4edc-8376-2b212f058640",
        "tags": []
      },
      "source": [
        "# Parámetros globales del *Notebook*"
      ]
    },
    {
      "cell_type": "code",
      "execution_count": 1,
      "id": "dafe6cb7-f4e8-4aa1-8368-19c0bf273dac",
      "metadata": {
        "id": "dafe6cb7-f4e8-4aa1-8368-19c0bf273dac"
      },
      "outputs": [],
      "source": [
        "# Para definir los path\n",
        "import os\n",
        "\n",
        "# Define si estamos ejecutando el Notebook en nuestro \n",
        "# ordenador (\"local\") o en Google Colab (\"remote\")\n",
        "RUNNING_ENV = \"remote\"\n",
        "\n",
        "# Path que vamos a usar como base para el resto de paths\n",
        "BASE_PATH = \"./\" if RUNNING_ENV == \"local\" else \"/content/drive/MyDrive/Colab Notebooks/\"\n",
        "\n",
        "# Directorio en el que guardamos los scripts de python que usamos \n",
        "# como libreria propia\n",
        "LIB_PATH = os.path.join(BASE_PATH, \"lib\")\n",
        "\n",
        "# Directorio en el que guardamos los datos de entrenamiento y test\n",
        "DATA_PATH = os.path.join(BASE_PATH, \"data\")\n",
        "\n",
        "# Numero de procesos que queremos usar\n",
        "NUM_WORKERS = 2\n",
        "\n",
        "# Batch size que queremos usar para los dataloaders que usamos\n",
        "DATALOADER_BACH_SIZE = 32"
      ]
    },
    {
      "cell_type": "markdown",
      "id": "a81fd5e8-320b-4e00-be57-4bdf5799dad1",
      "metadata": {
        "id": "a81fd5e8-320b-4e00-be57-4bdf5799dad1"
      },
      "source": [
        "# Autorización si estamos usando Google Drive"
      ]
    },
    {
      "cell_type": "code",
      "execution_count": 2,
      "id": "6fcac799-d53f-4e6d-aaf4-4e7df3ae7422",
      "metadata": {
        "id": "6fcac799-d53f-4e6d-aaf4-4e7df3ae7422",
        "colab": {
          "base_uri": "https://localhost:8080/"
        },
        "outputId": "ac4f7a97-b1e9-4a0d-e07e-4ea991987663"
      },
      "outputs": [
        {
          "output_type": "stream",
          "name": "stdout",
          "text": [
            "Drive already mounted at /content/drive; to attempt to forcibly remount, call drive.mount(\"/content/drive\", force_remount=True).\n"
          ]
        }
      ],
      "source": [
        "if RUNNING_ENV == \"remote\":\n",
        "    from google.colab import drive\n",
        "    drive.mount('/content/drive')"
      ]
    },
    {
      "cell_type": "markdown",
      "id": "638c766e-6f30-46d7-b6d3-97a6b7e30995",
      "metadata": {
        "id": "638c766e-6f30-46d7-b6d3-97a6b7e30995"
      },
      "source": [
        "# Importando los módulos que vamos a usar"
      ]
    },
    {
      "cell_type": "code",
      "execution_count": 3,
      "id": "3aeb81a8-78a0-4e63-aa9d-3c82d24100b5",
      "metadata": {
        "id": "3aeb81a8-78a0-4e63-aa9d-3c82d24100b5"
      },
      "outputs": [],
      "source": [
        "import torch\n",
        "import torch.nn as nn\n",
        "import torch.nn.functional as F\n",
        "import torch.optim as optim\n",
        "\n",
        "import torchvision\n",
        "import torchvision.datasets as datasets\n",
        "import torchvision.transforms as transforms\n",
        "\n",
        "from torch.utils.data import Dataset, DataLoader\n",
        "\n",
        "import matplotlib.pyplot as plt\n",
        "import numpy as np\n",
        "import os\n",
        "from datetime import datetime\n",
        "\n",
        "# Cargamos en el Notebook todos los ficheros .py que definen nuestra propia libreria\n",
        "# Usamos esta libreria para escribir el codigo base necesario para llevar a cabo ciertas\n",
        "# tareas del notebook (como el bucle de entrenamiento) que no tienen interes mostrar\n",
        "# en este notebook\n",
        "!cp -r \"$LIB_PATH\"/* .\n",
        "\n",
        "# Ahora que hemos cargado estos ficheros en el Notebook, importamos lo necesario\n",
        "# de nuestra propia libreria\n",
        "import core\n",
        "import board\n",
        "import filesystem\n",
        "from train_loggers import ClassificationLogger, SilentLogger, TripletLogger\n",
        "from models.resnet import *\n",
        "from visualizations import *\n",
        "from custom_loss import triplet_loss_batch_hard"
      ]
    },
    {
      "cell_type": "markdown",
      "source": [
        "# Funciones comunes que vamos a usar en el notebook"
      ],
      "metadata": {
        "id": "BG5J8TTV2CvZ"
      },
      "id": "BG5J8TTV2CvZ"
    },
    {
      "cell_type": "code",
      "source": [
        "# TODO -- de momento no tenemos nada asi que esto ahora mismo lo podriamos borrar"
      ],
      "metadata": {
        "id": "yTstfi4k2CBu"
      },
      "id": "yTstfi4k2CBu",
      "execution_count": 4,
      "outputs": []
    },
    {
      "cell_type": "markdown",
      "id": "b4cbeab3-125d-44e4-8734-928f8f0c664c",
      "metadata": {
        "id": "b4cbeab3-125d-44e4-8734-928f8f0c664c"
      },
      "source": [
        "# Carga del conjunto de datos"
      ]
    },
    {
      "cell_type": "code",
      "execution_count": 5,
      "id": "faa50ba8-0f5f-420e-bcbc-cfffc165ee44",
      "metadata": {
        "id": "faa50ba8-0f5f-420e-bcbc-cfffc165ee44"
      },
      "outputs": [],
      "source": [
        "# Transformaciones que queremos aplicar al cargar los datos\n",
        "# Ahora solo pasamos las imagenes a tensores, pero podriamos hacer aqui normalizaciones\n",
        "transform = transforms.Compose([\n",
        "    transforms.ToTensor(),\n",
        "    # TODO -- aqui podemos añadir la normaliazcion de datos\n",
        "])\n",
        "\n",
        "# Cargamos el dataset usando torchvision, que ya tiene el conjunto\n",
        "# preparado para descargar\n",
        "train_dataset = torchvision.datasets.FashionMNIST(\n",
        "    root = DATA_PATH,\n",
        "    train = True,\n",
        "    download = True,\n",
        "    transform = transform,\n",
        ")\n",
        "\n",
        "test_dataset = torchvision.datasets.FashionMNIST(\n",
        "    root = DATA_PATH,\n",
        "    train = False,\n",
        "    download = True,\n",
        "    transform = transform,\n",
        ")\n",
        "\n",
        "# Data loaders para acceder a los datos\n",
        "train_loader = torch.utils.data.DataLoader(\n",
        "    train_dataset,\n",
        "    batch_size = DATALOADER_BACH_SIZE,\n",
        "    shuffle = True,\n",
        "    num_workers = NUM_WORKERS,\n",
        "    pin_memory = True,\n",
        ")\n",
        "test_loader = torch.utils.data.DataLoader(\n",
        "  train_dataset,\n",
        "  batch_size = DATALOADER_BACH_SIZE,\n",
        "  shuffle = True,\n",
        "  num_workers = NUM_WORKERS,\n",
        "  pin_memory = True,\n",
        ")"
      ]
    },
    {
      "cell_type": "markdown",
      "source": [
        "# Definiendo las clases con las que vamos a trabajar"
      ],
      "metadata": {
        "id": "Xk77zxIm2SsI"
      },
      "id": "Xk77zxIm2SsI"
    },
    {
      "cell_type": "code",
      "source": [
        "# Clases con las que vamos a trabajar\n",
        "# Esta lista especifica la relacion numero -> nombre de la forma\n",
        "# classes[numero] = nombre\n",
        "classes = (\n",
        "    \"T-shirt/top\",\n",
        "    \"Trouser\",\n",
        "    \"Pullover\",\n",
        "    \"Dress\",\n",
        "    \"Coat\",\n",
        "    \"Sandal\",\n",
        "    \"Shirt\",\n",
        "    \"Sneaker\",\n",
        "    \"Bag\",\n",
        "    \"Ankle boot\",\n",
        ")"
      ],
      "metadata": {
        "id": "fCDY7GM02SBk"
      },
      "id": "fCDY7GM02SBk",
      "execution_count": 6,
      "outputs": []
    },
    {
      "cell_type": "markdown",
      "id": "84d5b0ca-5a5a-4a4b-b0f4-dd6cf021f73d",
      "metadata": {
        "id": "84d5b0ca-5a5a-4a4b-b0f4-dd6cf021f73d",
        "tags": []
      },
      "source": [
        "# Análisis Exploratorio de datos"
      ]
    },
    {
      "cell_type": "markdown",
      "id": "7b3a17a3-c502-41ef-8197-b0c6989e9402",
      "metadata": {
        "id": "7b3a17a3-c502-41ef-8197-b0c6989e9402"
      },
      "source": [
        "Mostramos algunas imágenes con sus clases para asegurar que hemos cargado correctamente las imágenes del conjunto de datos:"
      ]
    },
    {
      "cell_type": "code",
      "execution_count": 7,
      "id": "816b14ed-0a49-44f5-ac5b-16dce9e58091",
      "metadata": {
        "id": "816b14ed-0a49-44f5-ac5b-16dce9e58091",
        "colab": {
          "base_uri": "https://localhost:8080/",
          "height": 1000
        },
        "outputId": "ffddc4f3-1a43-45a4-f834-4b69a4307e7c"
      },
      "outputs": [
        {
          "output_type": "stream",
          "name": "stderr",
          "text": [
            "Traceback (most recent call last):\n",
            "  File \"/usr/lib/python3.7/multiprocessing/queues.py\", line 242, in _feed\n",
            "    send_bytes(obj)\n",
            "  File \"/usr/lib/python3.7/multiprocessing/connection.py\", line 200, in send_bytes\n",
            "    self._send_bytes(m[offset:offset + size])\n",
            "  File \"/usr/lib/python3.7/multiprocessing/connection.py\", line 404, in _send_bytes\n",
            "    self._send(header + buf)\n",
            "  File \"/usr/lib/python3.7/multiprocessing/connection.py\", line 368, in _send\n",
            "    n = write(self._handle, buf)\n",
            "BrokenPipeError: [Errno 32] Broken pipe\n"
          ]
        },
        {
          "output_type": "stream",
          "name": "stdout",
          "text": [
            "La clase obtenida es: Dress\n"
          ]
        },
        {
          "output_type": "display_data",
          "data": {
            "image/png": "[encoded data removed]",
            "text/plain": [
              "<Figure size 432x288 with 1 Axes>"
            ]
          },
          "metadata": {
            "needs_background": "light"
          }
        },
        {
          "output_type": "stream",
          "name": "stdout",
          "text": [
            "La clase obtenida es: Sandal\n"
          ]
        },
        {
          "output_type": "display_data",
          "data": {
            "image/png": "[encoded data removed]",
            "text/plain": [
              "<Figure size 432x288 with 1 Axes>"
            ]
          },
          "metadata": {
            "needs_background": "light"
          }
        },
        {
          "output_type": "stream",
          "name": "stdout",
          "text": [
            "La clase obtenida es: Ankle boot\n"
          ]
        },
        {
          "output_type": "display_data",
          "data": {
            "image/png": "[encoded data removed]",
            "text/plain": [
              "<Figure size 432x288 with 1 Axes>"
            ]
          },
          "metadata": {
            "needs_background": "light"
          }
        },
        {
          "output_type": "stream",
          "name": "stdout",
          "text": [
            "La clase obtenida es: Pullover\n"
          ]
        },
        {
          "output_type": "display_data",
          "data": {
            "image/png": "[encoded data removed]",
            "text/plain": [
              "<Figure size 432x288 with 1 Axes>"
            ]
          },
          "metadata": {
            "needs_background": "light"
          }
        },
        {
          "output_type": "stream",
          "name": "stdout",
          "text": [
            "La clase obtenida es: Sneaker\n"
          ]
        },
        {
          "output_type": "display_data",
          "data": {
            "image/png": "[encoded data removed]",
            "text/plain": [
              "<Figure size 432x288 with 1 Axes>"
            ]
          },
          "metadata": {
            "needs_background": "light"
          }
        }
      ],
      "source": [
        "imgs_to_show = 5\n",
        "\n",
        "for _ in range(imgs_to_show):\n",
        "\n",
        "    # Cargamos un batch de imagenes\n",
        "    images, images_classes = next(iter(train_loader))\n",
        "\n",
        "    # Nos quedamos con la primera imagen del batch\n",
        "    img, img_class = images[0], images_classes[0]\n",
        "\n",
        "    # Mostramos alguna informacion de la imagen\n",
        "    print(f\"La clase obtenida es: {classes[img_class]}\")\n",
        "\n",
        "    # Re-escalamos y mostramos la imagen\n",
        "    img = img.reshape((28, 28))\n",
        "    show_img(img, color_format_range = (-1.0, 1.0))"
      ]
    },
    {
      "cell_type": "markdown",
      "id": "11747bce-2a7e-4c9c-bcc0-d22989a6faf0",
      "metadata": {
        "id": "11747bce-2a7e-4c9c-bcc0-d22989a6faf0"
      },
      "source": [
        "Mostramos ahora unas cuantas imágenes de forma simultánea:"
      ]
    },
    {
      "cell_type": "markdown",
      "id": "0a73b156-19f0-470e-ad06-e140bc65a61c",
      "metadata": {
        "id": "0a73b156-19f0-470e-ad06-e140bc65a61c"
      },
      "source": [
        "Mostramos ahora los tamaños del dataset:"
      ]
    },
    {
      "cell_type": "code",
      "execution_count": 8,
      "id": "f1f3dcc8-0482-446d-a686-e4e7ca9b6afd",
      "metadata": {
        "id": "f1f3dcc8-0482-446d-a686-e4e7ca9b6afd",
        "colab": {
          "base_uri": "https://localhost:8080/"
        },
        "outputId": "346b6a17-0eda-4ab1-84c4-421764d99d35"
      },
      "outputs": [
        {
          "output_type": "stream",
          "name": "stdout",
          "text": [
            "Tenemos 60000 imágenes de entrenamiento\n",
            "Tenemos 10000 imágenes de test\n"
          ]
        }
      ],
      "source": [
        "print(f\"Tenemos {len(train_dataset)} imágenes de entrenamiento\")\n",
        "print(f\"Tenemos {len(test_dataset)} imágenes de test\")"
      ]
    },
    {
      "cell_type": "markdown",
      "id": "905faa72-9a5a-48d9-ae70-405b69ef1c6f",
      "metadata": {
        "id": "905faa72-9a5a-48d9-ae70-405b69ef1c6f"
      },
      "source": [
        "# Definiendo el modelo base\n",
        "\n",
        "- A continuación, definimos el modelo que vamos a usasr como base para nuestra red siamesa:"
      ]
    },
    {
      "cell_type": "code",
      "execution_count": 9,
      "id": "81a157dc-fe12-46d4-9369-84514c80486c",
      "metadata": {
        "id": "81a157dc-fe12-46d4-9369-84514c80486c"
      },
      "outputs": [],
      "source": [
        "# TODO -- lo suyo seria usar un modelo pre-entrenado como ResNet12 como modelo base\n",
        "\n",
        "class LuNet(nn.Module):\n",
        "    \"\"\"\n",
        "    LuNet model adapted to 28x28x1 input images\n",
        "    \n",
        "    Based on the model presented in the paper \"In defense of the triplet loss \n",
        "    for person re-identification\"\n",
        "    \n",
        "    In order to make some experiments with this model\n",
        "    \n",
        "    Original architecture is quite similar to a common ResNet using bottleneck \n",
        "    building blocks with batch normalization. The real work happens in the \n",
        "    loss function and also the way triplets are chosen. So we are going to \n",
        "    stack some building blocks without max-pooling (28x28x1 is small enough)\n",
        "    and apply that loss function and triplet selection policy\n",
        "    \n",
        "    \n",
        "    \"\"\"\n",
        "    \n",
        "    def __init__(self):          \n",
        "        # Init parent class\n",
        "        super().__init__()\n",
        "\n",
        "        # ResNet Blocks\n",
        "        self.block1 = BottleNeckBlock(\n",
        "            input_channels = 1,\n",
        "            output_channels = 8,\n",
        "            kernel_size = 3,\n",
        "            stride = 1,\n",
        "            disable_identity = True,\n",
        "        )\n",
        "        \n",
        "        self.block2 = BottleNeckBlock(\n",
        "            input_channels = 8,\n",
        "            output_channels = 8,\n",
        "            kernel_size = 3,\n",
        "            stride = 1,\n",
        "            disable_identity = False,\n",
        "        )\n",
        "        \n",
        "        self.block3 = BottleNeckBlock(\n",
        "            input_channels = 8,\n",
        "            output_channels = 16,\n",
        "            kernel_size = 3,\n",
        "            stride = 1,\n",
        "            disable_identity = True,\n",
        "        )\n",
        "        \n",
        "        self.block4 = BottleNeckBlock(\n",
        "            input_channels = 16,\n",
        "            output_channels = 16,\n",
        "            kernel_size = 3,\n",
        "            stride = 1,\n",
        "            disable_identity = False,\n",
        "        )\n",
        "        \n",
        "        # Fully connected layers\n",
        "        # We end up with an embedding space of dimension 64\n",
        "        self.fc1 = nn.Linear(12544, 128)\n",
        "        self.bn1 = nn.BatchNorm1d(128)\n",
        "        self.fc2 = nn.Linear(128, 64)\n",
        "    \n",
        "    def forward(self, x: torch.Tensor) -> torch.Tensor:\n",
        "        # ResNet blocks\n",
        "        x = self.block1(x)\n",
        "        x = self.block2(x)\n",
        "        x = self.block3(x)\n",
        "        \n",
        "        # Now fully-connected layers\n",
        "        x = torch.flatten(x, start_dim = 1)\n",
        "        \n",
        "        x = self.fc1(x)\n",
        "        # TODO -- enable this again\n",
        "        #x = self.bn1(x)\n",
        "        x = F.relu(x)        \n",
        "        x = self.fc2(x)\n",
        "        \n",
        "        return x"
      ]
    },
    {
      "cell_type": "markdown",
      "source": [
        "# Generación de triples\n",
        "\n",
        "- Para entrenar la red siamesa, necesitamos dar triples con los que computar el *triplet loss*\n",
        "- Por ello, es necesaria una fase previa de *triplets mining*\n",
        "- En todos los casos, crearemos *Datasets* de *Pytorch* para representar la creación de los triples\n",
        "- Hacemos esto basándonos el la [documentación oficial de Pytorch](https://pytorch.org/tutorials/beginner/data_loading_tutorial.html)"
      ],
      "metadata": {
        "id": "4sVnhIQg31k5"
      },
      "id": "4sVnhIQg31k5"
    },
    {
      "cell_type": "markdown",
      "source": [
        "## Generación de triples aleatorios\n",
        "\n",
        "- Es la forma más sencilla y directa para generar triples\n",
        "- Usaremos esta generación como baseline para más tarde realizar comparaciones"
      ],
      "metadata": {
        "id": "WvUGOBKU6WKG"
      },
      "id": "WvUGOBKU6WKG"
    },
    {
      "cell_type": "code",
      "source": [
        "# TODO -- hay que implementar esto\n",
        "from torch.utils.data import RandomSampler\n",
        "\n",
        "\n",
        "class RandomTriplets(Dataset):\n",
        "    \"\"\"\n",
        "    Dataset en el que los elementos son triples obtenidos de forma aleatoria\n",
        "    \"\"\"\n",
        "\n",
        "    def __init__(self, base_data: Dataset, custom_len: int, transform = None):\n",
        "        self.base_data = base_data\n",
        "        self.custom_len = custom_len\n",
        "        self.transform = transform\n",
        "        self.random_sampler = RandomSampler(self.base_data, replacement=True, num_samples=1, generator=None)\n",
        "\n",
        "    def __len__(self):\n",
        "        \"\"\"\n",
        "        Devolvemos el tamaño del dataset\n",
        "        Como estamos generando triples aleatorios, devolvemos el tamaño definido\n",
        "        por parametro\n",
        "        \"\"\"\n",
        "        return self.custom_len\n",
        "\n",
        "    def __getitem__(self, idx) -> Tuple[np.ndarray, np.ndarray, np.ndarray]:\n",
        "        \"\"\"\n",
        "        Funcion que es llamada cuando se hace dataset[idx]\n",
        "        En vez de devolver una imagen (que es lo comun en esta clase dataset), \n",
        "        devolvemos un triple (anchor, positive, negative) aleatorio\n",
        "        \"\"\"\n",
        "\n",
        "        # Hacemos esto por temas de eficiencia\n",
        "        if torch.is_tensor(idx):\n",
        "            idx = idx.tolist()\n",
        "\n",
        "        # Tomamos una imagen aleatoria que sera el ancla\n",
        "        anchor, anchor_class = self.base_data[next(iter(self.random_sampler))]\n",
        "\n",
        "        # Tomamos una imagen de la misma clase, que sera la positiva\n",
        "        # TODO -- hay que hacer que de algun modo sea de la misma clase\n",
        "        positive, positive_class = self.base_data[next(iter(self.random_sampler))]\n",
        "\n",
        "        # Tomamos una imagen de otra clase, que sera la negativa\n",
        "        # TODO -- hay que hacer que de algun modo sea de una clase distinta\n",
        "        negative, negative_class = self.base_data[next(iter(self.random_sampler))]\n",
        "\n",
        "        # TODO -- borrar este logging porque va a hacer que vaya mas lento\n",
        "        print(f\"La clase anchor es {anchor_class}\")\n",
        "        print(f\"La clase positiva es {positive_class}\")\n",
        "        print(f\"La clase negativa es {negative_class}\")\n",
        "        \n",
        "        # Generamos ahora el triple\n",
        "        triplet = [anchor, positive, negative]\n",
        "\n",
        "        # Aplicamos la transformacion dada al dataset al ejemplo que devolvemos\n",
        "        if self.transform:\n",
        "            triplet = [self.transform(img) for img in triplet]\n",
        "\n",
        "        return triplet\n",
        "\n",
        "\n",
        "random_triplets = RandomTriplets(\n",
        "    base_data = train_dataset,\n",
        "    custom_len = len(train_dataset) * 3,\n",
        "    transform = transform\n",
        ")\n",
        "\n",
        "custom_triplet = random_triplets[2]\n",
        "print(\"Funciona\")"
      ],
      "metadata": {
        "colab": {
          "base_uri": "https://localhost:8080/",
          "height": 415
        },
        "id": "tjNWBh-B3--F",
        "outputId": "364be0d2-f6b5-4385-af70-88eb08601ec1"
      },
      "id": "tjNWBh-B3--F",
      "execution_count": 10,
      "outputs": [
        {
          "output_type": "stream",
          "name": "stdout",
          "text": [
            "La clase anchor es 9\n",
            "La clase positiva es 7\n",
            "La clase negativa es 7\n"
          ]
        },
        {
          "output_type": "error",
          "ename": "TypeError",
          "evalue": "ignored",
          "traceback": [
            "\u001b[0;31m---------------------------------------------------------------------------\u001b[0m",
            "\u001b[0;31mTypeError\u001b[0m                                 Traceback (most recent call last)",
            "\u001b[0;32m<ipython-input-10-c6a3628d03bd>\u001b[0m in \u001b[0;36m<module>\u001b[0;34m()\u001b[0m\n\u001b[1;32m     59\u001b[0m )\n\u001b[1;32m     60\u001b[0m \u001b[0;34m\u001b[0m\u001b[0m\n\u001b[0;32m---> 61\u001b[0;31m \u001b[0mcustom_triplet\u001b[0m \u001b[0;34m=\u001b[0m \u001b[0mrandom_triplets\u001b[0m\u001b[0;34m[\u001b[0m\u001b[0;36m2\u001b[0m\u001b[0;34m]\u001b[0m\u001b[0;34m\u001b[0m\u001b[0;34m\u001b[0m\u001b[0m\n\u001b[0m\u001b[1;32m     62\u001b[0m \u001b[0mprint\u001b[0m\u001b[0;34m(\u001b[0m\u001b[0;34m\"Funciona\"\u001b[0m\u001b[0;34m)\u001b[0m\u001b[0;34m\u001b[0m\u001b[0;34m\u001b[0m\u001b[0m\n",
            "\u001b[0;32m<ipython-input-10-c6a3628d03bd>\u001b[0m in \u001b[0;36m__getitem__\u001b[0;34m(self, idx)\u001b[0m\n\u001b[1;32m     48\u001b[0m         \u001b[0;31m# Aplicamos la transformacion dada al dataset al ejemplo que devolvemos\u001b[0m\u001b[0;34m\u001b[0m\u001b[0;34m\u001b[0m\u001b[0;34m\u001b[0m\u001b[0m\n\u001b[1;32m     49\u001b[0m         \u001b[0;32mif\u001b[0m \u001b[0mself\u001b[0m\u001b[0;34m.\u001b[0m\u001b[0mtransform\u001b[0m\u001b[0;34m:\u001b[0m\u001b[0;34m\u001b[0m\u001b[0;34m\u001b[0m\u001b[0m\n\u001b[0;32m---> 50\u001b[0;31m             \u001b[0mtriplet\u001b[0m \u001b[0;34m=\u001b[0m \u001b[0;34m[\u001b[0m\u001b[0mself\u001b[0m\u001b[0;34m.\u001b[0m\u001b[0mtransform\u001b[0m\u001b[0;34m(\u001b[0m\u001b[0mimg\u001b[0m\u001b[0;34m)\u001b[0m \u001b[0;32mfor\u001b[0m \u001b[0mimg\u001b[0m \u001b[0;32min\u001b[0m \u001b[0mtriplet\u001b[0m\u001b[0;34m]\u001b[0m\u001b[0;34m\u001b[0m\u001b[0;34m\u001b[0m\u001b[0m\n\u001b[0m\u001b[1;32m     51\u001b[0m \u001b[0;34m\u001b[0m\u001b[0m\n\u001b[1;32m     52\u001b[0m         \u001b[0;32mreturn\u001b[0m \u001b[0mtriplet\u001b[0m\u001b[0;34m\u001b[0m\u001b[0;34m\u001b[0m\u001b[0m\n",
            "\u001b[0;32m<ipython-input-10-c6a3628d03bd>\u001b[0m in \u001b[0;36m<listcomp>\u001b[0;34m(.0)\u001b[0m\n\u001b[1;32m     48\u001b[0m         \u001b[0;31m# Aplicamos la transformacion dada al dataset al ejemplo que devolvemos\u001b[0m\u001b[0;34m\u001b[0m\u001b[0;34m\u001b[0m\u001b[0;34m\u001b[0m\u001b[0m\n\u001b[1;32m     49\u001b[0m         \u001b[0;32mif\u001b[0m \u001b[0mself\u001b[0m\u001b[0;34m.\u001b[0m\u001b[0mtransform\u001b[0m\u001b[0;34m:\u001b[0m\u001b[0;34m\u001b[0m\u001b[0;34m\u001b[0m\u001b[0m\n\u001b[0;32m---> 50\u001b[0;31m             \u001b[0mtriplet\u001b[0m \u001b[0;34m=\u001b[0m \u001b[0;34m[\u001b[0m\u001b[0mself\u001b[0m\u001b[0;34m.\u001b[0m\u001b[0mtransform\u001b[0m\u001b[0;34m(\u001b[0m\u001b[0mimg\u001b[0m\u001b[0;34m)\u001b[0m \u001b[0;32mfor\u001b[0m \u001b[0mimg\u001b[0m \u001b[0;32min\u001b[0m \u001b[0mtriplet\u001b[0m\u001b[0;34m]\u001b[0m\u001b[0;34m\u001b[0m\u001b[0;34m\u001b[0m\u001b[0m\n\u001b[0m\u001b[1;32m     51\u001b[0m \u001b[0;34m\u001b[0m\u001b[0m\n\u001b[1;32m     52\u001b[0m         \u001b[0;32mreturn\u001b[0m \u001b[0mtriplet\u001b[0m\u001b[0;34m\u001b[0m\u001b[0;34m\u001b[0m\u001b[0m\n",
            "\u001b[0;32m/usr/local/lib/python3.7/dist-packages/torchvision/transforms/transforms.py\u001b[0m in \u001b[0;36m__call__\u001b[0;34m(self, img)\u001b[0m\n\u001b[1;32m     59\u001b[0m     \u001b[0;32mdef\u001b[0m \u001b[0m__call__\u001b[0m\u001b[0;34m(\u001b[0m\u001b[0mself\u001b[0m\u001b[0;34m,\u001b[0m \u001b[0mimg\u001b[0m\u001b[0;34m)\u001b[0m\u001b[0;34m:\u001b[0m\u001b[0;34m\u001b[0m\u001b[0;34m\u001b[0m\u001b[0m\n\u001b[1;32m     60\u001b[0m         \u001b[0;32mfor\u001b[0m \u001b[0mt\u001b[0m \u001b[0;32min\u001b[0m \u001b[0mself\u001b[0m\u001b[0;34m.\u001b[0m\u001b[0mtransforms\u001b[0m\u001b[0;34m:\u001b[0m\u001b[0;34m\u001b[0m\u001b[0;34m\u001b[0m\u001b[0m\n\u001b[0;32m---> 61\u001b[0;31m             \u001b[0mimg\u001b[0m \u001b[0;34m=\u001b[0m \u001b[0mt\u001b[0m\u001b[0;34m(\u001b[0m\u001b[0mimg\u001b[0m\u001b[0;34m)\u001b[0m\u001b[0;34m\u001b[0m\u001b[0;34m\u001b[0m\u001b[0m\n\u001b[0m\u001b[1;32m     62\u001b[0m         \u001b[0;32mreturn\u001b[0m \u001b[0mimg\u001b[0m\u001b[0;34m\u001b[0m\u001b[0;34m\u001b[0m\u001b[0m\n\u001b[1;32m     63\u001b[0m \u001b[0;34m\u001b[0m\u001b[0m\n",
            "\u001b[0;32m/usr/local/lib/python3.7/dist-packages/torchvision/transforms/transforms.py\u001b[0m in \u001b[0;36m__call__\u001b[0;34m(self, pic)\u001b[0m\n\u001b[1;32m     96\u001b[0m             \u001b[0mTensor\u001b[0m\u001b[0;34m:\u001b[0m \u001b[0mConverted\u001b[0m \u001b[0mimage\u001b[0m\u001b[0;34m.\u001b[0m\u001b[0;34m\u001b[0m\u001b[0;34m\u001b[0m\u001b[0m\n\u001b[1;32m     97\u001b[0m         \"\"\"\n\u001b[0;32m---> 98\u001b[0;31m         \u001b[0;32mreturn\u001b[0m \u001b[0mF\u001b[0m\u001b[0;34m.\u001b[0m\u001b[0mto_tensor\u001b[0m\u001b[0;34m(\u001b[0m\u001b[0mpic\u001b[0m\u001b[0;34m)\u001b[0m\u001b[0;34m\u001b[0m\u001b[0;34m\u001b[0m\u001b[0m\n\u001b[0m\u001b[1;32m     99\u001b[0m \u001b[0;34m\u001b[0m\u001b[0m\n\u001b[1;32m    100\u001b[0m     \u001b[0;32mdef\u001b[0m \u001b[0m__repr__\u001b[0m\u001b[0;34m(\u001b[0m\u001b[0mself\u001b[0m\u001b[0;34m)\u001b[0m\u001b[0;34m:\u001b[0m\u001b[0;34m\u001b[0m\u001b[0;34m\u001b[0m\u001b[0m\n",
            "\u001b[0;32m/usr/local/lib/python3.7/dist-packages/torchvision/transforms/functional.py\u001b[0m in \u001b[0;36mto_tensor\u001b[0;34m(pic)\u001b[0m\n\u001b[1;32m    112\u001b[0m     \"\"\"\n\u001b[1;32m    113\u001b[0m     \u001b[0;32mif\u001b[0m \u001b[0;32mnot\u001b[0m\u001b[0;34m(\u001b[0m\u001b[0mF_pil\u001b[0m\u001b[0;34m.\u001b[0m\u001b[0m_is_pil_image\u001b[0m\u001b[0;34m(\u001b[0m\u001b[0mpic\u001b[0m\u001b[0;34m)\u001b[0m \u001b[0;32mor\u001b[0m \u001b[0m_is_numpy\u001b[0m\u001b[0;34m(\u001b[0m\u001b[0mpic\u001b[0m\u001b[0;34m)\u001b[0m\u001b[0;34m)\u001b[0m\u001b[0;34m:\u001b[0m\u001b[0;34m\u001b[0m\u001b[0;34m\u001b[0m\u001b[0m\n\u001b[0;32m--> 114\u001b[0;31m         \u001b[0;32mraise\u001b[0m \u001b[0mTypeError\u001b[0m\u001b[0;34m(\u001b[0m\u001b[0;34m'pic should be PIL Image or ndarray. Got {}'\u001b[0m\u001b[0;34m.\u001b[0m\u001b[0mformat\u001b[0m\u001b[0;34m(\u001b[0m\u001b[0mtype\u001b[0m\u001b[0;34m(\u001b[0m\u001b[0mpic\u001b[0m\u001b[0;34m)\u001b[0m\u001b[0;34m)\u001b[0m\u001b[0;34m)\u001b[0m\u001b[0;34m\u001b[0m\u001b[0;34m\u001b[0m\u001b[0m\n\u001b[0m\u001b[1;32m    115\u001b[0m \u001b[0;34m\u001b[0m\u001b[0m\n\u001b[1;32m    116\u001b[0m     \u001b[0;32mif\u001b[0m \u001b[0m_is_numpy\u001b[0m\u001b[0;34m(\u001b[0m\u001b[0mpic\u001b[0m\u001b[0;34m)\u001b[0m \u001b[0;32mand\u001b[0m \u001b[0;32mnot\u001b[0m \u001b[0m_is_numpy_image\u001b[0m\u001b[0;34m(\u001b[0m\u001b[0mpic\u001b[0m\u001b[0;34m)\u001b[0m\u001b[0;34m:\u001b[0m\u001b[0;34m\u001b[0m\u001b[0;34m\u001b[0m\u001b[0m\n",
            "\u001b[0;31mTypeError\u001b[0m: pic should be PIL Image or ndarray. Got <class 'torch.Tensor'>"
          ]
        }
      ]
    },
    {
      "cell_type": "markdown",
      "id": "64f272b8-b501-49c2-8aa7-77a7abe85614",
      "metadata": {
        "id": "64f272b8-b501-49c2-8aa7-77a7abe85614"
      },
      "source": [
        "# Entrenamiento del modelo"
      ]
    },
    {
      "cell_type": "code",
      "execution_count": null,
      "id": "c29de921-e5d9-4319-bf01-1f65e651d734",
      "metadata": {
        "id": "c29de921-e5d9-4319-bf01-1f65e651d734"
      },
      "outputs": [],
      "source": [
        "# Set the training parameters\n",
        "parameters = dict()\n",
        "parameters[\"lr\"] = 0.001\n",
        "parameters[\"momentum\"] = 0.9\n",
        "parameters[\"criterion\"] = triplet_loss_batch_hard\n",
        "parameters[\"epochs\"] = 10\n",
        "\n",
        "# We save the model in different paths wether we're running\n",
        "# local or in cloud\n",
        "# TODO -- esto ponerlo en constantes y con buenos nombres\n",
        "save_model_path = None\n",
        "if RUNNING_ENV == \"local\": save_model_path = \"./saved_models\"\n",
        "if RUNNING_ENV == \"remote\": save_model_path = \"drive/MyDrive/ml/Modelos/MNIST-ReID/saved_models\"\n",
        "\n",
        "# Network we are going to train\n",
        "net = LuNet()\n",
        "\n",
        "# Specifying the trainning logger\n",
        "logger = TripletLogger(\n",
        "    iterations = 200 * batch_size, # TODO -- document why multiplying batch_size \n",
        "    loss_func = triplet_loss_batch_hard, \n",
        "    net = net,\n",
        "    training_perc = 0.2, \n",
        "    validation_perc = 1.0\n",
        ")\n",
        "\n",
        "# If running in cloud, show tensorboard inline\n",
        "if RUNNING_ENV == \"remote\":\n",
        "    %load_ext tensorboard\n",
        "    %tensorboard --logdir runs\n",
        "\n",
        "# Train process\n",
        "core.batch_hard_train(\n",
        "    net, \n",
        "    save_model_path, \n",
        "    parameters, \n",
        "    train_loader = train_loader, \n",
        "    validation_loader = test_loader, # TODO -- we are using test dataset as validation dataset \n",
        "    name = \"LuNet\", \n",
        "    logger = logger,\n",
        "    snapshot_iterations = 10_000 \n",
        ")\n",
        "\n",
        "# Close the logger when we are done with the training\n",
        "logger.close()"
      ]
    },
    {
      "cell_type": "markdown",
      "id": "aadebb34-b01d-4a6e-831f-7de00f182789",
      "metadata": {
        "id": "aadebb34-b01d-4a6e-831f-7de00f182789"
      },
      "source": [
        "# Evaluación del modelo\n",
        "\n",
        "- Mostramos algunas métricas fundamentales sobre el conjunto de"
      ]
    },
    {
      "cell_type": "code",
      "execution_count": null,
      "id": "fd1957da-c16c-4f92-a9cd-51e8ba5831f6",
      "metadata": {
        "id": "fd1957da-c16c-4f92-a9cd-51e8ba5831f6"
      },
      "outputs": [],
      "source": [
        "# TODO -- hay que implementar algunas metricas"
      ]
    },
    {
      "cell_type": "markdown",
      "source": [
        "# Adaptación del modelo para usarlo como clasificador\n",
        "\n",
        "- Nuestro modelo genera un *embedding*\n",
        "- Adaptamos el modelo para que, a partir de dicho embedding, podamos usarlo como un clasificador"
      ],
      "metadata": {
        "id": "X_EJAcbN4Sbm"
      },
      "id": "X_EJAcbN4Sbm"
    },
    {
      "cell_type": "code",
      "source": [
        "# TODO -- adaptar el modelo"
      ],
      "metadata": {
        "id": "2_QCYk4d4m_P"
      },
      "id": "2_QCYk4d4m_P",
      "execution_count": null,
      "outputs": []
    },
    {
      "cell_type": "markdown",
      "source": [
        "## Evaluación del clasificador obtenido\n",
        "\n",
        "- Ahora que hemos adaptado el modelo para usarlo como clasificador, podemos consultar ciertas métricas de clasificación"
      ],
      "metadata": {
        "id": "-WVrgOGu4ovB"
      },
      "id": "-WVrgOGu4ovB"
    },
    {
      "cell_type": "code",
      "source": [
        "# TODO -- implementar las métricas de clasificación"
      ],
      "metadata": {
        "id": "pyhpnGXG4vdr"
      },
      "id": "pyhpnGXG4vdr",
      "execution_count": null,
      "outputs": []
    }
  ],
  "metadata": {
    "accelerator": "GPU",
    "colab": {
      "collapsed_sections": [],
      "name": "Notebook.ipynb",
      "provenance": []
    },
    "kernelspec": {
      "display_name": "Python 3 (ipykernel)",
      "language": "python",
      "name": "python3"
    },
    "language_info": {
      "codemirror_mode": {
        "name": "ipython",
        "version": 3
      },
      "file_extension": ".py",
      "mimetype": "text/x-python",
      "name": "python",
      "nbconvert_exporter": "python",
      "pygments_lexer": "ipython3",
      "version": "3.10.1"
    }
  },
  "nbformat": 4,
  "nbformat_minor": 5
}