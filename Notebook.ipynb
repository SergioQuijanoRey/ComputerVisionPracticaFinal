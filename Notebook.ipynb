{
 "cells": [
  {
   "cell_type": "markdown",
   "id": "58b07228",
   "metadata": {
    "id": "23ef89e1"
   },
   "source": [
    "# Parámetros globales del *Notebook*"
   ]
  },
  {
   "cell_type": "code",
   "execution_count": 1,
   "id": "f735abd1",
   "metadata": {
    "id": "c8cc3fb4"
   },
   "outputs": [],
   "source": [
    "# Para definir los path\n",
    "import os\n",
    "\n",
    "# Define si estamos ejecutando el Notebook en nuestro \n",
    "# ordenador (\"local\") o en Google Colab (\"remote\")\n",
    "RUNNING_ENV = \"local\"\n",
    "\n",
    "# Path que vamos a usar como base para el resto de paths\n",
    "BASE_PATH = \"./\" if RUNNING_ENV == \"local\" else \"/content/drive/MyDrive/Colab Notebooks/\"\n",
    "\n",
    "# Directorio en el que guardamos los scripts de python que usamos \n",
    "# como libreria propia\n",
    "LIB_PATH = os.path.join(BASE_PATH, \"lib\")\n",
    "\n",
    "# Directorio en el que guardamos los datos de entrenamiento y test\n",
    "DATA_PATH = os.path.join(BASE_PATH, \"data\")\n",
    "\n",
    "# Numero de procesos que queremos usar\n",
    "NUM_WORKERS = 2\n",
    "\n",
    "# Batch size que queremos usar para entrenamiento offline\n",
    "DATALOADER_BACH_SIZE = 32\n",
    "\n",
    "# Bath size que queremos usar para entrenamiento online\n",
    "ONLINE_BATCH_SIZE = 2**10\n",
    "\n",
    "# Tamaño del conjunto de triples aleatorios\n",
    "# Tiene que ser un multiplo de DATALOADER_BACH_SIZE para que\n",
    "# la red tome correctamente los batches que espera\n",
    "RANDOM_TRIPLETS_DATA_SIZE = DATALOADER_BACH_SIZE * 15\n",
    "\n",
    "# Numero de epocas para las que queremos entrenar el modelo de triples aleatorios\n",
    "TRAINING_EPOCHS_RANDOM = 10\n",
    "\n",
    "# Learning rate para los triples aleatorios\n",
    "RANDOM_TRIPLET_LEARNING_RATE = 0.001\n",
    " \n",
    "# Numero de epocas por las que queremos entrenar el modelo de triples dificiles online\n",
    "TRAINING_EPOCHS = 10 \n",
    "\n",
    "# Numero de epocas que usamos en k-fold Cross Validation para \n",
    "# hacer la exploracion de los parametros\n",
    "HYPERPARAMETER_TUNING_EPOCHS = 7\n",
    "\n",
    "# Numero de folds que usamos en k-fold Cross Validation para el hyperparameter tuning\n",
    "NUMBER_OF_FOLDS = 4\n",
    "\n",
    "# Margen para la funcion de perdida\n",
    "MARGIN = 0.001\n",
    "\n",
    "# Dimension del embedding que calculamos\n",
    "EMBEDDING_DIMENSION = 2\n",
    "\n",
    "# Learning rate para el entrenamiento con triples dificiles online\n",
    "ONLINE_LEARNING_RATE = 0.01\n",
    "\n",
    "# Numero de vecinos a usar en la adaptacion a clasificador\n",
    "NUMBER_NEIGHBOURS = 3\n",
    "\n",
    "# Semilla aleatoria para aquellas partes en las que fijamos el estado aleatorio\n",
    "RANDOM_SEED = 123456789\n",
    "\n",
    "# Controla si queremos evitar toda la parte del entrenamiento\n",
    "# con triples aleatorios\n",
    "# TODO -- antes de entregar poner a False\n",
    "SKIP_RANDOM_TRIPLETS_TRAINING = True\n",
    "\n",
    "# Controla si queremos entrenar el modelo y usarlo o \n",
    "# no entrenar nada y cargar el modelo entrenado de disco\n",
    "# Cuando es False, entrenamos y ademas actualizamos el modelo \n",
    "# en disco\n",
    "# TODO -- poner esto a False\n",
    "USE_CACHED_MODEL = False\n",
    "MODEL_CACHE_FOLDER = os.path.join(BASE_PATH, \"cached_models\")\n",
    "\n",
    "# Controla si queremos saltarnos o no el hyperparameter \n",
    "# tuning para el entrenamiento online \n",
    "SKIP_HYPERPARAMTER_TUNING = True\n",
    "\n",
    "# Margen para los experimentos con un modelo mas ligero\n",
    "LIGHT_MARGIN = 1e-5"
   ]
  },
  {
   "cell_type": "markdown",
   "id": "01a1a0d0",
   "metadata": {
    "id": "c155001b"
   },
   "source": [
    "# Autorización si estamos usando Google Drive"
   ]
  },
  {
   "cell_type": "code",
   "execution_count": 2,
   "id": "b1264a2a",
   "metadata": {
    "colab": {
     "base_uri": "https://localhost:8080/"
    },
    "id": "f6784bd8",
    "outputId": "1961276a-d44c-470f-d4a3-aa6fb9d1cb4a"
   },
   "outputs": [],
   "source": [
    "if RUNNING_ENV == \"remote\":\n",
    "    from google.colab import drive\n",
    "    drive.mount('/content/drive')"
   ]
  },
  {
   "cell_type": "markdown",
   "id": "d1327dec",
   "metadata": {
    "id": "67d9d57d"
   },
   "source": [
    "# Importando los módulos que vamos a usar"
   ]
  },
  {
   "cell_type": "code",
   "execution_count": 67,
   "id": "fc75086e",
   "metadata": {
    "id": "d2c35e87"
   },
   "outputs": [],
   "source": [
    "import torch\n",
    "import torch.nn as nn\n",
    "import torch.nn.functional as F\n",
    "import torch.optim as optim\n",
    "\n",
    "\n",
    "import torchvision\n",
    "import torchvision.datasets as datasets\n",
    "\n",
    "# Para poder usar ResNet18 preentrenado\n",
    "import torchvision.models as models \n",
    "import torchvision.transforms as transforms\n",
    "\n",
    "from torch.utils.data import Dataset, DataLoader\n",
    "\n",
    "import matplotlib.pyplot as plt\n",
    "import numpy as np\n",
    "import os\n",
    "from datetime import datetime\n",
    "from pprint import pprint\n",
    "import gc\n",
    "import functools\n",
    "import math\n",
    "import seaborn as sns\n",
    "\n",
    "# Todas las piezas concretas que usamos de sklearn\n",
    "from sklearn.metrics import roc_auc_score, accuracy_score, silhouette_score\n",
    "from sklearn.model_selection import ShuffleSplit\n",
    "\n",
    "# Cargamos en el Notebook todos los ficheros .py que definen nuestra propia libreria\n",
    "# Usamos esta libreria para escribir el codigo base necesario para llevar a cabo ciertas\n",
    "# tareas del notebook (como el bucle de entrenamiento) que no tienen interes mostrar\n",
    "# en este notebook\n",
    "!cp -r \"$LIB_PATH\"/* .\n",
    "\n",
    "# Ahora que hemos cargado estos ficheros en el Notebook, importamos lo necesario\n",
    "# de nuestra propia libreria\n",
    "import core\n",
    "import time\n",
    "import copy\n",
    "import board\n",
    "import filesystem\n",
    "import metrics\n",
    "from train_loggers import ClassificationLogger, SilentLogger, TripletLoggerOffline, TripletLoggerOnline, TrainLogger\n",
    "from models.resnet import *\n",
    "from visualizations import *\n",
    "from custom_loss import triplet_loss_batch_hard\n",
    "from tqdm.notebook import tqdm\n",
    "from core import train_model_offline, train_model_online\n",
    "\n",
    "from sklearn.neighbors import KNeighborsClassifier"
   ]
  },
  {
   "cell_type": "markdown",
   "id": "a1e330fb",
   "metadata": {
    "id": "97c7e921"
   },
   "source": [
    "# Funciones comunes que vamos a usar en el notebook"
   ]
  },
  {
   "cell_type": "code",
   "execution_count": 4,
   "id": "8eb846cd",
   "metadata": {
    "id": "08762464"
   },
   "outputs": [],
   "source": [
    "def show_learning_curve(training_history: dict):\n",
    "    # Tomamos las dos funciones de perdida\n",
    "    loss = training_history['loss']\n",
    "    val_loss = training_history['val_loss']\n",
    "\n",
    "    # Pasamos los elementos a cpu, que es con lo que trabaja\n",
    "    # matplotlib\n",
    "    loss = [loss_el.cpu() for loss_el in loss]\n",
    "    val_loss = [val_loss_el.cpu() for val_loss_el in val_loss]\n",
    "    \n",
    "    # Mostramos las graficas\n",
    "    plt.plot(loss)\n",
    "    plt.plot(val_loss)\n",
    "    plt.legend(['Training loss', 'Validation loss'])\n",
    "    plt.show()\n",
    "    \n",
    "def try_to_clean_memory(): \n",
    "    torch.cuda.empty_cache() \n",
    "    gc.collect()"
   ]
  },
  {
   "cell_type": "markdown",
   "id": "2c1847bb",
   "metadata": {
    "id": "2eea5f6b"
   },
   "source": [
    "# Carga del conjunto de datos\n",
    "\n",
    "- Cargamos los datos de entrenamiento y test\n",
    "- Además, separamos train en train y validación"
   ]
  },
  {
   "cell_type": "code",
   "execution_count": 5,
   "id": "140a184c",
   "metadata": {
    "id": "452699e8"
   },
   "outputs": [],
   "source": [
    "# Transformaciones que queremos aplicar al cargar los datos\n",
    "# Ahora solo pasamos las imagenes a tensores, pero podriamos hacer aqui normalizaciones\n",
    "transform = transforms.Compose([\n",
    "    transforms.ToTensor(),\n",
    "    # TODO -- aqui podemos añadir la normaliazcion de datos\n",
    "])\n",
    "\n",
    "# Cargamos el dataset usando torchvision, que ya tiene el conjunto\n",
    "# preparado para descargar\n",
    "train_dataset = torchvision.datasets.FashionMNIST(\n",
    "    root = DATA_PATH,\n",
    "    train = True,\n",
    "    download = True,\n",
    "    transform = transform,\n",
    ")\n",
    "\n",
    "test_dataset = torchvision.datasets.FashionMNIST(\n",
    "    root = DATA_PATH,\n",
    "    train = False,\n",
    "    download = True,\n",
    "    transform = transform,\n",
    ")\n",
    "\n",
    "# Separamos train en train y validacion\n",
    "train_dataset, validation_dataset = core.split_train_test(train_dataset, 0.8)\n",
    "\n",
    "# Data loaders para acceder a los datos\n",
    "train_loader = torch.utils.data.DataLoader(\n",
    "    train_dataset,\n",
    "    batch_size = DATALOADER_BACH_SIZE,\n",
    "    shuffle = True,\n",
    "    num_workers = NUM_WORKERS,\n",
    "    pin_memory = True,\n",
    ")\n",
    "\n",
    "validation_loader = torch.utils.data.DataLoader(\n",
    "    validation_dataset,\n",
    "    batch_size = DATALOADER_BACH_SIZE,\n",
    "    shuffle = True,\n",
    "    num_workers = NUM_WORKERS,\n",
    "    pin_memory = True,\n",
    ")\n",
    "\n",
    "test_loader = torch.utils.data.DataLoader(\n",
    "  train_dataset,\n",
    "  batch_size = DATALOADER_BACH_SIZE,\n",
    "  shuffle = True,\n",
    "  num_workers = NUM_WORKERS,\n",
    "  pin_memory = True,\n",
    ")"
   ]
  },
  {
   "cell_type": "markdown",
   "id": "12108031",
   "metadata": {
    "id": "5c057c3d"
   },
   "source": [
    "# Definiendo las clases con las que vamos a trabajar"
   ]
  },
  {
   "cell_type": "code",
   "execution_count": 6,
   "id": "181e467b",
   "metadata": {
    "id": "b0de0753"
   },
   "outputs": [],
   "source": [
    "# Clases con las que vamos a trabajar\n",
    "# Esta lista especifica la relacion numero -> nombre de la forma\n",
    "# classes[numero] = nombre\n",
    "classes = (\n",
    "    \"T-shirt/top\",\n",
    "    \"Trouser\",\n",
    "    \"Pullover\",\n",
    "    \"Dress\",\n",
    "    \"Coat\",\n",
    "    \"Sandal\",\n",
    "    \"Shirt\",\n",
    "    \"Sneaker\",\n",
    "    \"Bag\",\n",
    "    \"Ankle boot\",\n",
    ")"
   ]
  },
  {
   "cell_type": "markdown",
   "id": "e44717f5",
   "metadata": {
    "id": "9d74819e"
   },
   "source": [
    "# Análisis Exploratorio de datos"
   ]
  },
  {
   "cell_type": "markdown",
   "id": "88baf997",
   "metadata": {
    "id": "73ebca17"
   },
   "source": [
    "Mostramos algunas imágenes con sus clases para asegurar que hemos cargado correctamente las imágenes del conjunto de datos:"
   ]
  },
  {
   "cell_type": "code",
   "execution_count": 7,
   "id": "ebc478f5",
   "metadata": {
    "colab": {
     "base_uri": "https://localhost:8080/",
     "height": 1000
    },
    "id": "6913658d",
    "outputId": "025cb594-939f-4b91-e5f2-89d6efa34e0d"
   },
   "outputs": [
    {
     "name": "stdout",
     "output_type": "stream",
     "text": [
      "La clase obtenida es: Coat\n"
     ]
    },
    {
     "data": {
      "image/png": "[encoded data removed]",
      "text/plain": [
       "<Figure size 432x288 with 1 Axes>"
      ]
     },
     "metadata": {
      "needs_background": "light"
     },
     "output_type": "display_data"
    },
    {
     "name": "stdout",
     "output_type": "stream",
     "text": [
      "La clase obtenida es: Ankle boot\n"
     ]
    },
    {
     "data": {
      "image/png": "[encoded data removed]",
      "text/plain": [
       "<Figure size 432x288 with 1 Axes>"
      ]
     },
     "metadata": {
      "needs_background": "light"
     },
     "output_type": "display_data"
    },
    {
     "name": "stdout",
     "output_type": "stream",
     "text": [
      "La clase obtenida es: Coat\n"
     ]
    },
    {
     "data": {
      "image/png": "[encoded data removed]",
      "text/plain": [
       "<Figure size 432x288 with 1 Axes>"
      ]
     },
     "metadata": {
      "needs_background": "light"
     },
     "output_type": "display_data"
    },
    {
     "name": "stdout",
     "output_type": "stream",
     "text": [
      "La clase obtenida es: Bag\n"
     ]
    },
    {
     "data": {
      "image/png": "[encoded data removed]",
      "text/plain": [
       "<Figure size 432x288 with 1 Axes>"
      ]
     },
     "metadata": {
      "needs_background": "light"
     },
     "output_type": "display_data"
    },
    {
     "name": "stdout",
     "output_type": "stream",
     "text": [
      "La clase obtenida es: Shirt\n"
     ]
    },
    {
     "data": {
      "image/png": "[encoded data removed]",
      "text/plain": [
       "<Figure size 432x288 with 1 Axes>"
      ]
     },
     "metadata": {
      "needs_background": "light"
     },
     "output_type": "display_data"
    }
   ],
   "source": [
    "imgs_to_show = 5\n",
    "\n",
    "for _ in range(imgs_to_show):\n",
    "\n",
    "    # Cargamos un batch de imagenes\n",
    "    images, images_classes = next(iter(train_loader))\n",
    "\n",
    "    # Nos quedamos con la primera imagen del batch\n",
    "    img, img_class = images[0], images_classes[0]\n",
    "\n",
    "    # Mostramos alguna informacion de la imagen\n",
    "    print(f\"La clase obtenida es: {classes[img_class]}\")\n",
    "\n",
    "    # Re-escalamos y mostramos la imagen\n",
    "    img = img.reshape((28, 28))\n",
    "    show_img(img, color_format_range = (-1.0, 1.0))"
   ]
  },
  {
   "cell_type": "markdown",
   "id": "076aaf87",
   "metadata": {
    "id": "64b64e5c"
   },
   "source": [
    "Mostramos ahora unas cuantas imágenes de forma simultánea:"
   ]
  },
  {
   "cell_type": "markdown",
   "id": "dfcc5d89",
   "metadata": {
    "id": "983f7e35"
   },
   "source": [
    "Mostramos ahora los tamaños del dataset:"
   ]
  },
  {
   "cell_type": "code",
   "execution_count": 8,
   "id": "b6a35e9b",
   "metadata": {
    "colab": {
     "base_uri": "https://localhost:8080/"
    },
    "id": "762ead5e",
    "outputId": "e56dc61d-e32a-4ab4-a276-8756c2343bde"
   },
   "outputs": [
    {
     "name": "stdout",
     "output_type": "stream",
     "text": [
      "Tenemos 48000 imágenes de entrenamiento\n",
      "Tenemos 10000 imágenes de test\n"
     ]
    }
   ],
   "source": [
    "print(f\"Tenemos {len(train_dataset)} imágenes de entrenamiento\")\n",
    "print(f\"Tenemos {len(test_dataset)} imágenes de test\")"
   ]
  },
  {
   "cell_type": "markdown",
   "id": "62ef8391",
   "metadata": {
    "id": "4c4ab9cd"
   },
   "source": [
    "# Definiendo el modelo base\n",
    "\n",
    "- A continuación, definimos el modelo que vamos a usasr como base para nuestra red siamesa\n",
    "- Usaremos el modelo pre-entrenado ResNet18, pre-entrenado en ImageNet"
   ]
  },
  {
   "cell_type": "code",
   "execution_count": 9,
   "id": "0a9336d3",
   "metadata": {
    "id": "8d3a00ed"
   },
   "outputs": [],
   "source": [
    "class ResNet18(torch.nn.Module):\n",
    "    def __init__(self, embedding_dimension: int):\n",
    "        \n",
    "        super(ResNet18, self).__init__()\n",
    "\n",
    "        # Dimension del embedding que la red va a calcular\n",
    "        self.embedding_dimension = embedding_dimension\n",
    "        \n",
    "        # Tomamos el modelo pre-entrenado ResNet18\n",
    "        self.pretrained = models.resnet18(pretrained=True)\n",
    "        \n",
    "        # Cambiamos la primera convolucion para que en vez\n",
    "        # de tres canales acepte un canal para las imagenes\n",
    "        # de entrada\n",
    "        self.pretrained.conv1 = nn.Conv2d(in_channels = 1, out_channels = 64, kernel_size=7, stride=2, padding=3, bias=False)\n",
    "\n",
    "        # Cambiamos la ultima capa fc Linear(in_features=512, out_features=1000, bias=True)\n",
    "        # para calcular un embedding de dimension mucho menor, especificada por parameatro\n",
    "        # TODO -- comentar en la memoria el cambio de ERROR que hacer esto nos ha supuesto\n",
    "        self.pretrained.fc = nn.Linear(in_features=512, out_features=self.embedding_dimension, bias=True)\n",
    "        \n",
    "        # Por defecto siempre realizamos la permutacion del tensor de entrada\n",
    "        self.should_permute = True\n",
    "\n",
    "    def forward(self, x: torch.Tensor) -> torch.Tensor:\n",
    "\n",
    "        # Tenemos como entrada tensores (1, DATALOADER_BACH_SIZE, 28, 28) y \n",
    "        # queremos tensores (DATALOADER_BACH_SIZE, 1, 28, 28) para poder trabajar\n",
    "        # con la red pre-entrenada\n",
    "        # Usamos permute en vez de reshape porque queremos que tambien funcione al\n",
    "        # realizar inferencia con distintos tamaños de minibatch (ie. 1)\n",
    "        if self.should_permute is True:\n",
    "            x = torch.permute(x, (1, 0, 2, 3))\n",
    "\n",
    "        # Usamos directamente la red pre-entrenada para hacer el forward\n",
    "        x = self.pretrained.forward(x)\n",
    "        \n",
    "        return x\n",
    "    \n",
    "    def set_permute(self, should_permute: bool):\n",
    "        self.should_permute = should_permute\n"
   ]
  },
  {
   "cell_type": "markdown",
   "id": "c5029063",
   "metadata": {
    "id": "40bdcf53"
   },
   "source": [
    "# Generación de triples\n",
    "\n",
    "- Para entrenar la red siamesa, necesitamos dar triples con los que computar el *triplet loss*\n",
    "- Por ello, es necesaria una fase previa de *triplets mining*\n",
    "- En todos los casos, crearemos *Datasets* de *Pytorch* para representar la creación de los triples\n",
    "- Hacemos esto basándonos el la [documentación oficial de Pytorch](https://pytorch.org/tutorials/beginner/data_loading_tutorial.html)"
   ]
  },
  {
   "cell_type": "markdown",
   "id": "a772b2e2",
   "metadata": {
    "id": "142db1bf"
   },
   "source": [
    "## Generación de triples aleatorios\n",
    "\n",
    "- Es la forma más sencilla y directa para generar triples\n",
    "- Usaremos esta generación como baseline para más tarde realizar comparaciones"
   ]
  },
  {
   "cell_type": "code",
   "execution_count": 10,
   "id": "59f54f66",
   "metadata": {
    "id": "ef0dbb9f"
   },
   "outputs": [],
   "source": [
    "from torch.utils.data import RandomSampler\n",
    "\n",
    "class RandomTriplets(Dataset):\n",
    "    \"\"\"\n",
    "    Dataset en el que los elementos son triples obtenidos de forma aleatoria\n",
    "    \"\"\"\n",
    "\n",
    "    def __init__(self, base_data: Dataset, custom_len: int, transform = None):\n",
    "        self.base_data = base_data\n",
    "        self.custom_len = custom_len\n",
    "        self.transform = transform\n",
    "        self.random_sampler = RandomSampler(self.base_data, replacement=True, num_samples=1, generator=None)\n",
    "        \n",
    "        # Por motivos de eficiencia, pre-computamos una lista de listas, de forma\n",
    "        # que tengamos disponibles las listas con las posiciones de cada clase por\n",
    "        # separado.\n",
    "        self.posiciones_clases = self.__precompute_list_of_classes()\n",
    "\n",
    "    def __len__(self):\n",
    "        \"\"\"\n",
    "        Devolvemos el tamaño del dataset\n",
    "        Como estamos generando triples aleatorios, devolvemos el tamaño definido\n",
    "        por parametro\n",
    "        \"\"\"\n",
    "        return self.custom_len\n",
    "\n",
    "    def __getitem__(self, idx) -> Tuple[np.ndarray, np.ndarray, np.ndarray]:\n",
    "        \"\"\"\n",
    "        Funcion que es llamada cuando se hace dataset[idx]\n",
    "        En vez de devolver una imagen (que es lo comun en esta clase dataset), \n",
    "        devolvemos un triple (anchor, positive, negative) aleatorio\n",
    "        \"\"\"\n",
    "\n",
    "        # Hacemos esto por temas de eficiencia\n",
    "        if torch.is_tensor(idx):\n",
    "            idx = idx.tolist()\n",
    "\n",
    "        # Tomamos una imagen aleatoria que sera el ancla\n",
    "        anchor, anchor_class = self.base_data[next(iter(self.random_sampler))]\n",
    "\n",
    "        # Tomamos una imagen de la misma clase, que sera la positiva, de forma aleatoria\n",
    "        random_index = np.random.choice(self.posiciones_clases[anchor_class])\n",
    "        positive, positive_class = self.base_data[random_index]\n",
    "\n",
    "        # Tomamos una imagen de otra clase, que sera la negativa\n",
    "        # Empiezo tomando una clase que no sea la del anchor\n",
    "        posible_classes = list(range(10))\n",
    "        posible_classes.remove(anchor_class)\n",
    "        negative_class = np.random.choice(posible_classes)\n",
    "\n",
    "        # Ahora tomamos un indice aleatorio de esta clase negativa\n",
    "        random_index = np.random.choice(self.posiciones_clases[negative_class])\n",
    "        negative, negative_class = self.base_data[random_index]\n",
    "        \n",
    "        # Generamos ahora el triple\n",
    "        triplet = [anchor, positive, negative]\n",
    "\n",
    "        # Aplicamos la transformacion dada al dataset al ejemplo que devolvemos\n",
    "        if self.transform:\n",
    "            triplet = [self.transform(np.array(img)) for img in triplet]\n",
    "\n",
    "        return triplet\n",
    "\n",
    "    def __precompute_list_of_classes(self) -> List[List[int]]:\n",
    "        \"\"\"\n",
    "        Calcula la lista con las listas de posiciones de cada clase por separado\n",
    "        \"\"\"\n",
    "        # Inicializamos la lista de listas\n",
    "        posiciones_clases = [[] for _ in range(10)]\n",
    "\n",
    "        # Recorremos el dataset y colocamos los indices donde corresponde\n",
    "        for idx, element in enumerate(self.base_data):\n",
    "            _, img_class = element\n",
    "            posiciones_clases[img_class].append(idx)\n",
    "\n",
    "        return posiciones_clases\n",
    "\n",
    "    \n",
    "class CustomReshape(object):\n",
    "    \"\"\"Pasamos la imagen de (28, 1, 28) a (28, 28)\"\"\"\n",
    "\n",
    "    def __call__(self, image):\n",
    "        image = image.reshape(28, 28)\n",
    "        return image"
   ]
  },
  {
   "cell_type": "code",
   "execution_count": 11,
   "id": "2b4cbf68",
   "metadata": {
    "id": "hWmTfGGx-0mq"
   },
   "outputs": [],
   "source": [
    "# Controlamos si queremos ejecutar esta seccion o no \n",
    "if SKIP_RANDOM_TRIPLETS_TRAINING is False:\n",
    "   \n",
    "    # Antes de modificar la base de datos para convertirla a triples\n",
    "    # la guardamos, porque mas adelante nos hara falta\n",
    "    old_train_dataset = train_dataset\n",
    "    old_test_dataset = test_dataset\n",
    "\n",
    "    # Necesitamos hacer reshape de las imagenes para que\n",
    "    # sean (28, 28) y no (28, 1, 28)\n",
    "    transform = transforms.Compose([\n",
    "        transforms.ToTensor(),\n",
    "\n",
    "        # Hacemos reshape de las imagenes para\n",
    "        # que sean tensores (28, 28)\n",
    "        CustomReshape(),\n",
    "    ])\n",
    "\n",
    "    # Generamos los triples aleatorios para training\n",
    "    random_triplets_train = RandomTriplets(\n",
    "        base_data = train_dataset,\n",
    "        custom_len = RANDOM_TRIPLETS_DATA_SIZE,\n",
    "        transform = transform,\n",
    "    )\n",
    "\n",
    "    train_loader = torch.utils.data.DataLoader(\n",
    "        random_triplets_train,\n",
    "        batch_size = DATALOADER_BACH_SIZE,\n",
    "        shuffle = True,\n",
    "        num_workers = NUM_WORKERS,\n",
    "        pin_memory = True,\n",
    "    )\n",
    "\n",
    "    # Generamos los triples aleatorios para validacion\n",
    "    random_triplets_validation = RandomTriplets(\n",
    "        base_data = validation_dataset,\n",
    "        custom_len = RANDOM_TRIPLETS_DATA_SIZE,\n",
    "        transform = transform,\n",
    "    )\n",
    "\n",
    "    validation_loader = torch.utils.data.DataLoader(\n",
    "        random_triplets_validation,\n",
    "        batch_size = DATALOADER_BACH_SIZE,\n",
    "        shuffle = True,\n",
    "        num_workers = NUM_WORKERS,\n",
    "        pin_memory = True,\n",
    "    )\n",
    "\n",
    "    # Generamos los triples aleatorios para test\n",
    "    random_triplets_test = RandomTriplets(\n",
    "        base_data = test_dataset,\n",
    "        custom_len = RANDOM_TRIPLETS_DATA_SIZE,\n",
    "        transform = transform,\n",
    "    )\n",
    "\n",
    "    test_loader = torch.utils.data.DataLoader(\n",
    "        random_triplets_test,\n",
    "        batch_size = DATALOADER_BACH_SIZE,\n",
    "        shuffle = True,\n",
    "        num_workers = NUM_WORKERS,\n",
    "        pin_memory = True,\n",
    "    )\n",
    "\n",
    "    # Visualizamos algunos triples aleatorios para comprobar el funcionamiento\n",
    "    custom_triplet = random_triplets_train[2]\n",
    "    for i in custom_triplet :\n",
    "        show_img(i, color_format_range = (-1.0, 1.0))\n"
   ]
  },
  {
   "cell_type": "markdown",
   "id": "5ad55b47",
   "metadata": {
    "id": "ycZFfW-s-0mr"
   },
   "source": [
    "# Definición de la función de pérdida"
   ]
  },
  {
   "cell_type": "code",
   "execution_count": 12,
   "id": "0dfaf45e",
   "metadata": {
    "id": "EiD54Iia-0ms"
   },
   "outputs": [],
   "source": [
    "class TripletLoss(nn.Module):\n",
    "    def __init__(self, margin=1.0):\n",
    "        super(TripletLoss, self).__init__()\n",
    "        self.margin = margin\n",
    "\n",
    "    def forward(self, anchor: torch.Tensor, positive: torch.Tensor, negative: torch.Tensor) -> torch.Tensor:       \n",
    "       \n",
    "        distance_positive = self.euclidean_distance(anchor, positive)\n",
    "        distance_negative = self.euclidean_distance(anchor, negative)\n",
    "\n",
    "        # Usamos Relu para que el error sea cero cuando la resta de las distancias\n",
    "        # este por debajo del margen. Si esta por encima del margen, devolvemos la\n",
    "        # identidad de dicho error. Es decir, aplicamos Relu a la formula que \n",
    "        # tenemos debajo\n",
    "        loss = torch.relu(distance_positive - distance_negative + self.margin)\n",
    "\n",
    "        return loss\n",
    "    \n",
    "    def euclidean_distance(self, first: torch.Tensor, second: torch.Tensor) -> float:\n",
    "        return ((first - second) * (first - second)).sum()\n",
    "    \n",
    "class TripletLossCustom(nn.Module):\n",
    "    def __init__(self, margin=1.0):\n",
    "        super(TripletLossCustom, self).__init__()\n",
    "        self.margin = margin\n",
    "        self.base_loss = TripletLoss(self.margin)\n",
    "    \n",
    "    def forward(self, batch: torch.Tensor) -> torch.Tensor:\n",
    "        losses = torch.tensor(\n",
    "            [self.base_loss(current[0], current[1], current[2]) for current in batch], \n",
    "            requires_grad=True\n",
    "        )\n",
    "        return losses.mean()"
   ]
  },
  {
   "cell_type": "markdown",
   "id": "58b0c7d0",
   "metadata": {
    "id": "4a17b1e1"
   },
   "source": [
    "# Entrenamiento del modelo"
   ]
  },
  {
   "cell_type": "code",
   "execution_count": 13,
   "id": "569ed64d",
   "metadata": {
    "colab": {
     "base_uri": "https://localhost:8080/",
     "height": 1000,
     "referenced_widgets": [
      "8e471566377940048121bdc90fc36542",
      "59fa372102af437e872ddc755317ace3",
      "b94777a9b73741bb962de704abfd987d",
      "7900469f93e348afaf06ec46c267aafe",
      "3506c41fb23a49ed8aff66752a0f61cd",
      "391d1f521ed24c1683d775f16acef309",
      "fb5e31a7b6384ab7abd4b5e4842c19ee",
      "aee3520261b2424eba7b8db137c96917",
      "514735748d684258804fb973fbc190f4",
      "f1a01ff42bbc47dfbe9eadf5c6219f27",
      "6872efe971994a3db5627dd52ef129b8"
     ]
    },
    "id": "NGGBakyx-0mt",
    "outputId": "fc0ab069-81f2-473e-d238-fe9a8f77aebf"
   },
   "outputs": [
    {
     "name": "stdout",
     "output_type": "stream",
     "text": [
      "ResNet18(\n",
      "  (pretrained): ResNet(\n",
      "    (conv1): Conv2d(1, 64, kernel_size=(7, 7), stride=(2, 2), padding=(3, 3), bias=False)\n",
      "    (bn1): BatchNorm2d(64, eps=1e-05, momentum=0.1, affine=True, track_running_stats=True)\n",
      "    (relu): ReLU(inplace=True)\n",
      "    (maxpool): MaxPool2d(kernel_size=3, stride=2, padding=1, dilation=1, ceil_mode=False)\n",
      "    (layer1): Sequential(\n",
      "      (0): BasicBlock(\n",
      "        (conv1): Conv2d(64, 64, kernel_size=(3, 3), stride=(1, 1), padding=(1, 1), bias=False)\n",
      "        (bn1): BatchNorm2d(64, eps=1e-05, momentum=0.1, affine=True, track_running_stats=True)\n",
      "        (relu): ReLU(inplace=True)\n",
      "        (conv2): Conv2d(64, 64, kernel_size=(3, 3), stride=(1, 1), padding=(1, 1), bias=False)\n",
      "        (bn2): BatchNorm2d(64, eps=1e-05, momentum=0.1, affine=True, track_running_stats=True)\n",
      "      )\n",
      "      (1): BasicBlock(\n",
      "        (conv1): Conv2d(64, 64, kernel_size=(3, 3), stride=(1, 1), padding=(1, 1), bias=False)\n",
      "        (bn1): BatchNorm2d(64, eps=1e-05, momentum=0.1, affine=True, track_running_stats=True)\n",
      "        (relu): ReLU(inplace=True)\n",
      "        (conv2): Conv2d(64, 64, kernel_size=(3, 3), stride=(1, 1), padding=(1, 1), bias=False)\n",
      "        (bn2): BatchNorm2d(64, eps=1e-05, momentum=0.1, affine=True, track_running_stats=True)\n",
      "      )\n",
      "    )\n",
      "    (layer2): Sequential(\n",
      "      (0): BasicBlock(\n",
      "        (conv1): Conv2d(64, 128, kernel_size=(3, 3), stride=(2, 2), padding=(1, 1), bias=False)\n",
      "        (bn1): BatchNorm2d(128, eps=1e-05, momentum=0.1, affine=True, track_running_stats=True)\n",
      "        (relu): ReLU(inplace=True)\n",
      "        (conv2): Conv2d(128, 128, kernel_size=(3, 3), stride=(1, 1), padding=(1, 1), bias=False)\n",
      "        (bn2): BatchNorm2d(128, eps=1e-05, momentum=0.1, affine=True, track_running_stats=True)\n",
      "        (downsample): Sequential(\n",
      "          (0): Conv2d(64, 128, kernel_size=(1, 1), stride=(2, 2), bias=False)\n",
      "          (1): BatchNorm2d(128, eps=1e-05, momentum=0.1, affine=True, track_running_stats=True)\n",
      "        )\n",
      "      )\n",
      "      (1): BasicBlock(\n",
      "        (conv1): Conv2d(128, 128, kernel_size=(3, 3), stride=(1, 1), padding=(1, 1), bias=False)\n",
      "        (bn1): BatchNorm2d(128, eps=1e-05, momentum=0.1, affine=True, track_running_stats=True)\n",
      "        (relu): ReLU(inplace=True)\n",
      "        (conv2): Conv2d(128, 128, kernel_size=(3, 3), stride=(1, 1), padding=(1, 1), bias=False)\n",
      "        (bn2): BatchNorm2d(128, eps=1e-05, momentum=0.1, affine=True, track_running_stats=True)\n",
      "      )\n",
      "    )\n",
      "    (layer3): Sequential(\n",
      "      (0): BasicBlock(\n",
      "        (conv1): Conv2d(128, 256, kernel_size=(3, 3), stride=(2, 2), padding=(1, 1), bias=False)\n",
      "        (bn1): BatchNorm2d(256, eps=1e-05, momentum=0.1, affine=True, track_running_stats=True)\n",
      "        (relu): ReLU(inplace=True)\n",
      "        (conv2): Conv2d(256, 256, kernel_size=(3, 3), stride=(1, 1), padding=(1, 1), bias=False)\n",
      "        (bn2): BatchNorm2d(256, eps=1e-05, momentum=0.1, affine=True, track_running_stats=True)\n",
      "        (downsample): Sequential(\n",
      "          (0): Conv2d(128, 256, kernel_size=(1, 1), stride=(2, 2), bias=False)\n",
      "          (1): BatchNorm2d(256, eps=1e-05, momentum=0.1, affine=True, track_running_stats=True)\n",
      "        )\n",
      "      )\n",
      "      (1): BasicBlock(\n",
      "        (conv1): Conv2d(256, 256, kernel_size=(3, 3), stride=(1, 1), padding=(1, 1), bias=False)\n",
      "        (bn1): BatchNorm2d(256, eps=1e-05, momentum=0.1, affine=True, track_running_stats=True)\n",
      "        (relu): ReLU(inplace=True)\n",
      "        (conv2): Conv2d(256, 256, kernel_size=(3, 3), stride=(1, 1), padding=(1, 1), bias=False)\n",
      "        (bn2): BatchNorm2d(256, eps=1e-05, momentum=0.1, affine=True, track_running_stats=True)\n",
      "      )\n",
      "    )\n",
      "    (layer4): Sequential(\n",
      "      (0): BasicBlock(\n",
      "        (conv1): Conv2d(256, 512, kernel_size=(3, 3), stride=(2, 2), padding=(1, 1), bias=False)\n",
      "        (bn1): BatchNorm2d(512, eps=1e-05, momentum=0.1, affine=True, track_running_stats=True)\n",
      "        (relu): ReLU(inplace=True)\n",
      "        (conv2): Conv2d(512, 512, kernel_size=(3, 3), stride=(1, 1), padding=(1, 1), bias=False)\n",
      "        (bn2): BatchNorm2d(512, eps=1e-05, momentum=0.1, affine=True, track_running_stats=True)\n",
      "        (downsample): Sequential(\n",
      "          (0): Conv2d(256, 512, kernel_size=(1, 1), stride=(2, 2), bias=False)\n",
      "          (1): BatchNorm2d(512, eps=1e-05, momentum=0.1, affine=True, track_running_stats=True)\n",
      "        )\n",
      "      )\n",
      "      (1): BasicBlock(\n",
      "        (conv1): Conv2d(512, 512, kernel_size=(3, 3), stride=(1, 1), padding=(1, 1), bias=False)\n",
      "        (bn1): BatchNorm2d(512, eps=1e-05, momentum=0.1, affine=True, track_running_stats=True)\n",
      "        (relu): ReLU(inplace=True)\n",
      "        (conv2): Conv2d(512, 512, kernel_size=(3, 3), stride=(1, 1), padding=(1, 1), bias=False)\n",
      "        (bn2): BatchNorm2d(512, eps=1e-05, momentum=0.1, affine=True, track_running_stats=True)\n",
      "      )\n",
      "    )\n",
      "    (avgpool): AdaptiveAvgPool2d(output_size=(1, 1))\n",
      "    (fc): Linear(in_features=512, out_features=2, bias=True)\n",
      "  )\n",
      ")\n"
     ]
    }
   ],
   "source": [
    "net = ResNet18(EMBEDDING_DIMENSION)\n",
    "\n",
    "# TODO -- fijar bien los parametros\n",
    "parameters = dict()\n",
    "parameters[\"epochs\"] = TRAINING_EPOCHS_RANDOM\n",
    "parameters[\"lr\"] = RANDOM_TRIPLET_LEARNING_RATE\n",
    "parameters[\"criterion\"] = TripletLossCustom(MARGIN)\n",
    "\n",
    "# Definimos el logger que queremos para el entrenamiento\n",
    "logger = TripletLoggerOffline(\n",
    "    net = net,\n",
    "    iterations = 10 * DATALOADER_BACH_SIZE,\n",
    "    loss_func = parameters[\"criterion\"],\n",
    ")\n",
    "\n",
    "print(net)"
   ]
  },
  {
   "cell_type": "code",
   "execution_count": 14,
   "id": "5bc94a2d",
   "metadata": {
    "id": "ISxXY91p-0mt"
   },
   "outputs": [],
   "source": [
    "# Controlamos si queremos ejecutar esta seccion o no \n",
    "if SKIP_RANDOM_TRIPLETS_TRAINING is False:\n",
    "\n",
    "    training_history = train_model_offline(\n",
    "        net = net,\n",
    "        path = os.path.join(BASE_PATH, \"tmp\"),\n",
    "        parameters = parameters,\n",
    "        train_loader = train_loader,\n",
    "        validation_loader = validation_loader,\n",
    "        name = \"SiameseNetwork\",\n",
    "        logger = logger,\n",
    "        snapshot_iterations = None\n",
    "    )"
   ]
  },
  {
   "cell_type": "code",
   "execution_count": 15,
   "id": "f312e365",
   "metadata": {
    "id": "_8sr3uvO-0mt"
   },
   "outputs": [],
   "source": [
    "# Controlamos si queremos ejecutar esta seccion o no \n",
    "if SKIP_RANDOM_TRIPLETS_TRAINING is False: show_learning_curve(training_history)"
   ]
  },
  {
   "cell_type": "code",
   "execution_count": 16,
   "id": "5cedfac4",
   "metadata": {
    "colab": {
     "base_uri": "https://localhost:8080/"
    },
    "id": "ch2lypSu-0mu",
    "outputId": "124e8bc3-e595-4b20-fb52-8141b9b076bc"
   },
   "outputs": [
    {
     "data": {
      "text/plain": [
       "ResNet18(\n",
       "  (pretrained): ResNet(\n",
       "    (conv1): Conv2d(1, 64, kernel_size=(7, 7), stride=(2, 2), padding=(3, 3), bias=False)\n",
       "    (bn1): BatchNorm2d(64, eps=1e-05, momentum=0.1, affine=True, track_running_stats=True)\n",
       "    (relu): ReLU(inplace=True)\n",
       "    (maxpool): MaxPool2d(kernel_size=3, stride=2, padding=1, dilation=1, ceil_mode=False)\n",
       "    (layer1): Sequential(\n",
       "      (0): BasicBlock(\n",
       "        (conv1): Conv2d(64, 64, kernel_size=(3, 3), stride=(1, 1), padding=(1, 1), bias=False)\n",
       "        (bn1): BatchNorm2d(64, eps=1e-05, momentum=0.1, affine=True, track_running_stats=True)\n",
       "        (relu): ReLU(inplace=True)\n",
       "        (conv2): Conv2d(64, 64, kernel_size=(3, 3), stride=(1, 1), padding=(1, 1), bias=False)\n",
       "        (bn2): BatchNorm2d(64, eps=1e-05, momentum=0.1, affine=True, track_running_stats=True)\n",
       "      )\n",
       "      (1): BasicBlock(\n",
       "        (conv1): Conv2d(64, 64, kernel_size=(3, 3), stride=(1, 1), padding=(1, 1), bias=False)\n",
       "        (bn1): BatchNorm2d(64, eps=1e-05, momentum=0.1, affine=True, track_running_stats=True)\n",
       "        (relu): ReLU(inplace=True)\n",
       "        (conv2): Conv2d(64, 64, kernel_size=(3, 3), stride=(1, 1), padding=(1, 1), bias=False)\n",
       "        (bn2): BatchNorm2d(64, eps=1e-05, momentum=0.1, affine=True, track_running_stats=True)\n",
       "      )\n",
       "    )\n",
       "    (layer2): Sequential(\n",
       "      (0): BasicBlock(\n",
       "        (conv1): Conv2d(64, 128, kernel_size=(3, 3), stride=(2, 2), padding=(1, 1), bias=False)\n",
       "        (bn1): BatchNorm2d(128, eps=1e-05, momentum=0.1, affine=True, track_running_stats=True)\n",
       "        (relu): ReLU(inplace=True)\n",
       "        (conv2): Conv2d(128, 128, kernel_size=(3, 3), stride=(1, 1), padding=(1, 1), bias=False)\n",
       "        (bn2): BatchNorm2d(128, eps=1e-05, momentum=0.1, affine=True, track_running_stats=True)\n",
       "        (downsample): Sequential(\n",
       "          (0): Conv2d(64, 128, kernel_size=(1, 1), stride=(2, 2), bias=False)\n",
       "          (1): BatchNorm2d(128, eps=1e-05, momentum=0.1, affine=True, track_running_stats=True)\n",
       "        )\n",
       "      )\n",
       "      (1): BasicBlock(\n",
       "        (conv1): Conv2d(128, 128, kernel_size=(3, 3), stride=(1, 1), padding=(1, 1), bias=False)\n",
       "        (bn1): BatchNorm2d(128, eps=1e-05, momentum=0.1, affine=True, track_running_stats=True)\n",
       "        (relu): ReLU(inplace=True)\n",
       "        (conv2): Conv2d(128, 128, kernel_size=(3, 3), stride=(1, 1), padding=(1, 1), bias=False)\n",
       "        (bn2): BatchNorm2d(128, eps=1e-05, momentum=0.1, affine=True, track_running_stats=True)\n",
       "      )\n",
       "    )\n",
       "    (layer3): Sequential(\n",
       "      (0): BasicBlock(\n",
       "        (conv1): Conv2d(128, 256, kernel_size=(3, 3), stride=(2, 2), padding=(1, 1), bias=False)\n",
       "        (bn1): BatchNorm2d(256, eps=1e-05, momentum=0.1, affine=True, track_running_stats=True)\n",
       "        (relu): ReLU(inplace=True)\n",
       "        (conv2): Conv2d(256, 256, kernel_size=(3, 3), stride=(1, 1), padding=(1, 1), bias=False)\n",
       "        (bn2): BatchNorm2d(256, eps=1e-05, momentum=0.1, affine=True, track_running_stats=True)\n",
       "        (downsample): Sequential(\n",
       "          (0): Conv2d(128, 256, kernel_size=(1, 1), stride=(2, 2), bias=False)\n",
       "          (1): BatchNorm2d(256, eps=1e-05, momentum=0.1, affine=True, track_running_stats=True)\n",
       "        )\n",
       "      )\n",
       "      (1): BasicBlock(\n",
       "        (conv1): Conv2d(256, 256, kernel_size=(3, 3), stride=(1, 1), padding=(1, 1), bias=False)\n",
       "        (bn1): BatchNorm2d(256, eps=1e-05, momentum=0.1, affine=True, track_running_stats=True)\n",
       "        (relu): ReLU(inplace=True)\n",
       "        (conv2): Conv2d(256, 256, kernel_size=(3, 3), stride=(1, 1), padding=(1, 1), bias=False)\n",
       "        (bn2): BatchNorm2d(256, eps=1e-05, momentum=0.1, affine=True, track_running_stats=True)\n",
       "      )\n",
       "    )\n",
       "    (layer4): Sequential(\n",
       "      (0): BasicBlock(\n",
       "        (conv1): Conv2d(256, 512, kernel_size=(3, 3), stride=(2, 2), padding=(1, 1), bias=False)\n",
       "        (bn1): BatchNorm2d(512, eps=1e-05, momentum=0.1, affine=True, track_running_stats=True)\n",
       "        (relu): ReLU(inplace=True)\n",
       "        (conv2): Conv2d(512, 512, kernel_size=(3, 3), stride=(1, 1), padding=(1, 1), bias=False)\n",
       "        (bn2): BatchNorm2d(512, eps=1e-05, momentum=0.1, affine=True, track_running_stats=True)\n",
       "        (downsample): Sequential(\n",
       "          (0): Conv2d(256, 512, kernel_size=(1, 1), stride=(2, 2), bias=False)\n",
       "          (1): BatchNorm2d(512, eps=1e-05, momentum=0.1, affine=True, track_running_stats=True)\n",
       "        )\n",
       "      )\n",
       "      (1): BasicBlock(\n",
       "        (conv1): Conv2d(512, 512, kernel_size=(3, 3), stride=(1, 1), padding=(1, 1), bias=False)\n",
       "        (bn1): BatchNorm2d(512, eps=1e-05, momentum=0.1, affine=True, track_running_stats=True)\n",
       "        (relu): ReLU(inplace=True)\n",
       "        (conv2): Conv2d(512, 512, kernel_size=(3, 3), stride=(1, 1), padding=(1, 1), bias=False)\n",
       "        (bn2): BatchNorm2d(512, eps=1e-05, momentum=0.1, affine=True, track_running_stats=True)\n",
       "      )\n",
       "    )\n",
       "    (avgpool): AdaptiveAvgPool2d(output_size=(1, 1))\n",
       "    (fc): Linear(in_features=512, out_features=2, bias=True)\n",
       "  )\n",
       ")"
      ]
     },
     "execution_count": 16,
     "metadata": {},
     "output_type": "execute_result"
    }
   ],
   "source": [
    "# A partir de este punto ya no volvemos a entrenar el modelo\n",
    "# Asi que lo ponemos en modo evaluacion para que no lleve \n",
    "# la cuenta de los gradientes\n",
    "net.eval()"
   ]
  },
  {
   "cell_type": "markdown",
   "id": "967f2783",
   "metadata": {
    "id": "dc92ce37"
   },
   "source": [
    "# Evaluación del modelo\n",
    "\n",
    "- Mostramos algunas métricas fundamentales sobre el conjunto de"
   ]
  },
  {
   "cell_type": "code",
   "execution_count": 17,
   "id": "c60be0c4",
   "metadata": {
    "id": "2242eedc"
   },
   "outputs": [],
   "source": [
    "# Controlamos si queremos ejecutar esta seccion o no \n",
    "if SKIP_RANDOM_TRIPLETS_TRAINING is False: \n",
    "    with torch.no_grad(): core.test_model(net, test_loader, parameters[\"criterion\"])"
   ]
  },
  {
   "cell_type": "markdown",
   "id": "30c5c880",
   "metadata": {
    "id": "5c946904"
   },
   "source": [
    "# Adaptación del modelo para usarlo como clasificador\n",
    "\n",
    "- Nuestro modelo genera un *embedding*\n",
    "- Adaptamos el modelo para que, a partir de dicho embedding, podamos usarlo como un clasificador"
   ]
  },
  {
   "cell_type": "code",
   "execution_count": 18,
   "id": "bf70674a",
   "metadata": {
    "id": "3d33aa9d"
   },
   "outputs": [],
   "source": [
    "class EmbeddingToClassifier:\n",
    "    \"\"\"\n",
    "    Clase que toma un modelo que calcula embeddings y lo convierte\n",
    "    a un modelo que sirve para una tarea de clasificacion\n",
    "    \n",
    "    Usamos K-NN para el modelo de clasificacion\n",
    "    \"\"\"\n",
    "    \n",
    "    def __init__(self, embedder: nn.Module, k: int, data_loader):\n",
    "        \n",
    "        # El modelo que calcula los embeddings\n",
    "        self.embedder = embedder\n",
    "         \n",
    "        # Dataloader que representa el dataset que usamos para k-nn\n",
    "        self.data_loader = data_loader\n",
    "        \n",
    "        # Tomamos el dispositivo en el que esta el modelo y los\n",
    "        # datos, porque nos va a hacer falta durante todo el codigo\n",
    "        self.device = core.get_device()\n",
    "        \n",
    "        # Calculamos todos los embeddings de los puntos\n",
    "        self.dataset_embedded = self.__calculate_embedding()\n",
    "        \n",
    "        # Modelo de clasificacion k-nn\n",
    "        self.k = k\n",
    "        self.knn = self.__fit_knn()\n",
    "                \n",
    "    def predict_proba(self, img, batch_mode: bool = False) -> int:\n",
    "        \n",
    "        # Ponemos la red en modo evaluacion\n",
    "        self.embedder.eval()\n",
    "        \n",
    "        # Tenemos una unica imagen, lo que queremos es\n",
    "        # tener un batch de una imagen para que la red\n",
    "        # pueda trabajar con ello\n",
    "        single_img_batch = torch.Tensor(img)\n",
    "        \n",
    "        # Calculamos el embedding de la imagen\n",
    "        img_embedding = None\n",
    "        if batch_mode is False:\n",
    "            img_embedding = self.embedder(single_img_batch[None, ...].to(self.device)) \n",
    "        else:\n",
    "            img_embedding = self.embedder(single_img_batch.to(self.device)) \n",
    "        \n",
    "        # Pasamos el embedding a cpu que es donde esta \n",
    "        # el modelo knn de scikit learn\n",
    "        img_embedding = img_embedding.cpu().detach().numpy() \n",
    "        \n",
    "        # Antes de salir de la funcion volvemos a poner\n",
    "        # a la red en modo entrenamiento\n",
    "        self.embedder.train()\n",
    "        \n",
    "        # Usamos dicho embedding para clasificar con knn\n",
    "        return self.knn.predict(img_embedding)\n",
    "    \n",
    "    def predict(self, img, batch_mode: bool = False) -> int:\n",
    "        \n",
    "        # Ponemos la red en modo evaluacion\n",
    "        self.embedder.eval()\n",
    "        \n",
    "        # Tenemos una unica imagen, lo que queremos es\n",
    "        # tener un batch de una imagen para que la red\n",
    "        # pueda trabajar con ello\n",
    "        single_img_batch = torch.Tensor(img)\n",
    "        \n",
    "        # Calculamos el embedding de la imagen\n",
    "        img_embedding = None\n",
    "        if batch_mode is False:\n",
    "            img_embedding = self.embedder(single_img_batch[None, ...].to(self.device)) \n",
    "        else:\n",
    "            img_embedding = self.embedder(single_img_batch.to(self.device)) \n",
    "        \n",
    "        # Pasamos el embedding a cpu que es donde esta \n",
    "        # el modelo knn de scikit learn\n",
    "        img_embedding = img_embedding.cpu().detach().numpy() \n",
    "        \n",
    "        # Antes de salir de la funcion volvemos a poner\n",
    "        # a la red en modo entrenamiento\n",
    "        self.embedder.train()\n",
    "        \n",
    "        # Usamos dicho embedding para clasificar con knn\n",
    "        return self.knn.predict(img_embedding)\n",
    "\n",
    "                    \n",
    "    def predict_using_embedding(self, embedding: np.ndarray) -> int:\n",
    "        \"\"\"\n",
    "        Realizamos la prediccion, pero en vez de usando la imagen\n",
    "        pasamos directamente el embedding de la imagen (en ocasiones\n",
    "        podemos mejorar el rendimiento pre-computando el embedding de\n",
    "        todo un conjunto de imagenes)\n",
    "        \"\"\"\n",
    "        \n",
    "        # Usamos dicho embedding para clasificar con knn\n",
    "        return self.knn.predict(embedding)\n",
    "    \n",
    "    def predict_proba_using_embedding(self, embedding: np.ndarray) -> int:\n",
    "        \"\"\"\n",
    "        Realizamos la prediccion, pero en vez de usando la imagen\n",
    "        pasamos directamente el embedding de la imagen (en ocasiones\n",
    "        podemos mejorar el rendimiento pre-computando el embedding de\n",
    "        todo un conjunto de imagenes)\n",
    "        \"\"\"\n",
    "        \n",
    "        # Usamos dicho embedding para clasificar con knn\n",
    "        return self.knn.predict_proba(embedding)\n",
    "        \n",
    "    def __calculate_embedding(self):\n",
    "        \"\"\"Dado el conjunto de imagenes con sus etiquetas, calculamos\n",
    "        el conjunto de embedding con sus etiquetas\"\"\"\n",
    "        \n",
    "        embedded_imgs = []\n",
    "        labels = []\n",
    "\n",
    "        # Por motivos que desconocemos, ahora los tensores vienen\n",
    "        # en el formato que espera la red, asi que no tenemos que\n",
    "        # realizar la permutacion del tensor\n",
    "        self.embedder.set_permute(False)\n",
    "        \n",
    "        for img, img_class in self.data_loader:\n",
    "            \n",
    "            # TODO -- esto hay que borrarlo\n",
    "            if np.random.rand() < 0.01:\n",
    "                break\n",
    "            \n",
    "            # Calculamos el embedding de la imagen\n",
    "            img_embedding = self.embedder(img.to(self.device))\n",
    "            \n",
    "            # Añadimos el embedding asociado a la etiqueta\n",
    "            embedded_imgs.append(img_embedding)\n",
    "            labels.append(img_class)\n",
    "        \n",
    "        # Antes de devolver los datos, volvemos a colocar la opcion\n",
    "        # de que permute los tensores\n",
    "        self.embedder.set_permute(True)\n",
    "\n",
    "        return embedded_imgs, labels\n",
    "\n",
    "    def __fit_knn(self):\n",
    "        \n",
    "        # Tomamos los datos en el formato que espera sklearn\n",
    "        # para realizar el fit\n",
    "        x, y = self.prepare_data_for_sklearn()\n",
    "        \n",
    "        knn = KNeighborsClassifier(n_neighbors = self.k)\n",
    "        knn.fit(x, y)\n",
    "        return knn\n",
    "\n",
    "    def scatter_plot(self):\n",
    "        \"\"\"\n",
    "        Hacemos un scatter plot del embedding obtenido\n",
    "        \"\"\"\n",
    "        \n",
    "        # Solo hacemos este plot cuando la dimension del \n",
    "        # embedding es 2\n",
    "        if EMBEDDING_DIMENSION != 2:\n",
    "            return\n",
    "        \n",
    "        # Tomamos los datos en el formato adecuado para hacer el plot\n",
    "        x, y = self.prepare_data_for_sklearn()\n",
    "        \n",
    "        # Los ejes x,y son los datos de nuestro vector x\n",
    "        # El color de los puntos lo dan las etiquetas almacenadas en y\n",
    "        plt.scatter(x = x[:, 0], y = x[:, 1], c = y)\n",
    "        plt.show()\n",
    "        \n",
    "    def prepare_data_for_sklearn(self): \n",
    "        \"\"\"\n",
    "        Tomamos las imagenes y las etiquetas, y las devolvemos en un\n",
    "        formato adecuado para sklearn y matplotlib. Esto es:\n",
    "            - Pasar los datos a memoria RAM\n",
    "            - Aplanar los datos (tenemos los datos agrupados en minibatches)\n",
    "        \"\"\"\n",
    "\n",
    "        # Separamos los datos segun espera sklearn\n",
    "        x = self.dataset_embedded[0]\n",
    "        y = self.dataset_embedded[1]\n",
    "\n",
    "        # Pasamos de una lista de sublistas (por los minibatches)\n",
    "        # a una lista. Tomamos la idea de:\n",
    "        # https://stackoverflow.com/questions/952914/how-to-make-a-flat-list-out-of-a-list-of-lists\n",
    "        x = [item for sublist in x for item in sublist]\n",
    "        y = [item for sublist in y for item in sublist]\n",
    "\n",
    "        # Forzamos a usar la memoria RAM (podrian estar los datos\n",
    "        # en memoria GPU) \n",
    "        x = np.array([element.cpu().detach().numpy() for element in x])\n",
    "        y = np.array([element.cpu().detach().numpy() for element in y])\n",
    "\n",
    "        return x, y"
   ]
  },
  {
   "cell_type": "markdown",
   "id": "f8a7bb99",
   "metadata": {
    "id": "-snkT9le-0mw"
   },
   "source": [
    "Para la adaptación al clasificador, necesitamos tomar las imágenes junto a sus clases. Antes teníamos conjuntos de triples sin clases, ahora recuperamos la información original necesaria para la adaptación"
   ]
  },
  {
   "cell_type": "code",
   "execution_count": 19,
   "id": "29f14b37",
   "metadata": {
    "id": "JZiQEVG3-0mw",
    "scrolled": true
   },
   "outputs": [],
   "source": [
    "# Controlamos si queremos ejecutar esta seccion o no \n",
    "if SKIP_RANDOM_TRIPLETS_TRAINING is False:\n",
    "    with torch.no_grad():\n",
    "    \n",
    "        # Cargamos el dataset usando torchvision, que ya tiene el conjunto\n",
    "        # preparado para descargar\n",
    "        train_dataset = old_train_dataset\n",
    "        test_dataset = old_test_dataset\n",
    "    \n",
    "        # Data loaders para acceder a los datos\n",
    "        train_loader = torch.utils.data.DataLoader(\n",
    "            train_dataset,\n",
    "            batch_size = DATALOADER_BACH_SIZE,\n",
    "            shuffle = True,\n",
    "            num_workers = NUM_WORKERS,\n",
    "            pin_memory = True,\n",
    "        )\n",
    "        test_loader = torch.utils.data.DataLoader(\n",
    "            test_dataset,\n",
    "            batch_size = DATALOADER_BACH_SIZE,\n",
    "            shuffle = True,\n",
    "            num_workers = NUM_WORKERS,\n",
    "            pin_memory = True,\n",
    "        )\n",
    "    \n",
    "    \n",
    "        classifier = EmbeddingToClassifier(net, k = NUMBER_NEIGHBOURS, data_loader = train_loader)"
   ]
  },
  {
   "cell_type": "markdown",
   "id": "ae61cab8",
   "metadata": {
    "id": "z1r6uu1a-0mw"
   },
   "source": [
    "Evaluamos este clasificador en un conjunto pequeño de imágenes de test. Más adelante tomamos métricas de dicho clasificador:"
   ]
  },
  {
   "cell_type": "code",
   "execution_count": 20,
   "id": "f2b77a7a",
   "metadata": {
    "id": "tSMU-0qk-0mx"
   },
   "outputs": [],
   "source": [
    "# Controlamos si queremos ejecutar esta seccion o no \n",
    "if SKIP_RANDOM_TRIPLETS_TRAINING is False:\n",
    "    with torch.no_grad():\n",
    "    \n",
    "        # Hacemos esto y no `in test_dataset[:max_iterations]`\n",
    "        # para no tener que tomar todo el dataset y quedarnos con\n",
    "        # una parte de el, que es un proceso mucho mas lento que usar\n",
    "        # el iterador que da `in test_dataset` y parar con el contador\n",
    "        counter = 0\n",
    "        max_iterations = 20\n",
    "    \n",
    "        for img, img_class in test_dataset:\n",
    "            predicted_class = classifier.predict(img)\n",
    "            print(f\"Etiqueta verdadera: {img_class}, etiqueta predicha: {predicted_class[0]}\")\n",
    "    \n",
    "            # Actualizamos el contador\n",
    "            counter += 1\n",
    "            if counter == max_iterations: break"
   ]
  },
  {
   "cell_type": "markdown",
   "id": "d4def6fb",
   "metadata": {
    "id": "CI_g7bpq-0mx"
   },
   "source": [
    "# Plot del embedding\n",
    "\n",
    "- Aprovechamos el cálculo realizado en la clase que realiza la adaptación a clasificación para mostrar gráficamente el embedding calculado\n",
    "- Esta gráfica solo la visualizamos cuando el embedding tiene dimensión 2"
   ]
  },
  {
   "cell_type": "code",
   "execution_count": 21,
   "id": "47c93584",
   "metadata": {
    "id": "CZXkfA8n-0mx"
   },
   "outputs": [],
   "source": [
    "# Controlamos si queremos ejecutar esta seccion o no \n",
    "if SKIP_RANDOM_TRIPLETS_TRAINING is False: \n",
    "    with torch.no_grad(): classifier.scatter_plot()"
   ]
  },
  {
   "cell_type": "markdown",
   "id": "bfcedc5e",
   "metadata": {
    "id": "f644bbed"
   },
   "source": [
    "## Evaluación del clasificador obtenido\n",
    "\n",
    "- Ahora que hemos adaptado el modelo para usarlo como clasificador, podemos consultar ciertas métricas de clasificación"
   ]
  },
  {
   "cell_type": "code",
   "execution_count": 75,
   "id": "ef6bcfa1",
   "metadata": {
    "id": "030af6e5"
   },
   "outputs": [],
   "source": [
    "from sklearn.metrics import confusion_matrix\n",
    "\n",
    "def calculate_roc_auc(true_labels_prob: np.array, predicted_labels_prob: np.array) -> float:\n",
    "    \"\"\"\n",
    "    Calcula el area bajo la curva ROC, dadas las etiquetas verdaderas y las\n",
    "    etiqeutas predichas por un modelo\n",
    "    \n",
    "    Las listas de etiquetas deben ser etiquetas probabilisticas\n",
    "    \"\"\"\n",
    "    return roc_auc_score(true_labels_prob, predicted_labels_prob, multi_class = \"ovo\")\n",
    "    \n",
    "def calculate_accuracy(true_labels: np.array, predicted_labels: np.array) -> float:\n",
    "    \"\"\"\n",
    "    Calcula el accuracy, dadas las etiquetas verdaderas y las\n",
    "    etiqeutas predichas por un modelo\n",
    "    \"\"\"\n",
    "    return accuracy_score(true_labels, predicted_labels)\n",
    "\n",
    "def calculate_silhouette(x, y):\n",
    "    \"\"\"Calcula el indice de silhouette para el embedding calculado por el modelo\"\"\"\n",
    "    return silhouette_score(x, y)\n",
    "\n",
    "def evaluate_model(model, train_loader, test_loader) -> dict:\n",
    "    \"\"\"\n",
    "    Evalua, usando distintas metricas, el modelo que hemos entrenado\n",
    "    Tambien evaluamos el embedding obtenido, no solo el clasificador\n",
    "    \n",
    "    Devuelve un diccionario con todas las metricas calculadas con el modelo\n",
    "    \"\"\"\n",
    "    \n",
    "    # Diccionario en el que vamos a almacenar todas las metricas\n",
    "    metrics = dict()\n",
    "    \n",
    "    # Tomamos los arrays en formato adecuado para calcular ciertas metricas\n",
    "    x_train, y_train = EmbeddingToClassifier(net, k = NUMBER_NEIGHBOURS, data_loader = train_loader).prepare_data_for_sklearn()\n",
    "    x_test, y_test = EmbeddingToClassifier(net, k = NUMBER_NEIGHBOURS, data_loader = test_loader).prepare_data_for_sklearn()\n",
    "    \n",
    "    # Empezamos usando el modelo para realizar las predicciones+\n",
    "    # Usamos predicciones probabilisticas pues estas son fundamentales para\n",
    "    # la metrica roc auc\n",
    "    train_predicted_labels_prob = model.predict_proba_using_embedding(x_train)\n",
    "    test_predicted_labels_prob = model.predict_proba_using_embedding(x_test)\n",
    "\n",
    "    # Tomamos ahora las etiqeutas sin probabilidad\n",
    "    train_predicted_labels= model.predict_using_embedding(x_train)\n",
    "    test_predicted_labels = model.predict_using_embedding(x_test)\n",
    "    \n",
    "    # Tomamos las metricas de accuracy\n",
    "    metrics[\"train_acc\"] = calculate_accuracy(y_train, train_predicted_labels)\n",
    "    metrics[\"test_acc\"] = calculate_accuracy(y_test, test_predicted_labels)\n",
    "    \n",
    "    # Tomamos las areas bajo la curva ROC\n",
    "    metrics[\"train_roc_auc\"] = calculate_roc_auc(y_train, train_predicted_labels_prob)\n",
    "    metrics[\"test_roc_auc\"] = calculate_roc_auc(y_test, test_predicted_labels_prob)\n",
    "    \n",
    "    # Tomamos el indice de silhouette\n",
    "    metrics[\"train_silhouette\"] = calculate_silhouette(x_train, y_train)\n",
    "    metrics[\"test_silhouette\"] = calculate_silhouette(x_test, y_test)\n",
    "    \n",
    "    #Calculamos Matriz de confusion\n",
    "    metrics[\"train_confusion_matrix\"]=confusion_matrix(y_train, train_predicted_labels)\n",
    "    metrics[\"test_confusion_matrix\"]=confusion_matrix(y_test, test_predicted_labels)\n",
    "    \n",
    "    # Devolvemos las metricas en formato diccionario, que nos va a ser comodo para\n",
    "    # pasarlas a tablas y para mostrar muchas metricas simultaneamente\n",
    "    return metrics\n",
    "\n",
    "\n",
    "def plot_confusion_matrix(train_confusion_matrix,test_confusion_matrix):\n",
    "    \"\"\"\n",
    "    Mostramos graficamente (mapa de calor) la matriz de confusion\n",
    "    \n",
    "    Podriamos mostrar directamente los valores de la matriz, pero al estar\n",
    "    trabajando con 25 clases es mas dificil de interpretar\n",
    "    \"\"\"\n",
    "    \n",
    "    # Mostramos graficamente las dos matrices de confusion\n",
    "    color_palette = sns.color_palette(\"viridis\", as_cmap=True)\n",
    "    print(\"Matriz de confusion en TRAIN\")\n",
    "    sns.heatmap(train_confusion_matrix, annot = False, cmap = color_palette, fmt=\"d\")\n",
    "    plt.show()\n",
    "    \n",
    "    print(\"Matriz de confusion en TEST\")\n",
    "    sns.heatmap(test_confusion_matrix, annot = False, cmap = color_palette)\n",
    "    plt.show()"
   ]
  },
  {
   "cell_type": "code",
   "execution_count": 23,
   "id": "f7dc2fcb",
   "metadata": {
    "id": "_ssCx9D9-0my"
   },
   "outputs": [],
   "source": [
    "# Controlamos si queremos ejecutar esta seccion o no \n",
    "if SKIP_RANDOM_TRIPLETS_TRAINING is False:\n",
    "    with torch.no_grad():\n",
    "    \n",
    "        classifier.embedder.set_permute(False)\n",
    "    \n",
    "        metrics = evaluate_model(classifier, train_loader, test_loader)\n",
    "        pprint(metrics)\n",
    "    \n",
    "        classifier.embedder.set_permute(True)"
   ]
  },
  {
   "cell_type": "markdown",
   "id": "05d2a05c",
   "metadata": {
    "id": "jcvsVovd-0my"
   },
   "source": [
    "# Definición de la función de pérdida online\n",
    "\n",
    "- Comenzamos el trabajo para adaptar el entrenamiento al uso de triples difíciles dentro de un minibatch, de forma online"
   ]
  },
  {
   "cell_type": "code",
   "execution_count": 24,
   "id": "5bcdd214",
   "metadata": {
    "id": "Bw56RF6x-0my"
   },
   "outputs": [],
   "source": [
    "# Copiamos esto de https://stackoverflow.com/a/22279947\n",
    "# Lo necesitamos para saltarnos el elemento de una lista de\n",
    "# forma eficiente\n",
    "import itertools as it\n",
    "def skip_i(iterable, i):\n",
    "    itr = iter(iterable)\n",
    "    return it.chain(it.islice(itr, 0, i), it.islice(itr, 1, None))\n",
    "\n",
    "\n",
    "class OnlineTripletLoss(nn.Module):\n",
    "    \n",
    "    def __init__(self, margin=1.0):\n",
    "        super(OnlineTripletLoss, self).__init__()\n",
    "        self.margin = margin\n",
    "        self.base_loss = TripletLoss(self.margin)\n",
    "        \n",
    "        # Pre-computamos una lista de listas en la que accedemos a los \n",
    "        # elementos de la forma list[label][posicion]\n",
    "        # Con esto nos evitamos tener que realizar la separacion en positivos\n",
    "        # y negativos repetitivamente\n",
    "        # \n",
    "        # Notar que el pre-computo debe realizarse por cada llamada a forward,\n",
    "        # con el minibatch correspondiente. Por tanto, nos beneficia usar minibatches\n",
    "        # grandes\n",
    "        self.list_of_classes = None\n",
    "        \n",
    "        # Si queremos usar self.list_of_classes para calcular todos los \n",
    "        # negativos de una clase, necesitamos dos for que vamos a repetir\n",
    "        # demasiadas veces\n",
    "        self.list_of_negatives = None\n",
    "        \n",
    "    def forward(self, embeddings: torch.Tensor, labels: torch.Tensor) -> torch.Tensor:        \n",
    "        \n",
    "        loss = 0\n",
    "                \n",
    "        # Pre-computamos la separacion en positivos y negativos\n",
    "        self.list_of_classes = self.__precompute_list_of_classes(labels)\n",
    "        \n",
    "        # Pre-computamos la lista de negativos de cada clase\n",
    "        self.list_of_negatives = self.__precompute_negative_class()\n",
    "        \n",
    "        # Iteramos sobre todas los embeddings de las imagenes del dataset\n",
    "        for embedding, img_label in zip(embeddings, labels):\n",
    "\n",
    "            # Calculamos las distancias a positivos y negativos\n",
    "            # Nos aprovechamos de la pre-computacion\n",
    "            positive_distances = [\n",
    "                self.base_loss.euclidean_distance(embedding, embeddings[positive])\n",
    "                for positive in self.list_of_classes[img_label]\n",
    "            ]\n",
    "            \n",
    "            # Ahora nos aprovechamos del segundo pre-computo realizado\n",
    "            negative_distances = [\n",
    "                self.base_loss.euclidean_distance(embedding, embeddings[negative])\n",
    "                for negative in self.list_of_negatives\n",
    "            ]\n",
    "            \n",
    "            # Tenemos una lista de tensores de un unico elemento (el valor\n",
    "            # de la distancia). Para poder usar argmax pasamos todo esto\n",
    "            # a un unico tensor\n",
    "            positive_distances = torch.tensor(positive_distances)\n",
    "            negative_distances = torch.tensor(negative_distances)\n",
    "                        \n",
    "            # Calculamos la funcion de perdida\n",
    "            positives = self.list_of_classes[img_label]\n",
    "            negatives = self.list_of_negatives[img_label]\n",
    "            \n",
    "            worst_positive_idx = positives[torch.argmax(positive_distances)]\n",
    "            worst_negative_idx = negatives[torch.argmin(negative_distances)]\n",
    "            \n",
    "            worst_positive = embeddings[worst_positive_idx]\n",
    "            worst_negative = embeddings[worst_negative_idx]\n",
    "            \n",
    "            loss += self.base_loss(embedding, worst_positive, worst_negative)\n",
    "        \n",
    "        return loss\n",
    "    \n",
    "    def __precompute_list_of_classes(self, labels) -> List[List[int]]:\n",
    "        \"\"\"\n",
    "        Calcula la lista con las listas de posiciones de cada clase por separado\n",
    "        \"\"\"\n",
    "        \n",
    "        # Inicializamos la lista de listas\n",
    "        posiciones_clases = [[] for _ in range(10)]\n",
    "\n",
    "        # Recorremos el dataset y colocamos los indices donde corresponde\n",
    "        for idx, label in enumerate(labels):\n",
    "            posiciones_clases[label].append(idx)\n",
    "\n",
    "        return posiciones_clases\n",
    "    \n",
    "    def __precompute_negative_class(self):\n",
    "        \n",
    "        # Inicializamos la lista\n",
    "        list_of_negatives = [None] * 10\n",
    "        \n",
    "        for label in range(10):\n",
    "            list_of_negatives[label] = [\n",
    "                idx\n",
    "                for current_list in skip_i(self.list_of_classes, label)\n",
    "                for idx in current_list\n",
    "            ]\n",
    "            \n",
    "        return list_of_negatives"
   ]
  },
  {
   "cell_type": "markdown",
   "id": "7378947c",
   "metadata": {
    "id": "XQzpMJya-0mz"
   },
   "source": [
    "# Volvemos a cargar los datos\n",
    "\n",
    "- Con esta función de pérdida ya no necesitamos calcular de forma offline los triples\n",
    "- Así que volvemos a cargar el dataset original, sin el pre-cómputo de triples"
   ]
  },
  {
   "cell_type": "code",
   "execution_count": 25,
   "id": "8425cd40",
   "metadata": {
    "id": "42-cmzLM-0mz"
   },
   "outputs": [],
   "source": [
    "# Transformaciones que queremos aplicar al cargar los datos\n",
    "# Ahora solo pasamos las imagenes a tensores, pero podriamos hacer aqui normalizaciones\n",
    "transform = transforms.Compose([\n",
    "    transforms.ToTensor(),\n",
    "    # TODO -- aqui podemos añadir la normaliazcion de datos\n",
    "])\n",
    "\n",
    "# Cargamos el dataset usando torchvision, que ya tiene el conjunto\n",
    "# preparado para descargar\n",
    "train_dataset = torchvision.datasets.FashionMNIST(\n",
    "    root = DATA_PATH,\n",
    "    train = True,\n",
    "    download = True,\n",
    "    transform = transform,\n",
    ")\n",
    "\n",
    "test_dataset = torchvision.datasets.FashionMNIST(\n",
    "    root = DATA_PATH,\n",
    "    train = False,\n",
    "    download = True,\n",
    "    transform = transform,\n",
    ")\n",
    "\n",
    "# Separamos train en train y validacion\n",
    "train_dataset, validation_dataset = core.split_train_test(train_dataset, 0.8)\n",
    "\n",
    "# Data loaders para acceder a los datos\n",
    "train_loader = torch.utils.data.DataLoader(\n",
    "    train_dataset,\n",
    "    batch_size = ONLINE_BATCH_SIZE,\n",
    "    shuffle = True,\n",
    "    num_workers = NUM_WORKERS,\n",
    "    pin_memory = True,\n",
    ")\n",
    "\n",
    "validation_loader = torch.utils.data.DataLoader(\n",
    "    validation_dataset,\n",
    "    batch_size = ONLINE_BATCH_SIZE,\n",
    "    shuffle = True,\n",
    "    num_workers = NUM_WORKERS,\n",
    "    pin_memory = True,\n",
    ")\n",
    "\n",
    "test_loader = torch.utils.data.DataLoader(\n",
    "  test_dataset,\n",
    "  batch_size = ONLINE_BATCH_SIZE,\n",
    "  shuffle = True,\n",
    "  num_workers = NUM_WORKERS,\n",
    "  pin_memory = True,\n",
    ")"
   ]
  },
  {
   "cell_type": "markdown",
   "id": "5593607e",
   "metadata": {
    "id": "mLgs_FhUD_5j"
   },
   "source": [
    "# Hyperparameter tuning"
   ]
  },
  {
   "cell_type": "code",
   "execution_count": 26,
   "id": "867bd047",
   "metadata": {
    "id": "M3KAxCNZ446B"
   },
   "outputs": [],
   "source": [
    "def custom_cross_validation(net, parameters, train_dataset, k):\n",
    "    \"\"\"Funcion propia para hacer k-fold cross validation de una red convolucional\"\"\"\n",
    "\n",
    "    # Definimos la forma en la que vamos a hacer el split de los folds\n",
    "    ss = ShuffleSplit(n_splits=k, test_size=0.25, random_state=RANDOM_SEED)\n",
    "    \n",
    "    # Lista en la que guardamos las perdidas encontradas en cada fold\n",
    "    losses = []\n",
    "\n",
    "    # Iteramos usando el split que nos da sklearn\n",
    "    for train_index, validation_index in ss.split(train_dataset):\n",
    "        \n",
    "        # Tenemos los indices de los elementos, asi que tomamos los dos datasets\n",
    "        # usando dichos indices\n",
    "        train_fold = [train_dataset[idx] for idx in train_index]\n",
    "        validation_fold = [train_dataset[idx] for idx in validation_index]\n",
    "\n",
    "        # Transformamos los datasets en dataloaders\n",
    "        train_loader = torch.utils.data.DataLoader(\n",
    "            train_fold,\n",
    "            batch_size = ONLINE_BATCH_SIZE,\n",
    "            shuffle = True,\n",
    "            num_workers = NUM_WORKERS,\n",
    "            pin_memory = True,\n",
    "        )\n",
    "        validation_loader = torch.utils.data.DataLoader(\n",
    "            validation_fold,\n",
    "            batch_size = ONLINE_BATCH_SIZE,\n",
    "            shuffle = True,\n",
    "            num_workers = NUM_WORKERS,\n",
    "            pin_memory = True,\n",
    "        )\n",
    "\n",
    "        # Entrenamos la red\n",
    "        _ = train_model_online(\n",
    "            net = net,\n",
    "            path = os.path.join(BASE_PATH, \"tmp\"),\n",
    "            parameters = parameters,\n",
    "            train_loader = train_loader,\n",
    "            validation_loader = validation_loader,\n",
    "            name = \"SiameseNetworkOnline\",\n",
    "            logger = SilentLogger(),\n",
    "            snapshot_iterations = None\n",
    "        )\n",
    "\n",
    "        # Evaluamos la red en el fold de validacion\n",
    "        net.eval()\n",
    "        loss = metrics.calculate_mean_triplet_loss_online(net, validation_loader, parameters[\"criterion\"], 1.0)\n",
    "        loss = float(loss) # Pasamos el tensor de un unico elemento a un float simple\n",
    "\n",
    "        # Añadimos el loss a nuestra lista\n",
    "        losses.append(loss)\n",
    "    \n",
    "    # Devolvemos el array en formato numpy para que sea mas comodo trabajar con ella\n",
    "    return np.array(losses)\n"
   ]
  },
  {
   "cell_type": "code",
   "execution_count": 27,
   "id": "292f5ea4",
   "metadata": {
    "id": "ujJwWDqqECXg"
   },
   "outputs": [],
   "source": [
    "# Controlamos si queremos realizar el hyperparameater tuning o no\n",
    "if SKIP_HYPERPARAMTER_TUNING is False:\n",
    "\n",
    "    # Para controlar que parametros ya hemos explorado y queremos saltar\n",
    "    already_explored_parameters = [\n",
    "        # Embedding dimension, learning rate, margin\n",
    "        (2, 0.0001, 0.01),\n",
    "        (2, 0.0001, 1),\n",
    "        (3, 0.0001),\n",
    "    ]\n",
    "\n",
    "    # Parametros que queremos mover\n",
    "    #margin_values = [0.01, 0.1, 1.0]\n",
    "    # TODO -- volver a poner todos los valores\n",
    "    margin_values = [1.0]\n",
    "    learning_rate_values = [0.0001, 0.001, 0.01]\n",
    "    embedding_dimension_values = [2, 3, 4]\n",
    "    \n",
    "    # Parametros que fijamos de antemano\n",
    "    epochs = HYPERPARAMETER_TUNING_EPOCHS\n",
    "    \n",
    "    # Llevamos la cuenta de los mejores parametros y el mejor error encontrados hasta\n",
    "    # el momento\n",
    "    best_loss = None\n",
    "    best_parameters = {\n",
    "        \"embedding_dimension\": None,\n",
    "        \"lr\": None,\n",
    "        \"margin\": None\n",
    "    }\n",
    "    \n",
    "    # Exploramos las combinaciones de parametros\n",
    "    for margin in margin_values:\n",
    "        for learning_rate in learning_rate_values:\n",
    "            for embedding_dimension in embedding_dimension_values:\n",
    "        \n",
    "                print(f\"Optimizando para margin: {margin}, lr: {learning_rate}, embedding_dim: {embedding_dimension}\")\n",
    "\n",
    "                # Comprobamos si tenemos que saltarnos el calculo de algun valor\n",
    "                # porque ya se haya hecho\n",
    "                if (embedding_dimension, learning_rate, margin) in already_explored_parameters:\n",
    "                    print(\"\\tSaltando este calculo porque ya se realizo\")\n",
    "                    continue\n",
    "                \n",
    "                # Definimos el modelo que queremos optimizar\n",
    "                net = ResNet18(embedding_dimension)\n",
    "                \n",
    "                # En este caso, al no estar trabajando con los minibatches\n",
    "                # (los usamos directamente como nos los da pytorch), no tenemos\n",
    "                # que manipular los tensores\n",
    "                net.set_permute(False)\n",
    "                \n",
    "                parameters = dict()\n",
    "                parameters[\"epochs\"] = epochs\n",
    "                parameters[\"lr\"] = learning_rate\n",
    "                parameters[\"criterion\"] = OnlineTripletLoss(margin)\n",
    "                logger = SilentLogger()\n",
    "    \n",
    "                # Usamos nuestra propia funcion de cross validation para validar el modelo\n",
    "                losses = custom_cross_validation(net, parameters, train_dataset, k = NUMBER_OF_FOLDS) \n",
    "                print(f\"El loss conseguido es {losses.mean()}\")\n",
    "                print(\"\")\n",
    "            \n",
    "                # Comprobamos si hemos mejorado la funcion de perdida\n",
    "                # En cuyo caso, actualizamos nuestra estructura de datos y, sobre todo, mostramos\n",
    "                # por pantalla los nuevos mejores parametros\n",
    "                basic_condition = math.isnan(losses.mean()) is False             # Si es NaN no entramos al if\n",
    "                enter_condition = best_loss is None or losses.mean() < best_loss # Entramos al if si mejoramos la perdida\n",
    "                compound_condition = basic_condition and enter_condition\n",
    "                if compound_condition:\n",
    "                \n",
    "                    # Actualizamos nuestra estructura de datos\n",
    "                    best_loss = losses.mean()\n",
    "                    best_parameters = {\n",
    "                        \"embedding_dimension\": embedding_dimension,\n",
    "                        \"lr\": learning_rate,\n",
    "                        \"margin\": margin,\n",
    "                    }\n",
    "            \n",
    "                    # Mostramos el cambio encontrado\n",
    "                    print(\"==> ENCONTRADOS NUEVOS MEJORES PARAMETROS\")\n",
    "                    print(f\"Mejores parametros: {best_parameters}\")\n",
    "                    print(f\"Mejor loss: {best_loss}\")\n",
    "            \n",
    "                \n"
   ]
  },
  {
   "cell_type": "markdown",
   "id": "3e1ee8ba",
   "metadata": {
    "id": "0_B_cQL--0mz"
   },
   "source": [
    "# Entrenamiento online"
   ]
  },
  {
   "cell_type": "code",
   "execution_count": null,
   "id": "d7a2afd9",
   "metadata": {
    "colab": {
     "base_uri": "https://localhost:8080/"
    },
    "id": "plW9gNAw-0mz",
    "outputId": "7705c90b-0a21-4501-f3fa-894442f05bb4"
   },
   "outputs": [],
   "source": [
    "net = ResNet18(EMBEDDING_DIMENSION)\n",
    "\n",
    "# En este caso, al no estar trabajando con los minibatches\n",
    "# (los usamos directamente como nos los da pytorch), no tenemos\n",
    "# que manipular los tensores\n",
    "net.set_permute(False)\n",
    "\n",
    "# TODO -- fijar bien los parametros\n",
    "parameters = dict()\n",
    "parameters[\"epochs\"] = TRAINING_EPOCHS\n",
    "parameters[\"lr\"] = ONLINE_LEARNING_RATE\n",
    "parameters[\"criterion\"] = OnlineTripletLoss(MARGIN)\n",
    "\n",
    "# Definimos el logger que queremos para el entrenamiento\n",
    "logger = TripletLoggerOnline(\n",
    "    net = net,\n",
    "    iterations = -1,\n",
    "    loss_func = parameters[\"criterion\"],\n",
    "    train_percentage = 0.01,\n",
    "    validation_percentage = 1.0,\n",
    ")\n",
    "\n",
    "print(net)"
   ]
  },
  {
   "cell_type": "code",
   "execution_count": null,
   "id": "aa722a06",
   "metadata": {
    "colab": {
     "base_uri": "https://localhost:8080/",
     "height": 1000
    },
    "id": "S3WCSjQB-0m0",
    "outputId": "b9ffa706-9edd-427b-b4f2-e20e8ec07747"
   },
   "outputs": [],
   "source": [
    "# Entrenamos solo si lo especifica\n",
    "# el parametro que controla el uso de cache\n",
    "if USE_CACHED_MODEL is False:\n",
    "\n",
    "    # Para saber cuanto tarda\n",
    "    ts = time.time()\n",
    "\n",
    "    training_history = train_model_online(\n",
    "        net = net,\n",
    "        path = os.path.join(BASE_PATH, \"tmp\"),\n",
    "        parameters = parameters,\n",
    "        train_loader = train_loader,\n",
    "        validation_loader = validation_loader,\n",
    "        name = \"SiameseNetworkOnline\",\n",
    "        logger = logger,\n",
    "        snapshot_iterations = None\n",
    "    )\n",
    "\n",
    "    # Calculamos cuanto ha tardado\n",
    "    te = time.time()\n",
    "    print(f\"Ha tardado {te - ts}\")\n",
    "    \n",
    "    # Actualizamos la cache del modelo\n",
    "    filesystem.save_model(net, MODEL_CACHE_FOLDER, \"online_model_cached\")\n",
    "    \n",
    "# Nos saltamos el entrenamiento y cargamos el modelo desde la cache\n",
    "else:\n",
    "       \n",
    "    net = filesystem.load_model(\n",
    "        os.path.join(MODEL_CACHE_FOLDER, \"online_model_cached\"), \n",
    "        lambda: ResNet18(EMBEDDING_DIMENSION)\n",
    "    )\n",
    "    \n",
    "    # Tenemos que cargar la red en la memoria correspondiente\n",
    "    device = core.get_device()\n",
    "    net.to(device)\n",
    "    \n",
    "# A partir de este punto no hacemos entrenamiento\n",
    "# asi que ponemos la red en modo evaluacion para que \n",
    "# no vaya almacenando los gradientes\n",
    "net.eval()"
   ]
  },
  {
   "cell_type": "code",
   "execution_count": null,
   "id": "3ae35995",
   "metadata": {
    "id": "3Si1QK_f-0m0"
   },
   "outputs": [],
   "source": [
    "# Entrenamos solo si lo especifica\n",
    "# el parametro que controla el uso de cache\n",
    "if USE_CACHED_MODEL is False:\n",
    "        \n",
    "    # Al principio tenemos un pico de error que hace \n",
    "    # que la grafica no sea legible. Ignoramos las primeras metricas\n",
    "    # de error para que la grafica sea legible\n",
    "    cut = 5\n",
    "    training_history[\"loss\"] = training_history[\"loss\"][cut:]\n",
    "    training_history[\"val_loss\"] = training_history[\"val_loss\"][cut:]\n",
    "\n",
    "    show_learning_curve(training_history)"
   ]
  },
  {
   "cell_type": "markdown",
   "id": "d68b8fef",
   "metadata": {
    "id": "8zW63VZO-0m0"
   },
   "source": [
    "# Evaluación del modelo\n",
    "\n",
    "- Mostramos algunas métricas fundamentales sobre el conjunto de"
   ]
  },
  {
   "cell_type": "code",
   "execution_count": null,
   "id": "5210628c",
   "metadata": {
    "colab": {
     "base_uri": "https://localhost:8080/"
    },
    "id": "OATSn7Bw-0m0",
    "outputId": "bade8ba2-1c62-4b34-d8cf-b86da5eb7a64"
   },
   "outputs": [],
   "source": [
    "with torch.no_grad():\n",
    "    net.set_permute(False)\n",
    "    \n",
    "    core.test_model_online(net, test_loader, parameters[\"criterion\"], online = True)\n",
    "    \n",
    "    net.set_permute(True)"
   ]
  },
  {
   "cell_type": "markdown",
   "id": "ff8a4ed6",
   "metadata": {
    "id": "8mKrCuZJ-0m1"
   },
   "source": [
    "# Adaptamos el modelo a clasificador y evaluamos"
   ]
  },
  {
   "cell_type": "code",
   "execution_count": null,
   "id": "f2e58d6f",
   "metadata": {
    "id": "mSWnrXnI-0m1",
    "scrolled": true
   },
   "outputs": [],
   "source": [
    "with torch.no_grad():\n",
    "    try_to_clean_memory()\n",
    "    classifier = EmbeddingToClassifier(net, k = NUMBER_NEIGHBOURS, data_loader = train_loader)"
   ]
  },
  {
   "cell_type": "markdown",
   "id": "e8ad35f7",
   "metadata": {
    "id": "DAvfYY-z-0m1"
   },
   "source": [
    "Evaluamos este clasificador en un conjunto pequeño de imágenes de test. Más adelante tomamos métricas de dicho clasificador:"
   ]
  },
  {
   "cell_type": "code",
   "execution_count": null,
   "id": "46acde43",
   "metadata": {
    "colab": {
     "base_uri": "https://localhost:8080/"
    },
    "id": "ObaGeqfe-0m1",
    "outputId": "b02cb2ca-9f39-4c14-e3be-825aef908ec2"
   },
   "outputs": [],
   "source": [
    "with torch.no_grad():\n",
    "    # Hacemos esto y no `in test_dataset[:max_iterations]`\n",
    "    # para no tener que tomar todo el dataset y quedarnos con\n",
    "    # una parte de el, que es un proceso mucho mas lento que usar\n",
    "    # el iterador que da `in test_dataset` y parar con el contador\n",
    "    counter = 0\n",
    "    max_iterations = 20\n",
    "    \n",
    "    for img, img_class in test_dataset:\n",
    "        predicted_class = classifier.predict(img)\n",
    "        print(f\"Etiqueta verdadera: {img_class}, etiqueta predicha: {predicted_class[0]}\")\n",
    "    \n",
    "        # Actualizamos el contador\n",
    "        counter += 1\n",
    "        if counter == max_iterations: break"
   ]
  },
  {
   "cell_type": "markdown",
   "id": "58fa44a0",
   "metadata": {
    "id": "7hGaJTYa-0m2"
   },
   "source": [
    "# Plot del embedding\n",
    "\n",
    "- Aprovechamos el cálculo realizado en la clase que realiza la adaptación a clasificación para mostrar gráficamente el embedding calculado\n",
    "- Esta gráfica solo la visualizamos cuando el embedding tiene dimensión 2"
   ]
  },
  {
   "cell_type": "code",
   "execution_count": null,
   "id": "8ab56fa9",
   "metadata": {
    "colab": {
     "base_uri": "https://localhost:8080/",
     "height": 265
    },
    "id": "gRarwr2c-0m2",
    "outputId": "e3cfd4f7-038c-43ab-92e3-a96b75d94e9e"
   },
   "outputs": [],
   "source": [
    "with torch.no_grad():\n",
    "    classifier.scatter_plot()"
   ]
  },
  {
   "cell_type": "markdown",
   "id": "83cea66d",
   "metadata": {
    "id": "0fTZytfP-0m2"
   },
   "source": [
    "## Evaluación del clasificador obtenido\n",
    "\n",
    "- Ahora que hemos adaptado el modelo para usarlo como clasificador, podemos consultar ciertas métricas de clasificación"
   ]
  },
  {
   "cell_type": "code",
   "execution_count": null,
   "id": "27b4ae22",
   "metadata": {
    "colab": {
     "base_uri": "https://localhost:8080/"
    },
    "id": "QGbqoo4H-0m2",
    "outputId": "4f6b08c2-a6b9-4ad5-cc05-64bafce8a1d7"
   },
   "outputs": [],
   "source": [
    "with torch.no_grad():\n",
    "    try_to_clean_memory()\n",
    "    classifier.embedder.set_permute(False)\n",
    "    \n",
    "    metrics = evaluate_model(classifier, train_loader, test_loader)\n",
    "    pprint(metrics)\n",
    "    \n",
    "    classifier.embedder.set_permute(True)"
   ]
  },
  {
   "cell_type": "markdown",
   "id": "89100da1",
   "metadata": {
    "id": "2I_kQvMXJhxe"
   },
   "source": [
    "# Experimentos con un modelo más ligero"
   ]
  },
  {
   "cell_type": "markdown",
   "id": "818f18c5",
   "metadata": {
    "id": "Mh_Uj7v6J4en"
   },
   "source": [
    "## Definimos un modelo más ligero"
   ]
  },
  {
   "cell_type": "code",
   "execution_count": 28,
   "id": "56dbf1fb",
   "metadata": {
    "id": "-GQJsGhJKANz"
   },
   "outputs": [],
   "source": [
    "import torch\n",
    "import torch.nn as nn\n",
    "import torch.nn.functional as F\n",
    "\n",
    "class LightModel(torch.nn.Module):\n",
    "    \n",
    "    def __init__(self, embedding_dimension: int):\n",
    "        \n",
    "        super(LightModel, self).__init__()\n",
    "\n",
    "        # Dimension del embedding que la red va a calcular\n",
    "        self.embedding_dimension = embedding_dimension\n",
    "\n",
    "        # Bloques convolucionales\n",
    "        self.conv1 = nn.Conv2d(in_channels = 1, out_channels = 4, kernel_size = 3)\n",
    "        self.conv2 = nn.Conv2d(in_channels = 4, out_channels = 8, kernel_size = 3)\n",
    "        self.conv3 = nn.Conv2d(in_channels = 8, out_channels = 16, kernel_size = 3)\n",
    "        self.conv4 = nn.Conv2d(in_channels = 16, out_channels = 32, kernel_size = 3)\n",
    "        self.fc = nn.Linear(in_features = 3200, out_features = self.embedding_dimension)\n",
    "\n",
    "    def forward(self, x: torch.Tensor) -> torch.Tensor:\n",
    "\n",
    "        # Tenemos como entrada tensores (1, DATALOADER_BACH_SIZE, 28, 28) y \n",
    "        # queremos tensores (DATALOADER_BACH_SIZE, 1, 28, 28) para poder trabajar\n",
    "        # con la red \n",
    "        # Usamos permute en vez de reshape porque queremos que tambien funcione al\n",
    "        # realizar inferencia con distintos tamaños de minibatch (ie. 1)\n",
    "        if self.should_permute is True:\n",
    "            x = torch.permute(x, (1, 0, 2, 3))\n",
    "\n",
    "        # Pasamos el tensor por los distintos bloques de nuestra red\n",
    "        x = F.relu(self.conv1(x))\n",
    "        x = F.relu(self.conv2(x))\n",
    "        x = F.relu(self.conv3(x))\n",
    "        x = F.relu(self.conv4(x))\n",
    "\n",
    "        # Max pooling y seguido flatten de todas las dimensiones menos la del batch\n",
    "        x = F.max_pool2d(x, 2)\n",
    "        x = torch.flatten(x,1)\n",
    "\n",
    "        # Fully connected para llevar el vector aplanado a la dimension del \n",
    "        # embedding\n",
    "        x = self.fc(x)\n",
    "        \n",
    "        return x\n",
    "    \n",
    "    def set_permute(self, should_permute: bool):\n",
    "        self.should_permute = should_permute"
   ]
  },
  {
   "cell_type": "markdown",
   "id": "9d9bf4dd",
   "metadata": {
    "id": "sYmmsILyJtkP"
   },
   "source": [
    "## Volvemos a cargar los datos\n",
    "\n",
    "- Con esta función de pérdida ya no necesitamos calcular de forma offline los triples\n",
    "- Así que volvemos a cargar el dataset original, sin el pre-cómputo de triples"
   ]
  },
  {
   "cell_type": "code",
   "execution_count": 29,
   "id": "138b1fbd",
   "metadata": {
    "id": "lvppk6pKJtkQ"
   },
   "outputs": [],
   "source": [
    "# Transformaciones que queremos aplicar al cargar los datos\n",
    "# Ahora solo pasamos las imagenes a tensores, pero podriamos hacer aqui normalizaciones\n",
    "transform = transforms.Compose([\n",
    "    transforms.ToTensor(),\n",
    "    # TODO -- aqui podemos añadir la normaliazcion de datos\n",
    "])\n",
    "\n",
    "# Cargamos el dataset usando torchvision, que ya tiene el conjunto\n",
    "# preparado para descargar\n",
    "train_dataset = torchvision.datasets.FashionMNIST(\n",
    "    root = DATA_PATH,\n",
    "    train = True,\n",
    "    download = True,\n",
    "    transform = transform,\n",
    ")\n",
    "\n",
    "test_dataset = torchvision.datasets.FashionMNIST(\n",
    "    root = DATA_PATH,\n",
    "    train = False,\n",
    "    download = True,\n",
    "    transform = transform,\n",
    ")\n",
    "\n",
    "# Separamos train en train y validacion\n",
    "train_dataset, validation_dataset = core.split_train_test(train_dataset, 0.8)\n",
    "\n",
    "# Data loaders para acceder a los datos\n",
    "train_loader = torch.utils.data.DataLoader(\n",
    "    train_dataset,\n",
    "    batch_size = ONLINE_BATCH_SIZE,\n",
    "    shuffle = True,\n",
    "    num_workers = NUM_WORKERS,\n",
    "    pin_memory = True,\n",
    ")\n",
    "\n",
    "validation_loader = torch.utils.data.DataLoader(\n",
    "    validation_dataset,\n",
    "    batch_size = ONLINE_BATCH_SIZE,\n",
    "    shuffle = True,\n",
    "    num_workers = NUM_WORKERS,\n",
    "    pin_memory = True,\n",
    ")\n",
    "\n",
    "test_loader = torch.utils.data.DataLoader(\n",
    "  train_dataset,\n",
    "  batch_size = ONLINE_BATCH_SIZE,\n",
    "  shuffle = True,\n",
    "  num_workers = NUM_WORKERS,\n",
    "  pin_memory = True,\n",
    ")"
   ]
  },
  {
   "cell_type": "markdown",
   "id": "07189f97",
   "metadata": {
    "id": "sNciUGKyJtkR"
   },
   "source": [
    "## Entrenamiento online"
   ]
  },
  {
   "cell_type": "code",
   "execution_count": 30,
   "id": "a776abad",
   "metadata": {
    "colab": {
     "base_uri": "https://localhost:8080/"
    },
    "id": "s741ynAXJtkR",
    "outputId": "370866b1-ec18-4889-9af2-4fa737f698bb"
   },
   "outputs": [
    {
     "name": "stdout",
     "output_type": "stream",
     "text": [
      "LightModel(\n",
      "  (conv1): Conv2d(1, 4, kernel_size=(3, 3), stride=(1, 1))\n",
      "  (conv2): Conv2d(4, 8, kernel_size=(3, 3), stride=(1, 1))\n",
      "  (conv3): Conv2d(8, 16, kernel_size=(3, 3), stride=(1, 1))\n",
      "  (conv4): Conv2d(16, 32, kernel_size=(3, 3), stride=(1, 1))\n",
      "  (fc): Linear(in_features=3200, out_features=2, bias=True)\n",
      ")\n"
     ]
    }
   ],
   "source": [
    "net = LightModel(EMBEDDING_DIMENSION)\n",
    "\n",
    "# En este caso, al no estar trabajando con los minibatches\n",
    "# (los usamos directamente como nos los da pytorch), no tenemos\n",
    "# que manipular los tensores\n",
    "net.set_permute(False)\n",
    "\n",
    "# TODO -- fijar bien los parametros\n",
    "parameters = dict()\n",
    "parameters[\"epochs\"] = TRAINING_EPOCHS\n",
    "parameters[\"lr\"] = ONLINE_LEARNING_RATE\n",
    "parameters[\"criterion\"] = OnlineTripletLoss(LIGHT_MARGIN)\n",
    "\n",
    "# Definimos el logger que queremos para el entrenamiento\n",
    "logger = TripletLoggerOnline(\n",
    "    net = net,\n",
    "    iterations = -1,\n",
    "    loss_func = parameters[\"criterion\"],\n",
    "    train_percentage = 0.01,\n",
    "    validation_percentage = 1.0,\n",
    ")\n",
    "\n",
    "print(net)"
   ]
  },
  {
   "cell_type": "code",
   "execution_count": 31,
   "id": "ef73a947",
   "metadata": {
    "colab": {
     "base_uri": "https://localhost:8080/",
     "height": 1000
    },
    "id": "L1l6GX9JJtkR",
    "outputId": "8c20e26b-a58e-433b-f20a-ae9fb7ad42de",
    "scrolled": true
   },
   "outputs": [
    {
     "name": "stdout",
     "output_type": "stream",
     "text": [
      "==> Training on device cuda:0\n",
      "\n",
      "[0 / 0]\n",
      "[0 / 1024]\n",
      "[0 / 2048]\n",
      "[0 / 3072]\n",
      "[0 / 4096]\n",
      "[0 / 5120]\n",
      "[0 / 6144]\n",
      "[0 / 7168]\n",
      "[0 / 8192]\n",
      "[0 / 9]\n",
      "\tTraining loss: 6.0437731008278206e-05\n",
      "\tValidation loss: 3.7146146496525034e-05\n",
      "\n",
      "[0 / 10240]\n",
      "[0 / 11264]\n",
      "[0 / 12288]\n",
      "[0 / 13312]\n",
      "[0 / 14336]\n",
      "[0 / 15360]\n",
      "[0 / 16384]\n",
      "[0 / 17408]\n",
      "[0 / 18432]\n",
      "[0 / 19]\n",
      "\tTraining loss: 4.766665006172843e-05\n",
      "\tValidation loss: 5.6966731790453196e-05\n",
      "\n",
      "[0 / 20480]\n",
      "[0 / 21504]\n",
      "[0 / 22528]\n",
      "[0 / 23552]\n",
      "[0 / 24576]\n",
      "[0 / 25600]\n",
      "[0 / 26624]\n",
      "[0 / 27648]\n",
      "[0 / 28672]\n",
      "[0 / 29]\n",
      "\tTraining loss: 8.147177140926942e-06\n",
      "\tValidation loss: 8.497888302372303e-06\n",
      "\n",
      "[0 / 30720]\n",
      "[0 / 31744]\n",
      "[0 / 32768]\n",
      "[0 / 33792]\n",
      "[0 / 34816]\n",
      "[0 / 35840]\n",
      "[0 / 36864]\n",
      "[0 / 37888]\n",
      "[0 / 38912]\n",
      "[0 / 39]\n",
      "\tTraining loss: 6.744295660610078e-06\n",
      "\tValidation loss: 1.0524409844947513e-05\n",
      "\n",
      "[0 / 40960]\n",
      "[0 / 41984]\n",
      "[0 / 43008]\n",
      "[0 / 44032]\n",
      "[0 / 45056]\n",
      "[0 / 46080]\n",
      "[0 / 47104]\n",
      "[1 / 48000]\n",
      "[1 / 49024]\n",
      "[1 / 2]\n",
      "\tTraining loss: 9.838466212386265e-06\n",
      "\tValidation loss: 9.15882810659241e-06\n",
      "\n",
      "[1 / 51072]\n",
      "[1 / 52096]\n",
      "[1 / 53120]\n",
      "[1 / 54144]\n",
      "[1 / 55168]\n",
      "[1 / 56192]\n",
      "[1 / 57216]\n",
      "[1 / 58240]\n",
      "[1 / 59264]\n",
      "[1 / 12]\n",
      "\tTraining loss: 7.095542514434783e-06\n",
      "\tValidation loss: 8.807590347714722e-06\n",
      "\n",
      "[1 / 61312]\n",
      "[1 / 62336]\n",
      "[1 / 63360]\n",
      "[1 / 64384]\n",
      "[1 / 65408]\n",
      "[1 / 66432]\n",
      "[1 / 67456]\n",
      "[1 / 68480]\n",
      "[1 / 69504]\n",
      "[1 / 22]\n",
      "\tTraining loss: 1.3270378985907882e-05\n",
      "\tValidation loss: 8.543159310647752e-06\n",
      "\n",
      "[1 / 71552]\n",
      "[1 / 72576]\n",
      "[1 / 73600]\n",
      "[1 / 74624]\n",
      "[1 / 75648]\n",
      "[1 / 76672]\n",
      "[1 / 77696]\n",
      "[1 / 78720]\n",
      "[1 / 79744]\n",
      "[1 / 32]\n",
      "\tTraining loss: 1.0903097063419409e-05\n",
      "\tValidation loss: 6.617303370148875e-06\n",
      "\n",
      "[1 / 81792]\n",
      "[1 / 82816]\n",
      "[1 / 83840]\n",
      "[1 / 84864]\n",
      "[1 / 85888]\n",
      "[1 / 86912]\n",
      "[1 / 87936]\n",
      "[1 / 88960]\n",
      "[1 / 89984]\n",
      "[1 / 42]\n",
      "\tTraining loss: 1.0826937796082348e-05\n",
      "\tValidation loss: 7.416480002575554e-06\n",
      "\n",
      "[1 / 92032]\n",
      "[1 / 93056]\n",
      "[1 / 94080]\n",
      "[1 / 95104]\n",
      "[2 / 96000]\n",
      "[2 / 97024]\n",
      "[2 / 98048]\n",
      "[2 / 99072]\n",
      "[2 / 100096]\n",
      "[2 / 5]\n",
      "\tTraining loss: 9.532240255794022e-06\n",
      "\tValidation loss: 5.745918770116987e-06\n",
      "\n",
      "[2 / 102144]\n",
      "[2 / 103168]\n",
      "[2 / 104192]\n",
      "[2 / 105216]\n",
      "[2 / 106240]\n",
      "[2 / 107264]\n",
      "[2 / 108288]\n",
      "[2 / 109312]\n",
      "[2 / 110336]\n",
      "[2 / 15]\n",
      "\tTraining loss: 3.615962214098545e-06\n",
      "\tValidation loss: 7.318037205550354e-06\n",
      "\n",
      "[2 / 112384]\n",
      "[2 / 113408]\n",
      "[2 / 114432]\n",
      "[2 / 115456]\n",
      "[2 / 116480]\n",
      "[2 / 117504]\n",
      "[2 / 118528]\n",
      "[2 / 119552]\n",
      "[2 / 120576]\n",
      "[2 / 25]\n",
      "\tTraining loss: 5.0597564040799625e-06\n",
      "\tValidation loss: 5.709324796043802e-06\n",
      "\n",
      "[2 / 122624]\n",
      "[2 / 123648]\n",
      "[2 / 124672]\n",
      "[2 / 125696]\n",
      "[2 / 126720]\n",
      "[2 / 127744]\n",
      "[2 / 128768]\n",
      "[2 / 129792]\n",
      "[2 / 130816]\n",
      "[2 / 35]\n",
      "\tTraining loss: 4.051886662637116e-06\n",
      "\tValidation loss: 6.804900294810068e-06\n",
      "\n",
      "[2 / 132864]\n",
      "[2 / 133888]\n",
      "[2 / 134912]\n",
      "[2 / 135936]\n",
      "[2 / 136960]\n",
      "[2 / 137984]\n",
      "[2 / 139008]\n",
      "[2 / 140032]\n",
      "[2 / 141056]\n",
      "[2 / 45]\n"
     ]
    },
    {
     "ename": "KeyboardInterrupt",
     "evalue": "",
     "output_type": "error",
     "traceback": [
      "\u001b[0;31m---------------------------------------------------------------------------\u001b[0m",
      "\u001b[0;31mKeyboardInterrupt\u001b[0m                         Traceback (most recent call last)",
      "\u001b[0;32m<ipython-input-31-2df737a245e1>\u001b[0m in \u001b[0;36m<module>\u001b[0;34m\u001b[0m\n\u001b[1;32m      6\u001b[0m     \u001b[0mts\u001b[0m \u001b[0;34m=\u001b[0m \u001b[0mtime\u001b[0m\u001b[0;34m.\u001b[0m\u001b[0mtime\u001b[0m\u001b[0;34m(\u001b[0m\u001b[0;34m)\u001b[0m\u001b[0;34m\u001b[0m\u001b[0;34m\u001b[0m\u001b[0m\n\u001b[1;32m      7\u001b[0m \u001b[0;34m\u001b[0m\u001b[0m\n\u001b[0;32m----> 8\u001b[0;31m     training_history = train_model_online(\n\u001b[0m\u001b[1;32m      9\u001b[0m         \u001b[0mnet\u001b[0m \u001b[0;34m=\u001b[0m \u001b[0mnet\u001b[0m\u001b[0;34m,\u001b[0m\u001b[0;34m\u001b[0m\u001b[0;34m\u001b[0m\u001b[0m\n\u001b[1;32m     10\u001b[0m         \u001b[0mpath\u001b[0m \u001b[0;34m=\u001b[0m \u001b[0mos\u001b[0m\u001b[0;34m.\u001b[0m\u001b[0mpath\u001b[0m\u001b[0;34m.\u001b[0m\u001b[0mjoin\u001b[0m\u001b[0;34m(\u001b[0m\u001b[0mBASE_PATH\u001b[0m\u001b[0;34m,\u001b[0m \u001b[0;34m\"tmp\"\u001b[0m\u001b[0;34m)\u001b[0m\u001b[0;34m,\u001b[0m\u001b[0;34m\u001b[0m\u001b[0;34m\u001b[0m\u001b[0m\n",
      "\u001b[0;32m~/Escritorio/5ºDGIIM/VC/Practicas/PracticaFinal/ComputerVisionPracticaFinal/core.py\u001b[0m in \u001b[0;36mtrain_model_online\u001b[0;34m(net, path, parameters, train_loader, validation_loader, name, logger, snapshot_iterations)\u001b[0m\n\u001b[1;32m    294\u001b[0m             \u001b[0;32mif\u001b[0m \u001b[0mcurrent_seen_batches\u001b[0m \u001b[0;34m==\u001b[0m \u001b[0;36m10\u001b[0m\u001b[0;34m:\u001b[0m\u001b[0;34m\u001b[0m\u001b[0;34m\u001b[0m\u001b[0m\n\u001b[1;32m    295\u001b[0m                 \u001b[0;31m# Log and return loss from training and validation\u001b[0m\u001b[0;34m\u001b[0m\u001b[0;34m\u001b[0m\u001b[0;34m\u001b[0m\u001b[0m\n\u001b[0;32m--> 296\u001b[0;31m                 \u001b[0mtraining_loss\u001b[0m\u001b[0;34m,\u001b[0m \u001b[0mvalidation_loss\u001b[0m \u001b[0;34m=\u001b[0m \u001b[0mlogger\u001b[0m\u001b[0;34m.\u001b[0m\u001b[0mlog_process\u001b[0m\u001b[0;34m(\u001b[0m\u001b[0mtrain_loader\u001b[0m\u001b[0;34m,\u001b[0m \u001b[0mvalidation_loader\u001b[0m\u001b[0;34m,\u001b[0m \u001b[0mepoch\u001b[0m\u001b[0;34m,\u001b[0m \u001b[0mi\u001b[0m\u001b[0;34m)\u001b[0m\u001b[0;34m\u001b[0m\u001b[0;34m\u001b[0m\u001b[0m\n\u001b[0m\u001b[1;32m    297\u001b[0m \u001b[0;34m\u001b[0m\u001b[0m\n\u001b[1;32m    298\u001b[0m                 \u001b[0;31m# Save loss of training and validation sets\u001b[0m\u001b[0;34m\u001b[0m\u001b[0;34m\u001b[0m\u001b[0;34m\u001b[0m\u001b[0m\n",
      "\u001b[0;32m~/Escritorio/5ºDGIIM/VC/Practicas/PracticaFinal/ComputerVisionPracticaFinal/train_loggers.py\u001b[0m in \u001b[0;36mlog_process\u001b[0;34m(self, train_loader, validation_loader, epoch, iteration)\u001b[0m\n\u001b[1;32m    244\u001b[0m \u001b[0;34m\u001b[0m\u001b[0m\n\u001b[1;32m    245\u001b[0m             \u001b[0;31m# Funcion de perdida en validacion\u001b[0m\u001b[0;34m\u001b[0m\u001b[0;34m\u001b[0m\u001b[0;34m\u001b[0m\u001b[0m\n\u001b[0;32m--> 246\u001b[0;31m             \u001b[0mmean_val_loss\u001b[0m \u001b[0;34m=\u001b[0m \u001b[0mmetric\u001b[0m\u001b[0;34m(\u001b[0m\u001b[0mself\u001b[0m\u001b[0;34m.\u001b[0m\u001b[0mnet\u001b[0m\u001b[0;34m,\u001b[0m \u001b[0mvalidation_loader\u001b[0m\u001b[0;34m,\u001b[0m \u001b[0mself\u001b[0m\u001b[0;34m.\u001b[0m\u001b[0mloss_func\u001b[0m\u001b[0;34m,\u001b[0m \u001b[0mvalidation_max_examples\u001b[0m\u001b[0;34m)\u001b[0m\u001b[0;34m\u001b[0m\u001b[0;34m\u001b[0m\u001b[0m\n\u001b[0m\u001b[1;32m    247\u001b[0m \u001b[0;34m\u001b[0m\u001b[0m\n\u001b[1;32m    248\u001b[0m         \u001b[0;31m# Volvemos a poner la red en modo entrenamiento\u001b[0m\u001b[0;34m\u001b[0m\u001b[0;34m\u001b[0m\u001b[0;34m\u001b[0m\u001b[0m\n",
      "\u001b[0;32m~/Escritorio/5ºDGIIM/VC/Practicas/PracticaFinal/ComputerVisionPracticaFinal/metrics.py\u001b[0m in \u001b[0;36mcalculate_mean_triplet_loss_online\u001b[0;34m(net, data_loader, loss_function, max_examples)\u001b[0m\n\u001b[1;32m    155\u001b[0m \u001b[0;34m\u001b[0m\u001b[0m\n\u001b[1;32m    156\u001b[0m         \u001b[0;31m# Calculate loss\u001b[0m\u001b[0;34m\u001b[0m\u001b[0;34m\u001b[0m\u001b[0;34m\u001b[0m\u001b[0m\n\u001b[0;32m--> 157\u001b[0;31m         \u001b[0macumulated_loss\u001b[0m \u001b[0;34m+=\u001b[0m \u001b[0mloss_function\u001b[0m\u001b[0;34m(\u001b[0m\u001b[0membeddings\u001b[0m\u001b[0;34m,\u001b[0m \u001b[0mlabels\u001b[0m\u001b[0;34m)\u001b[0m\u001b[0;34m\u001b[0m\u001b[0;34m\u001b[0m\u001b[0m\n\u001b[0m\u001b[1;32m    158\u001b[0m \u001b[0;34m\u001b[0m\u001b[0m\n\u001b[1;32m    159\u001b[0m         \u001b[0;31m# Update seen examples\u001b[0m\u001b[0;34m\u001b[0m\u001b[0;34m\u001b[0m\u001b[0;34m\u001b[0m\u001b[0m\n",
      "\u001b[0;32m~/.local/lib/python3.8/site-packages/torch/nn/modules/module.py\u001b[0m in \u001b[0;36m_call_impl\u001b[0;34m(self, *input, **kwargs)\u001b[0m\n\u001b[1;32m   1100\u001b[0m         if not (self._backward_hooks or self._forward_hooks or self._forward_pre_hooks or _global_backward_hooks\n\u001b[1;32m   1101\u001b[0m                 or _global_forward_hooks or _global_forward_pre_hooks):\n\u001b[0;32m-> 1102\u001b[0;31m             \u001b[0;32mreturn\u001b[0m \u001b[0mforward_call\u001b[0m\u001b[0;34m(\u001b[0m\u001b[0;34m*\u001b[0m\u001b[0minput\u001b[0m\u001b[0;34m,\u001b[0m \u001b[0;34m**\u001b[0m\u001b[0mkwargs\u001b[0m\u001b[0;34m)\u001b[0m\u001b[0;34m\u001b[0m\u001b[0;34m\u001b[0m\u001b[0m\n\u001b[0m\u001b[1;32m   1103\u001b[0m         \u001b[0;31m# Do not call functions when jit is used\u001b[0m\u001b[0;34m\u001b[0m\u001b[0;34m\u001b[0m\u001b[0;34m\u001b[0m\u001b[0m\n\u001b[1;32m   1104\u001b[0m         \u001b[0mfull_backward_hooks\u001b[0m\u001b[0;34m,\u001b[0m \u001b[0mnon_full_backward_hooks\u001b[0m \u001b[0;34m=\u001b[0m \u001b[0;34m[\u001b[0m\u001b[0;34m]\u001b[0m\u001b[0;34m,\u001b[0m \u001b[0;34m[\u001b[0m\u001b[0;34m]\u001b[0m\u001b[0;34m\u001b[0m\u001b[0;34m\u001b[0m\u001b[0m\n",
      "\u001b[0;32m<ipython-input-24-747393d3eaab>\u001b[0m in \u001b[0;36mforward\u001b[0;34m(self, embeddings, labels)\u001b[0m\n\u001b[1;32m     59\u001b[0m             \u001b[0;31m# de la distancia). Para poder usar argmax pasamos todo esto\u001b[0m\u001b[0;34m\u001b[0m\u001b[0;34m\u001b[0m\u001b[0;34m\u001b[0m\u001b[0m\n\u001b[1;32m     60\u001b[0m             \u001b[0;31m# a un unico tensor\u001b[0m\u001b[0;34m\u001b[0m\u001b[0;34m\u001b[0m\u001b[0;34m\u001b[0m\u001b[0m\n\u001b[0;32m---> 61\u001b[0;31m             \u001b[0mpositive_distances\u001b[0m \u001b[0;34m=\u001b[0m \u001b[0mtorch\u001b[0m\u001b[0;34m.\u001b[0m\u001b[0mtensor\u001b[0m\u001b[0;34m(\u001b[0m\u001b[0mpositive_distances\u001b[0m\u001b[0;34m)\u001b[0m\u001b[0;34m\u001b[0m\u001b[0;34m\u001b[0m\u001b[0m\n\u001b[0m\u001b[1;32m     62\u001b[0m             \u001b[0mnegative_distances\u001b[0m \u001b[0;34m=\u001b[0m \u001b[0mtorch\u001b[0m\u001b[0;34m.\u001b[0m\u001b[0mtensor\u001b[0m\u001b[0;34m(\u001b[0m\u001b[0mnegative_distances\u001b[0m\u001b[0;34m)\u001b[0m\u001b[0;34m\u001b[0m\u001b[0;34m\u001b[0m\u001b[0m\n\u001b[1;32m     63\u001b[0m \u001b[0;34m\u001b[0m\u001b[0m\n",
      "\u001b[0;31mKeyboardInterrupt\u001b[0m: "
     ]
    }
   ],
   "source": [
    "# Entrenamos solo si lo especifica\n",
    "# el parametro que controla el uso de cache\n",
    "if USE_CACHED_MODEL is False:\n",
    "\n",
    "    # Para saber cuanto tarda\n",
    "    ts = time.time()\n",
    "\n",
    "    training_history = train_model_online(\n",
    "        net = net,\n",
    "        path = os.path.join(BASE_PATH, \"tmp\"),\n",
    "        parameters = parameters,\n",
    "        train_loader = train_loader,\n",
    "        validation_loader = validation_loader,\n",
    "        name = \"SiameseNetworkOnline\",\n",
    "        logger = logger,\n",
    "        snapshot_iterations = None\n",
    "    )\n",
    "\n",
    "    # Calculamos cuanto ha tardado\n",
    "    te = time.time()\n",
    "    print(f\"Ha tardado {te - ts}\")\n",
    "    \n",
    "    # Actualizamos la cache del modelo\n",
    "    filesystem.save_model(net, MODEL_CACHE_FOLDER, \"online_model_cached\")\n",
    "    \n",
    "# Nos saltamos el entrenamiento y cargamos el modelo desde la cache\n",
    "else:\n",
    "       \n",
    "    net = filesystem.load_model(\n",
    "        os.path.join(MODEL_CACHE_FOLDER, \"online_model_cached\"), \n",
    "        lambda: ResNet18(EMBEDDING_DIMENSION)\n",
    "    )\n",
    "    \n",
    "    # Tenemos que cargar la red en la memoria correspondiente\n",
    "    device = core.get_device()\n",
    "    net.to(device)\n",
    "    \n",
    "# A partir de este punto no hacemos entrenamiento\n",
    "# asi que ponemos la red en modo evaluacion para que \n",
    "# no vaya almacenando los gradientes\n",
    "net.eval()"
   ]
  },
  {
   "cell_type": "code",
   "execution_count": null,
   "id": "b4b7a6cf",
   "metadata": {
    "id": "0pkoiSZZJtkR"
   },
   "outputs": [],
   "source": [
    "# Entrenamos solo si lo especifica\n",
    "# el parametro que controla el uso de cache\n",
    "if USE_CACHED_MODEL is False:\n",
    "        \n",
    "    # Al principio tenemos un pico de error que hace \n",
    "    # que la grafica no sea legible. Ignoramos las primeras metricas\n",
    "    # de error para que la grafica sea legible\n",
    "    cut = 5\n",
    "    training_history[\"loss\"] = training_history[\"loss\"][cut:]\n",
    "    training_history[\"val_loss\"] = training_history[\"val_loss\"][cut:]\n",
    "\n",
    "    show_learning_curve(training_history)"
   ]
  },
  {
   "cell_type": "markdown",
   "id": "64fe7656",
   "metadata": {
    "id": "m8LyGH8-JtkS"
   },
   "source": [
    "## Evaluación del modelo\n",
    "\n",
    "- Mostramos algunas métricas fundamentales sobre el conjunto de"
   ]
  },
  {
   "cell_type": "code",
   "execution_count": 32,
   "id": "39278b17",
   "metadata": {
    "colab": {
     "base_uri": "https://localhost:8080/"
    },
    "id": "Ktk6SimmJtkS",
    "outputId": "8c1df203-1fe9-423d-96ee-f32bd9f18ed2"
   },
   "outputs": [
    {
     "name": "stdout",
     "output_type": "stream",
     "text": [
      "Test Loss: 3.5187258617952466e-06\n"
     ]
    }
   ],
   "source": [
    "with torch.no_grad():\n",
    "    net.set_permute(False)\n",
    "    \n",
    "    core.test_model_online(net, test_loader, parameters[\"criterion\"], online = True)\n",
    "    \n",
    "    net.set_permute(True)"
   ]
  },
  {
   "cell_type": "markdown",
   "id": "ac022d09",
   "metadata": {
    "id": "EtEmhyr-JtkS"
   },
   "source": [
    "## Adaptamos el modelo a clasificador y evaluamos"
   ]
  },
  {
   "cell_type": "code",
   "execution_count": 40,
   "id": "851b98c1",
   "metadata": {
    "id": "4VQXSX9jJtkS",
    "scrolled": true
   },
   "outputs": [],
   "source": [
    "with torch.no_grad():\n",
    "    try_to_clean_memory()\n",
    "    classifier = EmbeddingToClassifier(net, k = NUMBER_NEIGHBOURS, data_loader = train_loader)"
   ]
  },
  {
   "cell_type": "markdown",
   "id": "f381eb85",
   "metadata": {
    "id": "i65sg5MAJtkS"
   },
   "source": [
    "Evaluamos este clasificador en un conjunto pequeño de imágenes de test. Más adelante tomamos métricas de dicho clasificador:"
   ]
  },
  {
   "cell_type": "code",
   "execution_count": 38,
   "id": "4b7b13d4",
   "metadata": {
    "id": "8ic4eeWoJtkS"
   },
   "outputs": [
    {
     "name": "stdout",
     "output_type": "stream",
     "text": [
      "Etiqueta verdadera: 9, etiqueta predicha: 7\n",
      "Etiqueta verdadera: 2, etiqueta predicha: 4\n",
      "Etiqueta verdadera: 1, etiqueta predicha: 1\n",
      "Etiqueta verdadera: 1, etiqueta predicha: 1\n",
      "Etiqueta verdadera: 6, etiqueta predicha: 6\n",
      "Etiqueta verdadera: 1, etiqueta predicha: 3\n",
      "Etiqueta verdadera: 4, etiqueta predicha: 4\n",
      "Etiqueta verdadera: 6, etiqueta predicha: 4\n",
      "Etiqueta verdadera: 5, etiqueta predicha: 5\n",
      "Etiqueta verdadera: 7, etiqueta predicha: 5\n",
      "Etiqueta verdadera: 4, etiqueta predicha: 4\n",
      "Etiqueta verdadera: 5, etiqueta predicha: 7\n",
      "Etiqueta verdadera: 7, etiqueta predicha: 5\n",
      "Etiqueta verdadera: 3, etiqueta predicha: 3\n",
      "Etiqueta verdadera: 4, etiqueta predicha: 4\n",
      "Etiqueta verdadera: 1, etiqueta predicha: 1\n",
      "Etiqueta verdadera: 2, etiqueta predicha: 6\n",
      "Etiqueta verdadera: 4, etiqueta predicha: 3\n",
      "Etiqueta verdadera: 8, etiqueta predicha: 8\n",
      "Etiqueta verdadera: 0, etiqueta predicha: 0\n"
     ]
    }
   ],
   "source": [
    "with torch.no_grad():\n",
    "    # Hacemos esto y no `in test_dataset[:max_iterations]`\n",
    "    # para no tener que tomar todo el dataset y quedarnos con\n",
    "    # una parte de el, que es un proceso mucho mas lento que usar\n",
    "    # el iterador que da `in test_dataset` y parar con el contador\n",
    "    counter = 0\n",
    "    max_iterations = 20\n",
    "    \n",
    "    for img, img_class in test_dataset:\n",
    "        predicted_class = classifier.predict(img)\n",
    "        print(f\"Etiqueta verdadera: {img_class}, etiqueta predicha: {predicted_class[0]}\")\n",
    "    \n",
    "        # Actualizamos el contador\n",
    "        counter += 1\n",
    "        if counter == max_iterations: break"
   ]
  },
  {
   "cell_type": "markdown",
   "id": "17b26035",
   "metadata": {
    "id": "CjrZ17BLJtkS"
   },
   "source": [
    "## Plot del embedding\n",
    "\n",
    "- Aprovechamos el cálculo realizado en la clase que realiza la adaptación a clasificación para mostrar gráficamente el embedding calculado\n",
    "- Esta gráfica solo la visualizamos cuando el embedding tiene dimensión 2"
   ]
  },
  {
   "cell_type": "code",
   "execution_count": 35,
   "id": "a96e2917",
   "metadata": {
    "id": "TXndfQEiJtkS"
   },
   "outputs": [
    {
     "data": {
      "image/png": "[encoded data removed]",
      "text/plain": [
       "<Figure size 432x288 with 1 Axes>"
      ]
     },
     "metadata": {
      "needs_background": "light"
     },
     "output_type": "display_data"
    }
   ],
   "source": [
    "with torch.no_grad():\n",
    "    classifier.scatter_plot()"
   ]
  },
  {
   "cell_type": "markdown",
   "id": "a0bd153c",
   "metadata": {
    "id": "8Yf-VR_yJtkT"
   },
   "source": [
    "## Evaluación del clasificador obtenido\n",
    "\n",
    "- Ahora que hemos adaptado el modelo para usarlo como clasificador, podemos consultar ciertas métricas de clasificación"
   ]
  },
  {
   "cell_type": "code",
   "execution_count": 77,
   "id": "5a490c5b",
   "metadata": {
    "id": "IJAmWKahJtkT"
   },
   "outputs": [
    {
     "name": "stdout",
     "output_type": "stream",
     "text": [
      "{'test_acc': 0.6647135416666666,\n",
      " 'test_confusion_matrix': array([[1854,    5,   29,   68,   12,    1,  107,    0,    6,    1],\n",
      "       [  32, 1934,    6,  169,    8,    1,    3,    0,   14,    0],\n",
      "       [  73,   26, 1652,   33,  163,    1,  158,    0,   52,    0],\n",
      "       [ 152,  173,  137, 1577,   79,    0,   42,    0,   21,    1],\n",
      "       [  69,   60,  525,  253, 1047,    2,   85,    0,  118,    0],\n",
      "       [   0,    1,    7,    1,   14, 1573,    0,  264,   81,  213],\n",
      "       [ 378,   35,  585,  109,  187,    4,  823,    0,   47,    0],\n",
      "       [   0,    0,    0,    0,    0,  550,    0, 1315,    4,  254],\n",
      "       [  54,   42,  289,   84,  206,  119,   52,    9, 1240,   44],\n",
      "       [   0,    0,    0,    0,    4,  558,    1,  301,   28, 1279]]),\n",
      " 'test_roc_auc': 0.9492041393625371,\n",
      " 'test_silhouette': -0.00020569727,\n",
      " 'train_acc': 0.654296875,\n",
      " 'train_confusion_matrix': array([[183,   0,   1,   8,   3,   0,  11,   0,   1,   0],\n",
      "       [  3, 167,   0,  16,   3,   1,   0,   0,   1,   0],\n",
      "       [ 10,   5, 147,   0,  21,   0,  11,   0,   4,   0],\n",
      "       [ 18,  12,   9, 140,  11,   0,   5,   0,   2,   0],\n",
      "       [  7,  12,  51,  25,  87,   0,   6,   0,  12,   0],\n",
      "       [  0,   0,   1,   1,   1, 170,   0,  23,   4,  21],\n",
      "       [ 32,   3,  53,  10,  15,   2,  79,   0,   9,   0],\n",
      "       [  0,   0,   0,   0,   0,  65,   0, 129,   1,  30],\n",
      "       [  8,   6,  29,   9,  18,  10,   8,   3, 119,   6],\n",
      "       [  0,   0,   0,   0,   0,  46,   0,  22,   3, 119]]),\n",
      " 'train_roc_auc': 0.9497760858228296,\n",
      " 'train_silhouette': -0.0042713913}\n",
      "Matriz de confusion en TRAIN\n"
     ]
    },
    {
     "data": {
      "image/png": "[encoded data removed]",
      "text/plain": [
       "<Figure size 432x288 with 2 Axes>"
      ]
     },
     "metadata": {
      "needs_background": "light"
     },
     "output_type": "display_data"
    },
    {
     "name": "stdout",
     "output_type": "stream",
     "text": [
      "Matriz de confusion en TEST\n"
     ]
    },
    {
     "data": {
      "image/png": "[encoded data removed]",
      "text/plain": [
       "<Figure size 432x288 with 2 Axes>"
      ]
     },
     "metadata": {
      "needs_background": "light"
     },
     "output_type": "display_data"
    }
   ],
   "source": [
    "with torch.no_grad():\n",
    "    try_to_clean_memory()\n",
    "    classifier.embedder.set_permute(False)\n",
    "    \n",
    "    metrics = evaluate_model(classifier, train_loader, test_loader)\n",
    "    pprint(metrics)\n",
    "    \n",
    "    plot_confusion_matrix(metrics[\"train_confusion_matrix\"], metrics[\"test_confusion_matrix\"])\n",
    "        \n",
    "    classifier.embedder.set_permute(True)"
   ]
  }
 ],
 "metadata": {
  "accelerator": "GPU",
  "colab": {
   "collapsed_sections": [],
   "name": "Notebook.ipynb",
   "provenance": [],
   "toc_visible": true
  },
  "kernelspec": {
   "display_name": "Python 3 (ipykernel)",
   "language": "python",
   "name": "python3"
  },
  "language_info": {
   "codemirror_mode": {
    "name": "ipython",
    "version": 3
   },
   "file_extension": ".py",
   "mimetype": "text/x-python",
   "name": "python",
   "nbconvert_exporter": "python",
   "pygments_lexer": "ipython3",
   "version": "3.10.1"
  },
  "widgets": {
   "application/vnd.jupyter.widget-state+json": {
    "3506c41fb23a49ed8aff66752a0f61cd": {
     "model_module": "@jupyter-widgets/controls",
     "model_module_version": "1.5.0",
     "model_name": "HTMLModel",
     "state": {
      "_dom_classes": [],
      "_model_module": "@jupyter-widgets/controls",
      "_model_module_version": "1.5.0",
      "_model_name": "HTMLModel",
      "_view_count": null,
      "_view_module": "@jupyter-widgets/controls",
      "_view_module_version": "1.5.0",
      "_view_name": "HTMLView",
      "description": "",
      "description_tooltip": null,
      "layout": "IPY_MODEL_6872efe971994a3db5627dd52ef129b8",
      "placeholder": "​",
      "style": "IPY_MODEL_f1a01ff42bbc47dfbe9eadf5c6219f27",
      "value": " 44.7M/44.7M [00:00&lt;00:00, 134MB/s]"
     }
    },
    "391d1f521ed24c1683d775f16acef309": {
     "model_module": "@jupyter-widgets/controls",
     "model_module_version": "1.5.0",
     "model_name": "DescriptionStyleModel",
     "state": {
      "_model_module": "@jupyter-widgets/controls",
      "_model_module_version": "1.5.0",
      "_model_name": "DescriptionStyleModel",
      "_view_count": null,
      "_view_module": "@jupyter-widgets/base",
      "_view_module_version": "1.2.0",
      "_view_name": "StyleView",
      "description_width": ""
     }
    },
    "514735748d684258804fb973fbc190f4": {
     "model_module": "@jupyter-widgets/base",
     "model_module_version": "1.2.0",
     "model_name": "LayoutModel",
     "state": {
      "_model_module": "@jupyter-widgets/base",
      "_model_module_version": "1.2.0",
      "_model_name": "LayoutModel",
      "_view_count": null,
      "_view_module": "@jupyter-widgets/base",
      "_view_module_version": "1.2.0",
      "_view_name": "LayoutView",
      "align_content": null,
      "align_items": null,
      "align_self": null,
      "border": null,
      "bottom": null,
      "display": null,
      "flex": null,
      "flex_flow": null,
      "grid_area": null,
      "grid_auto_columns": null,
      "grid_auto_flow": null,
      "grid_auto_rows": null,
      "grid_column": null,
      "grid_gap": null,
      "grid_row": null,
      "grid_template_areas": null,
      "grid_template_columns": null,
      "grid_template_rows": null,
      "height": null,
      "justify_content": null,
      "justify_items": null,
      "left": null,
      "margin": null,
      "max_height": null,
      "max_width": null,
      "min_height": null,
      "min_width": null,
      "object_fit": null,
      "object_position": null,
      "order": null,
      "overflow": null,
      "overflow_x": null,
      "overflow_y": null,
      "padding": null,
      "right": null,
      "top": null,
      "visibility": null,
      "width": null
     }
    },
    "59fa372102af437e872ddc755317ace3": {
     "model_module": "@jupyter-widgets/base",
     "model_module_version": "1.2.0",
     "model_name": "LayoutModel",
     "state": {
      "_model_module": "@jupyter-widgets/base",
      "_model_module_version": "1.2.0",
      "_model_name": "LayoutModel",
      "_view_count": null,
      "_view_module": "@jupyter-widgets/base",
      "_view_module_version": "1.2.0",
      "_view_name": "LayoutView",
      "align_content": null,
      "align_items": null,
      "align_self": null,
      "border": null,
      "bottom": null,
      "display": null,
      "flex": null,
      "flex_flow": null,
      "grid_area": null,
      "grid_auto_columns": null,
      "grid_auto_flow": null,
      "grid_auto_rows": null,
      "grid_column": null,
      "grid_gap": null,
      "grid_row": null,
      "grid_template_areas": null,
      "grid_template_columns": null,
      "grid_template_rows": null,
      "height": null,
      "justify_content": null,
      "justify_items": null,
      "left": null,
      "margin": null,
      "max_height": null,
      "max_width": null,
      "min_height": null,
      "min_width": null,
      "object_fit": null,
      "object_position": null,
      "order": null,
      "overflow": null,
      "overflow_x": null,
      "overflow_y": null,
      "padding": null,
      "right": null,
      "top": null,
      "visibility": null,
      "width": null
     }
    },
    "6872efe971994a3db5627dd52ef129b8": {
     "model_module": "@jupyter-widgets/base",
     "model_module_version": "1.2.0",
     "model_name": "LayoutModel",
     "state": {
      "_model_module": "@jupyter-widgets/base",
      "_model_module_version": "1.2.0",
      "_model_name": "LayoutModel",
      "_view_count": null,
      "_view_module": "@jupyter-widgets/base",
      "_view_module_version": "1.2.0",
      "_view_name": "LayoutView",
      "align_content": null,
      "align_items": null,
      "align_self": null,
      "border": null,
      "bottom": null,
      "display": null,
      "flex": null,
      "flex_flow": null,
      "grid_area": null,
      "grid_auto_columns": null,
      "grid_auto_flow": null,
      "grid_auto_rows": null,
      "grid_column": null,
      "grid_gap": null,
      "grid_row": null,
      "grid_template_areas": null,
      "grid_template_columns": null,
      "grid_template_rows": null,
      "height": null,
      "justify_content": null,
      "justify_items": null,
      "left": null,
      "margin": null,
      "max_height": null,
      "max_width": null,
      "min_height": null,
      "min_width": null,
      "object_fit": null,
      "object_position": null,
      "order": null,
      "overflow": null,
      "overflow_x": null,
      "overflow_y": null,
      "padding": null,
      "right": null,
      "top": null,
      "visibility": null,
      "width": null
     }
    },
    "7900469f93e348afaf06ec46c267aafe": {
     "model_module": "@jupyter-widgets/controls",
     "model_module_version": "1.5.0",
     "model_name": "FloatProgressModel",
     "state": {
      "_dom_classes": [],
      "_model_module": "@jupyter-widgets/controls",
      "_model_module_version": "1.5.0",
      "_model_name": "FloatProgressModel",
      "_view_count": null,
      "_view_module": "@jupyter-widgets/controls",
      "_view_module_version": "1.5.0",
      "_view_name": "ProgressView",
      "bar_style": "success",
      "description": "",
      "description_tooltip": null,
      "layout": "IPY_MODEL_514735748d684258804fb973fbc190f4",
      "max": 46830571,
      "min": 0,
      "orientation": "horizontal",
      "style": "IPY_MODEL_aee3520261b2424eba7b8db137c96917",
      "value": 46830571
     }
    },
    "8e471566377940048121bdc90fc36542": {
     "model_module": "@jupyter-widgets/controls",
     "model_module_version": "1.5.0",
     "model_name": "HBoxModel",
     "state": {
      "_dom_classes": [],
      "_model_module": "@jupyter-widgets/controls",
      "_model_module_version": "1.5.0",
      "_model_name": "HBoxModel",
      "_view_count": null,
      "_view_module": "@jupyter-widgets/controls",
      "_view_module_version": "1.5.0",
      "_view_name": "HBoxView",
      "box_style": "",
      "children": [
       "IPY_MODEL_b94777a9b73741bb962de704abfd987d",
       "IPY_MODEL_7900469f93e348afaf06ec46c267aafe",
       "IPY_MODEL_3506c41fb23a49ed8aff66752a0f61cd"
      ],
      "layout": "IPY_MODEL_59fa372102af437e872ddc755317ace3"
     }
    },
    "aee3520261b2424eba7b8db137c96917": {
     "model_module": "@jupyter-widgets/controls",
     "model_module_version": "1.5.0",
     "model_name": "ProgressStyleModel",
     "state": {
      "_model_module": "@jupyter-widgets/controls",
      "_model_module_version": "1.5.0",
      "_model_name": "ProgressStyleModel",
      "_view_count": null,
      "_view_module": "@jupyter-widgets/base",
      "_view_module_version": "1.2.0",
      "_view_name": "StyleView",
      "bar_color": null,
      "description_width": ""
     }
    },
    "b94777a9b73741bb962de704abfd987d": {
     "model_module": "@jupyter-widgets/controls",
     "model_module_version": "1.5.0",
     "model_name": "HTMLModel",
     "state": {
      "_dom_classes": [],
      "_model_module": "@jupyter-widgets/controls",
      "_model_module_version": "1.5.0",
      "_model_name": "HTMLModel",
      "_view_count": null,
      "_view_module": "@jupyter-widgets/controls",
      "_view_module_version": "1.5.0",
      "_view_name": "HTMLView",
      "description": "",
      "description_tooltip": null,
      "layout": "IPY_MODEL_fb5e31a7b6384ab7abd4b5e4842c19ee",
      "placeholder": "​",
      "style": "IPY_MODEL_391d1f521ed24c1683d775f16acef309",
      "value": "100%"
     }
    },
    "f1a01ff42bbc47dfbe9eadf5c6219f27": {
     "model_module": "@jupyter-widgets/controls",
     "model_module_version": "1.5.0",
     "model_name": "DescriptionStyleModel",
     "state": {
      "_model_module": "@jupyter-widgets/controls",
      "_model_module_version": "1.5.0",
      "_model_name": "DescriptionStyleModel",
      "_view_count": null,
      "_view_module": "@jupyter-widgets/base",
      "_view_module_version": "1.2.0",
      "_view_name": "StyleView",
      "description_width": ""
     }
    },
    "fb5e31a7b6384ab7abd4b5e4842c19ee": {
     "model_module": "@jupyter-widgets/base",
     "model_module_version": "1.2.0",
     "model_name": "LayoutModel",
     "state": {
      "_model_module": "@jupyter-widgets/base",
      "_model_module_version": "1.2.0",
      "_model_name": "LayoutModel",
      "_view_count": null,
      "_view_module": "@jupyter-widgets/base",
      "_view_module_version": "1.2.0",
      "_view_name": "LayoutView",
      "align_content": null,
      "align_items": null,
      "align_self": null,
      "border": null,
      "bottom": null,
      "display": null,
      "flex": null,
      "flex_flow": null,
      "grid_area": null,
      "grid_auto_columns": null,
      "grid_auto_flow": null,
      "grid_auto_rows": null,
      "grid_column": null,
      "grid_gap": null,
      "grid_row": null,
      "grid_template_areas": null,
      "grid_template_columns": null,
      "grid_template_rows": null,
      "height": null,
      "justify_content": null,
      "justify_items": null,
      "left": null,
      "margin": null,
      "max_height": null,
      "max_width": null,
      "min_height": null,
      "min_width": null,
      "object_fit": null,
      "object_position": null,
      "order": null,
      "overflow": null,
      "overflow_x": null,
      "overflow_y": null,
      "padding": null,
      "right": null,
      "top": null,
      "visibility": null,
      "width": null
     }
    }
   }
  }
 },
 "nbformat": 4,
 "nbformat_minor": 5
}
